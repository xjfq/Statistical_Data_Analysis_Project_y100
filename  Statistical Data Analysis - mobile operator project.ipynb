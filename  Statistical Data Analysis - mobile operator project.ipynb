{
 "cells": [
  {
   "cell_type": "markdown",
   "metadata": {},
   "source": [
    "# Megaline audience research"
   ]
  },
  {
   "cell_type": "markdown",
   "metadata": {},
   "source": [
    "### Table of Contents\n",
    "\n",
    "* [Preface](#Preface) \n",
    " <p/>  \n",
    "* [Step 1. General information](#Step-1.-General-information) \n",
    " <p/>        \n",
    "* [Step 2. Data preprocessing](#Step-2.-Data-preprocessing)         \n",
    "        \n",
    "    * [2.1 Missing values and errors](#2.1-Missing-values-and-errors)\n",
    "    \n",
    "    * [2.2 Data types conversion](#2.2-Data-types-conversion)\n",
    "    \n",
    "    * [2.3 Calls per month](#2.3-Calls-per-month)\n",
    "    \n",
    "    * [2.4 Number of text messages sent per month](#2.4-Number-of-text-messages-sent-per-month)\n",
    "    \n",
    "    * [2.5 Volume of data per month](#2.5-Volume-of-data-per-month)\n",
    "    \n",
    "    * [2.6 Getting tables united](#2.6-Tables-united)\n",
    "    \n",
    "    * [2.7 Profit](#2.7-Profit) \n",
    "       \n",
    " <p/>        \n",
    "* [Step 3. Analyzing the data](#Step-3.-Analyze-the-data)\n",
    " <p/>        \n",
    "\n",
    "* [Step 4. Test the hypotheses](#Step-4.-Test-the-hypotheses)\n",
    "<p/> \n",
    "\n",
    "* [Conclusions](#Conclusions)\n"
   ]
  },
  {
   "cell_type": "markdown",
   "metadata": {},
   "source": [
    "### Preface"
   ]
  },
  {
   "cell_type": "markdown",
   "metadata": {},
   "source": [
    "I personally would consider this unethical of the Megaline company to provide analysts with the customers data including personal names instead of id numbers only, at least as a customer I wouldn't agree to that, supposing I read the agreement. Marketing is generally a philosophically questionable practice, a science of objectivating humans as a means of obtaining profits, I think it works better when one takes it into account. "
   ]
  },
  {
   "cell_type": "markdown",
   "metadata": {},
   "source": [
    "Telecom operator Megaline offers its clients two prepaid plans, Surf and Ultimate. This reserch aims to find out which of the plans is more profitable in order to adjust the advertising budget.\n",
    "The task is to carry out a preliminary analysis of the plans based on a relatively small client selection, the data on 500 Megaline clients: who the clients are, where they're from, which plan they use, and the number of calls they made and text messages they sent in 2018. Below clients' behavior is being analyzed to determine which prepaid plan is more profitable. "
   ]
  },
  {
   "cell_type": "markdown",
   "metadata": {},
   "source": [
    "Condensed some imports here"
   ]
  },
  {
   "cell_type": "code",
   "execution_count": 1,
   "metadata": {},
   "outputs": [],
   "source": [
    "import pandas as pd\n",
    "import numpy as np\n",
    "import matplotlib.pyplot as plt\n",
    "import seaborn as sns "
   ]
  },
  {
   "cell_type": "markdown",
   "metadata": {},
   "source": [
    "### Step 1. General information"
   ]
  },
  {
   "cell_type": "code",
   "execution_count": 2,
   "metadata": {},
   "outputs": [],
   "source": [
    "try:\n",
    "    calls = pd.read_csv(r\"C:\\Megaline_data\\megaline_calls.csv\")\n",
    "    internet = pd.read_csv(r\"C:\\Megaline_data\\megaline_internet.csv\")\n",
    "    messages = pd.read_csv(r\"C:\\Megaline_data\\megaline_messages.csv\")\n",
    "    plans = pd.read_csv(r\"C:\\Megaline_data\\megaline_plans.csv\")\n",
    "    users = pd.read_csv(r\"C:\\Megaline_data\\megaline_users.csv\")\n",
    "    \n",
    "except:\n",
    "    calls = pd.read_csv('/datasets/megaline_calls.csv')\n",
    "    internet = pd.read_csv('/datasets/megaline_internet.csv')\n",
    "    messages = pd.read_csv('/datasets/megaline_messages.csv')\n",
    "    plans = pd.read_csv('/datasets/megaline_plans.csv')\n",
    "    users = pd.read_csv('/datasets/megaline_users.csv')"
   ]
  },
  {
   "cell_type": "markdown",
   "metadata": {},
   "source": [
    "The dataframes legend\n",
    "\n",
    "The users table (data on users):\n",
    "\n",
    "1. user_id — unique user identifier\n",
    "2. first_name — user's name\n",
    "3. last_name — user's last name\n",
    "4. age — user's age (years)\n",
    "5. reg_date — subscription date (dd, mm, yy)\n",
    "6. churn_date — the date the user stopped using the service (if the value is missing, the calling plan was being used when this data was retrieved)\n",
    "7. city — user's city of residence\n",
    "8. plan — calling plan name\n",
    "\n",
    "The calls table (data on calls):\n",
    "\n",
    "1. id — unique call identifier\n",
    "2. call_date — call date\n",
    "3. duration — call duration (in minutes)\n",
    "4. user_id — the identifier of the user making the call\n",
    "\n",
    "The messages table (data on texts):\n",
    "\n",
    "1. id — unique text message identifier\n",
    "2. message_date — text message date\n",
    "3. user_id — the identifier of the user sending the text\n",
    "\n",
    "The internet table (data on web sessions):\n",
    "\n",
    "1. id — unique session identifier\n",
    "2. mb_used — the volume of data spent during the session (in megabytes)\n",
    "3. session_date — web session date\n",
    "4. user_id — user identifier\n",
    "\n",
    "The plans table (data on the plans):\n",
    "\n",
    "1. plan_name — calling plan name\n",
    "2. usd_monthly_fee — monthly charge in US dollars\n",
    "3. minutes_included — monthly minute allowance\n",
    "4. messages_included — monthly text allowance\n",
    "5. mb_per_month_included — data volume allowance (in megabytes)\n",
    "6. usd_per_minute — price per minute after exceeding the package limits (e.g., if the package includes 100 minutes, the 101st 7. minute will be charged)\n",
    "8. usd_per_message — price per text after exceeding the package limits\n",
    "9. usd_per_gb — price per extra gigabyte of data after exceeding the package limits (1 GB = 1024 megabytes)"
   ]
  },
  {
   "cell_type": "code",
   "execution_count": 3,
   "metadata": {},
   "outputs": [
    {
     "name": "stdout",
     "output_type": "stream",
     "text": [
      "<class 'pandas.core.frame.DataFrame'>\n",
      "RangeIndex: 137735 entries, 0 to 137734\n",
      "Data columns (total 4 columns):\n",
      "id           137735 non-null object\n",
      "user_id      137735 non-null int64\n",
      "call_date    137735 non-null object\n",
      "duration     137735 non-null float64\n",
      "dtypes: float64(1), int64(1), object(2)\n",
      "memory usage: 4.2+ MB\n"
     ]
    }
   ],
   "source": [
    "calls.info()"
   ]
  },
  {
   "cell_type": "code",
   "execution_count": 4,
   "metadata": {},
   "outputs": [
    {
     "data": {
      "text/html": [
       "<div>\n",
       "<style scoped>\n",
       "    .dataframe tbody tr th:only-of-type {\n",
       "        vertical-align: middle;\n",
       "    }\n",
       "\n",
       "    .dataframe tbody tr th {\n",
       "        vertical-align: top;\n",
       "    }\n",
       "\n",
       "    .dataframe thead th {\n",
       "        text-align: right;\n",
       "    }\n",
       "</style>\n",
       "<table border=\"1\" class=\"dataframe\">\n",
       "  <thead>\n",
       "    <tr style=\"text-align: right;\">\n",
       "      <th></th>\n",
       "      <th>user_id</th>\n",
       "      <th>duration</th>\n",
       "    </tr>\n",
       "  </thead>\n",
       "  <tbody>\n",
       "    <tr>\n",
       "      <td>count</td>\n",
       "      <td>137735.000000</td>\n",
       "      <td>137735.000000</td>\n",
       "    </tr>\n",
       "    <tr>\n",
       "      <td>mean</td>\n",
       "      <td>1247.658046</td>\n",
       "      <td>6.745927</td>\n",
       "    </tr>\n",
       "    <tr>\n",
       "      <td>std</td>\n",
       "      <td>139.416268</td>\n",
       "      <td>5.839241</td>\n",
       "    </tr>\n",
       "    <tr>\n",
       "      <td>min</td>\n",
       "      <td>1000.000000</td>\n",
       "      <td>0.000000</td>\n",
       "    </tr>\n",
       "    <tr>\n",
       "      <td>25%</td>\n",
       "      <td>1128.000000</td>\n",
       "      <td>1.290000</td>\n",
       "    </tr>\n",
       "    <tr>\n",
       "      <td>50%</td>\n",
       "      <td>1247.000000</td>\n",
       "      <td>5.980000</td>\n",
       "    </tr>\n",
       "    <tr>\n",
       "      <td>75%</td>\n",
       "      <td>1365.000000</td>\n",
       "      <td>10.690000</td>\n",
       "    </tr>\n",
       "    <tr>\n",
       "      <td>max</td>\n",
       "      <td>1499.000000</td>\n",
       "      <td>37.600000</td>\n",
       "    </tr>\n",
       "  </tbody>\n",
       "</table>\n",
       "</div>"
      ],
      "text/plain": [
       "             user_id       duration\n",
       "count  137735.000000  137735.000000\n",
       "mean     1247.658046       6.745927\n",
       "std       139.416268       5.839241\n",
       "min      1000.000000       0.000000\n",
       "25%      1128.000000       1.290000\n",
       "50%      1247.000000       5.980000\n",
       "75%      1365.000000      10.690000\n",
       "max      1499.000000      37.600000"
      ]
     },
     "execution_count": 4,
     "metadata": {},
     "output_type": "execute_result"
    }
   ],
   "source": [
    "calls.describe()"
   ]
  },
  {
   "cell_type": "code",
   "execution_count": 5,
   "metadata": {},
   "outputs": [
    {
     "data": {
      "text/html": [
       "<div>\n",
       "<style scoped>\n",
       "    .dataframe tbody tr th:only-of-type {\n",
       "        vertical-align: middle;\n",
       "    }\n",
       "\n",
       "    .dataframe tbody tr th {\n",
       "        vertical-align: top;\n",
       "    }\n",
       "\n",
       "    .dataframe thead th {\n",
       "        text-align: right;\n",
       "    }\n",
       "</style>\n",
       "<table border=\"1\" class=\"dataframe\">\n",
       "  <thead>\n",
       "    <tr style=\"text-align: right;\">\n",
       "      <th></th>\n",
       "      <th>id</th>\n",
       "      <th>call_date</th>\n",
       "    </tr>\n",
       "  </thead>\n",
       "  <tbody>\n",
       "    <tr>\n",
       "      <td>count</td>\n",
       "      <td>137735</td>\n",
       "      <td>137735</td>\n",
       "    </tr>\n",
       "    <tr>\n",
       "      <td>unique</td>\n",
       "      <td>137735</td>\n",
       "      <td>351</td>\n",
       "    </tr>\n",
       "    <tr>\n",
       "      <td>top</td>\n",
       "      <td>1493_51</td>\n",
       "      <td>2018-12-27</td>\n",
       "    </tr>\n",
       "    <tr>\n",
       "      <td>freq</td>\n",
       "      <td>1</td>\n",
       "      <td>1091</td>\n",
       "    </tr>\n",
       "  </tbody>\n",
       "</table>\n",
       "</div>"
      ],
      "text/plain": [
       "             id   call_date\n",
       "count    137735      137735\n",
       "unique   137735         351\n",
       "top     1493_51  2018-12-27\n",
       "freq          1        1091"
      ]
     },
     "execution_count": 5,
     "metadata": {},
     "output_type": "execute_result"
    }
   ],
   "source": [
    "calls.describe(include='object')"
   ]
  },
  {
   "cell_type": "code",
   "execution_count": 6,
   "metadata": {},
   "outputs": [
    {
     "name": "stdout",
     "output_type": "stream",
     "text": [
      "<class 'pandas.core.frame.DataFrame'>\n",
      "RangeIndex: 104825 entries, 0 to 104824\n",
      "Data columns (total 4 columns):\n",
      "id              104825 non-null object\n",
      "user_id         104825 non-null int64\n",
      "session_date    104825 non-null object\n",
      "mb_used         104825 non-null float64\n",
      "dtypes: float64(1), int64(1), object(2)\n",
      "memory usage: 3.2+ MB\n"
     ]
    }
   ],
   "source": [
    "internet.info()"
   ]
  },
  {
   "cell_type": "code",
   "execution_count": 7,
   "metadata": {},
   "outputs": [
    {
     "data": {
      "text/html": [
       "<div>\n",
       "<style scoped>\n",
       "    .dataframe tbody tr th:only-of-type {\n",
       "        vertical-align: middle;\n",
       "    }\n",
       "\n",
       "    .dataframe tbody tr th {\n",
       "        vertical-align: top;\n",
       "    }\n",
       "\n",
       "    .dataframe thead th {\n",
       "        text-align: right;\n",
       "    }\n",
       "</style>\n",
       "<table border=\"1\" class=\"dataframe\">\n",
       "  <thead>\n",
       "    <tr style=\"text-align: right;\">\n",
       "      <th></th>\n",
       "      <th>user_id</th>\n",
       "      <th>mb_used</th>\n",
       "    </tr>\n",
       "  </thead>\n",
       "  <tbody>\n",
       "    <tr>\n",
       "      <td>count</td>\n",
       "      <td>104825.000000</td>\n",
       "      <td>104825.000000</td>\n",
       "    </tr>\n",
       "    <tr>\n",
       "      <td>mean</td>\n",
       "      <td>1242.496361</td>\n",
       "      <td>366.713701</td>\n",
       "    </tr>\n",
       "    <tr>\n",
       "      <td>std</td>\n",
       "      <td>142.053913</td>\n",
       "      <td>277.170542</td>\n",
       "    </tr>\n",
       "    <tr>\n",
       "      <td>min</td>\n",
       "      <td>1000.000000</td>\n",
       "      <td>0.000000</td>\n",
       "    </tr>\n",
       "    <tr>\n",
       "      <td>25%</td>\n",
       "      <td>1122.000000</td>\n",
       "      <td>136.080000</td>\n",
       "    </tr>\n",
       "    <tr>\n",
       "      <td>50%</td>\n",
       "      <td>1236.000000</td>\n",
       "      <td>343.980000</td>\n",
       "    </tr>\n",
       "    <tr>\n",
       "      <td>75%</td>\n",
       "      <td>1367.000000</td>\n",
       "      <td>554.610000</td>\n",
       "    </tr>\n",
       "    <tr>\n",
       "      <td>max</td>\n",
       "      <td>1499.000000</td>\n",
       "      <td>1693.470000</td>\n",
       "    </tr>\n",
       "  </tbody>\n",
       "</table>\n",
       "</div>"
      ],
      "text/plain": [
       "             user_id        mb_used\n",
       "count  104825.000000  104825.000000\n",
       "mean     1242.496361     366.713701\n",
       "std       142.053913     277.170542\n",
       "min      1000.000000       0.000000\n",
       "25%      1122.000000     136.080000\n",
       "50%      1236.000000     343.980000\n",
       "75%      1367.000000     554.610000\n",
       "max      1499.000000    1693.470000"
      ]
     },
     "execution_count": 7,
     "metadata": {},
     "output_type": "execute_result"
    }
   ],
   "source": [
    "internet.describe()"
   ]
  },
  {
   "cell_type": "code",
   "execution_count": 8,
   "metadata": {},
   "outputs": [
    {
     "data": {
      "text/html": [
       "<div>\n",
       "<style scoped>\n",
       "    .dataframe tbody tr th:only-of-type {\n",
       "        vertical-align: middle;\n",
       "    }\n",
       "\n",
       "    .dataframe tbody tr th {\n",
       "        vertical-align: top;\n",
       "    }\n",
       "\n",
       "    .dataframe thead th {\n",
       "        text-align: right;\n",
       "    }\n",
       "</style>\n",
       "<table border=\"1\" class=\"dataframe\">\n",
       "  <thead>\n",
       "    <tr style=\"text-align: right;\">\n",
       "      <th></th>\n",
       "      <th>id</th>\n",
       "      <th>session_date</th>\n",
       "    </tr>\n",
       "  </thead>\n",
       "  <tbody>\n",
       "    <tr>\n",
       "      <td>count</td>\n",
       "      <td>104825</td>\n",
       "      <td>104825</td>\n",
       "    </tr>\n",
       "    <tr>\n",
       "      <td>unique</td>\n",
       "      <td>104825</td>\n",
       "      <td>351</td>\n",
       "    </tr>\n",
       "    <tr>\n",
       "      <td>top</td>\n",
       "      <td>1493_51</td>\n",
       "      <td>2018-12-24</td>\n",
       "    </tr>\n",
       "    <tr>\n",
       "      <td>freq</td>\n",
       "      <td>1</td>\n",
       "      <td>851</td>\n",
       "    </tr>\n",
       "  </tbody>\n",
       "</table>\n",
       "</div>"
      ],
      "text/plain": [
       "             id session_date\n",
       "count    104825       104825\n",
       "unique   104825          351\n",
       "top     1493_51   2018-12-24\n",
       "freq          1          851"
      ]
     },
     "execution_count": 8,
     "metadata": {},
     "output_type": "execute_result"
    }
   ],
   "source": [
    "internet.describe(include='object')"
   ]
  },
  {
   "cell_type": "code",
   "execution_count": 9,
   "metadata": {},
   "outputs": [
    {
     "name": "stdout",
     "output_type": "stream",
     "text": [
      "<class 'pandas.core.frame.DataFrame'>\n",
      "RangeIndex: 76051 entries, 0 to 76050\n",
      "Data columns (total 3 columns):\n",
      "id              76051 non-null object\n",
      "user_id         76051 non-null int64\n",
      "message_date    76051 non-null object\n",
      "dtypes: int64(1), object(2)\n",
      "memory usage: 1.7+ MB\n"
     ]
    }
   ],
   "source": [
    "messages.info()"
   ]
  },
  {
   "cell_type": "code",
   "execution_count": 10,
   "metadata": {},
   "outputs": [
    {
     "data": {
      "text/html": [
       "<div>\n",
       "<style scoped>\n",
       "    .dataframe tbody tr th:only-of-type {\n",
       "        vertical-align: middle;\n",
       "    }\n",
       "\n",
       "    .dataframe tbody tr th {\n",
       "        vertical-align: top;\n",
       "    }\n",
       "\n",
       "    .dataframe thead th {\n",
       "        text-align: right;\n",
       "    }\n",
       "</style>\n",
       "<table border=\"1\" class=\"dataframe\">\n",
       "  <thead>\n",
       "    <tr style=\"text-align: right;\">\n",
       "      <th></th>\n",
       "      <th>user_id</th>\n",
       "    </tr>\n",
       "  </thead>\n",
       "  <tbody>\n",
       "    <tr>\n",
       "      <td>count</td>\n",
       "      <td>76051.000000</td>\n",
       "    </tr>\n",
       "    <tr>\n",
       "      <td>mean</td>\n",
       "      <td>1245.972768</td>\n",
       "    </tr>\n",
       "    <tr>\n",
       "      <td>std</td>\n",
       "      <td>139.843635</td>\n",
       "    </tr>\n",
       "    <tr>\n",
       "      <td>min</td>\n",
       "      <td>1000.000000</td>\n",
       "    </tr>\n",
       "    <tr>\n",
       "      <td>25%</td>\n",
       "      <td>1123.000000</td>\n",
       "    </tr>\n",
       "    <tr>\n",
       "      <td>50%</td>\n",
       "      <td>1251.000000</td>\n",
       "    </tr>\n",
       "    <tr>\n",
       "      <td>75%</td>\n",
       "      <td>1362.000000</td>\n",
       "    </tr>\n",
       "    <tr>\n",
       "      <td>max</td>\n",
       "      <td>1497.000000</td>\n",
       "    </tr>\n",
       "  </tbody>\n",
       "</table>\n",
       "</div>"
      ],
      "text/plain": [
       "            user_id\n",
       "count  76051.000000\n",
       "mean    1245.972768\n",
       "std      139.843635\n",
       "min     1000.000000\n",
       "25%     1123.000000\n",
       "50%     1251.000000\n",
       "75%     1362.000000\n",
       "max     1497.000000"
      ]
     },
     "execution_count": 10,
     "metadata": {},
     "output_type": "execute_result"
    }
   ],
   "source": [
    "messages.describe()"
   ]
  },
  {
   "cell_type": "code",
   "execution_count": 11,
   "metadata": {},
   "outputs": [
    {
     "data": {
      "text/html": [
       "<div>\n",
       "<style scoped>\n",
       "    .dataframe tbody tr th:only-of-type {\n",
       "        vertical-align: middle;\n",
       "    }\n",
       "\n",
       "    .dataframe tbody tr th {\n",
       "        vertical-align: top;\n",
       "    }\n",
       "\n",
       "    .dataframe thead th {\n",
       "        text-align: right;\n",
       "    }\n",
       "</style>\n",
       "<table border=\"1\" class=\"dataframe\">\n",
       "  <thead>\n",
       "    <tr style=\"text-align: right;\">\n",
       "      <th></th>\n",
       "      <th>id</th>\n",
       "      <th>message_date</th>\n",
       "    </tr>\n",
       "  </thead>\n",
       "  <tbody>\n",
       "    <tr>\n",
       "      <td>count</td>\n",
       "      <td>76051</td>\n",
       "      <td>76051</td>\n",
       "    </tr>\n",
       "    <tr>\n",
       "      <td>unique</td>\n",
       "      <td>76051</td>\n",
       "      <td>351</td>\n",
       "    </tr>\n",
       "    <tr>\n",
       "      <td>top</td>\n",
       "      <td>1247_194</td>\n",
       "      <td>2018-12-28</td>\n",
       "    </tr>\n",
       "    <tr>\n",
       "      <td>freq</td>\n",
       "      <td>1</td>\n",
       "      <td>702</td>\n",
       "    </tr>\n",
       "  </tbody>\n",
       "</table>\n",
       "</div>"
      ],
      "text/plain": [
       "              id message_date\n",
       "count      76051        76051\n",
       "unique     76051          351\n",
       "top     1247_194   2018-12-28\n",
       "freq           1          702"
      ]
     },
     "execution_count": 11,
     "metadata": {},
     "output_type": "execute_result"
    }
   ],
   "source": [
    "messages.describe(include='object')"
   ]
  },
  {
   "cell_type": "code",
   "execution_count": 12,
   "metadata": {},
   "outputs": [
    {
     "name": "stdout",
     "output_type": "stream",
     "text": [
      "<class 'pandas.core.frame.DataFrame'>\n",
      "RangeIndex: 500 entries, 0 to 499\n",
      "Data columns (total 8 columns):\n",
      "user_id       500 non-null int64\n",
      "first_name    500 non-null object\n",
      "last_name     500 non-null object\n",
      "age           500 non-null int64\n",
      "city          500 non-null object\n",
      "reg_date      500 non-null object\n",
      "plan          500 non-null object\n",
      "churn_date    34 non-null object\n",
      "dtypes: int64(2), object(6)\n",
      "memory usage: 31.4+ KB\n"
     ]
    }
   ],
   "source": [
    "users.info()"
   ]
  },
  {
   "cell_type": "code",
   "execution_count": 13,
   "metadata": {},
   "outputs": [
    {
     "data": {
      "text/html": [
       "<div>\n",
       "<style scoped>\n",
       "    .dataframe tbody tr th:only-of-type {\n",
       "        vertical-align: middle;\n",
       "    }\n",
       "\n",
       "    .dataframe tbody tr th {\n",
       "        vertical-align: top;\n",
       "    }\n",
       "\n",
       "    .dataframe thead th {\n",
       "        text-align: right;\n",
       "    }\n",
       "</style>\n",
       "<table border=\"1\" class=\"dataframe\">\n",
       "  <thead>\n",
       "    <tr style=\"text-align: right;\">\n",
       "      <th></th>\n",
       "      <th>user_id</th>\n",
       "      <th>age</th>\n",
       "    </tr>\n",
       "  </thead>\n",
       "  <tbody>\n",
       "    <tr>\n",
       "      <td>count</td>\n",
       "      <td>500.000000</td>\n",
       "      <td>500.000000</td>\n",
       "    </tr>\n",
       "    <tr>\n",
       "      <td>mean</td>\n",
       "      <td>1249.500000</td>\n",
       "      <td>45.486000</td>\n",
       "    </tr>\n",
       "    <tr>\n",
       "      <td>std</td>\n",
       "      <td>144.481833</td>\n",
       "      <td>16.972269</td>\n",
       "    </tr>\n",
       "    <tr>\n",
       "      <td>min</td>\n",
       "      <td>1000.000000</td>\n",
       "      <td>18.000000</td>\n",
       "    </tr>\n",
       "    <tr>\n",
       "      <td>25%</td>\n",
       "      <td>1124.750000</td>\n",
       "      <td>30.000000</td>\n",
       "    </tr>\n",
       "    <tr>\n",
       "      <td>50%</td>\n",
       "      <td>1249.500000</td>\n",
       "      <td>46.000000</td>\n",
       "    </tr>\n",
       "    <tr>\n",
       "      <td>75%</td>\n",
       "      <td>1374.250000</td>\n",
       "      <td>61.000000</td>\n",
       "    </tr>\n",
       "    <tr>\n",
       "      <td>max</td>\n",
       "      <td>1499.000000</td>\n",
       "      <td>75.000000</td>\n",
       "    </tr>\n",
       "  </tbody>\n",
       "</table>\n",
       "</div>"
      ],
      "text/plain": [
       "           user_id         age\n",
       "count   500.000000  500.000000\n",
       "mean   1249.500000   45.486000\n",
       "std     144.481833   16.972269\n",
       "min    1000.000000   18.000000\n",
       "25%    1124.750000   30.000000\n",
       "50%    1249.500000   46.000000\n",
       "75%    1374.250000   61.000000\n",
       "max    1499.000000   75.000000"
      ]
     },
     "execution_count": 13,
     "metadata": {},
     "output_type": "execute_result"
    }
   ],
   "source": [
    "users.describe()"
   ]
  },
  {
   "cell_type": "code",
   "execution_count": 14,
   "metadata": {},
   "outputs": [
    {
     "data": {
      "text/html": [
       "<div>\n",
       "<style scoped>\n",
       "    .dataframe tbody tr th:only-of-type {\n",
       "        vertical-align: middle;\n",
       "    }\n",
       "\n",
       "    .dataframe tbody tr th {\n",
       "        vertical-align: top;\n",
       "    }\n",
       "\n",
       "    .dataframe thead th {\n",
       "        text-align: right;\n",
       "    }\n",
       "</style>\n",
       "<table border=\"1\" class=\"dataframe\">\n",
       "  <thead>\n",
       "    <tr style=\"text-align: right;\">\n",
       "      <th></th>\n",
       "      <th>first_name</th>\n",
       "      <th>last_name</th>\n",
       "      <th>city</th>\n",
       "      <th>reg_date</th>\n",
       "      <th>plan</th>\n",
       "      <th>churn_date</th>\n",
       "    </tr>\n",
       "  </thead>\n",
       "  <tbody>\n",
       "    <tr>\n",
       "      <td>count</td>\n",
       "      <td>500</td>\n",
       "      <td>500</td>\n",
       "      <td>500</td>\n",
       "      <td>500</td>\n",
       "      <td>500</td>\n",
       "      <td>34</td>\n",
       "    </tr>\n",
       "    <tr>\n",
       "      <td>unique</td>\n",
       "      <td>458</td>\n",
       "      <td>399</td>\n",
       "      <td>73</td>\n",
       "      <td>266</td>\n",
       "      <td>2</td>\n",
       "      <td>29</td>\n",
       "    </tr>\n",
       "    <tr>\n",
       "      <td>top</td>\n",
       "      <td>Leonila</td>\n",
       "      <td>Grimes</td>\n",
       "      <td>New York-Newark-Jersey City, NY-NJ-PA MSA</td>\n",
       "      <td>2018-08-03</td>\n",
       "      <td>surf</td>\n",
       "      <td>2018-12-18</td>\n",
       "    </tr>\n",
       "    <tr>\n",
       "      <td>freq</td>\n",
       "      <td>3</td>\n",
       "      <td>3</td>\n",
       "      <td>80</td>\n",
       "      <td>5</td>\n",
       "      <td>339</td>\n",
       "      <td>3</td>\n",
       "    </tr>\n",
       "  </tbody>\n",
       "</table>\n",
       "</div>"
      ],
      "text/plain": [
       "       first_name last_name                                       city  \\\n",
       "count         500       500                                        500   \n",
       "unique        458       399                                         73   \n",
       "top       Leonila    Grimes  New York-Newark-Jersey City, NY-NJ-PA MSA   \n",
       "freq            3         3                                         80   \n",
       "\n",
       "          reg_date  plan  churn_date  \n",
       "count          500   500          34  \n",
       "unique         266     2          29  \n",
       "top     2018-08-03  surf  2018-12-18  \n",
       "freq             5   339           3  "
      ]
     },
     "execution_count": 14,
     "metadata": {},
     "output_type": "execute_result"
    }
   ],
   "source": [
    "users.describe(include='object')"
   ]
  },
  {
   "cell_type": "markdown",
   "metadata": {},
   "source": [
    "Do not see missing values yet. Some data types require conversions. Guess I'm gonna unite these sets in a whole dataframe.\n",
    "Looks legit so far, nothing much suspicious. Only 34 people unsubscribed from the plan, could be interesting to see more in the set."
   ]
  },
  {
   "cell_type": "code",
   "execution_count": 15,
   "metadata": {},
   "outputs": [
    {
     "data": {
      "text/html": [
       "<div>\n",
       "<style scoped>\n",
       "    .dataframe tbody tr th:only-of-type {\n",
       "        vertical-align: middle;\n",
       "    }\n",
       "\n",
       "    .dataframe tbody tr th {\n",
       "        vertical-align: top;\n",
       "    }\n",
       "\n",
       "    .dataframe thead th {\n",
       "        text-align: right;\n",
       "    }\n",
       "</style>\n",
       "<table border=\"1\" class=\"dataframe\">\n",
       "  <thead>\n",
       "    <tr style=\"text-align: right;\">\n",
       "      <th></th>\n",
       "      <th>messages_included</th>\n",
       "      <th>mb_per_month_included</th>\n",
       "      <th>minutes_included</th>\n",
       "      <th>usd_monthly_pay</th>\n",
       "      <th>usd_per_gb</th>\n",
       "      <th>usd_per_message</th>\n",
       "      <th>usd_per_minute</th>\n",
       "      <th>plan_name</th>\n",
       "    </tr>\n",
       "  </thead>\n",
       "  <tbody>\n",
       "    <tr>\n",
       "      <td>0</td>\n",
       "      <td>50</td>\n",
       "      <td>15360</td>\n",
       "      <td>500</td>\n",
       "      <td>20</td>\n",
       "      <td>10</td>\n",
       "      <td>0.03</td>\n",
       "      <td>0.03</td>\n",
       "      <td>surf</td>\n",
       "    </tr>\n",
       "    <tr>\n",
       "      <td>1</td>\n",
       "      <td>1000</td>\n",
       "      <td>30720</td>\n",
       "      <td>3000</td>\n",
       "      <td>70</td>\n",
       "      <td>7</td>\n",
       "      <td>0.01</td>\n",
       "      <td>0.01</td>\n",
       "      <td>ultimate</td>\n",
       "    </tr>\n",
       "  </tbody>\n",
       "</table>\n",
       "</div>"
      ],
      "text/plain": [
       "   messages_included  mb_per_month_included  minutes_included  \\\n",
       "0                 50                  15360               500   \n",
       "1               1000                  30720              3000   \n",
       "\n",
       "   usd_monthly_pay  usd_per_gb  usd_per_message  usd_per_minute plan_name  \n",
       "0               20          10             0.03            0.03      surf  \n",
       "1               70           7             0.01            0.01  ultimate  "
      ]
     },
     "execution_count": 15,
     "metadata": {},
     "output_type": "execute_result"
    }
   ],
   "source": [
    "plans"
   ]
  },
  {
   "cell_type": "markdown",
   "metadata": {},
   "source": [
    "And here I see general plans info"
   ]
  },
  {
   "cell_type": "markdown",
   "metadata": {},
   "source": [
    "Surf\n",
    "\n",
    "    Monthly charge: $20\n",
    "    500 monthly minutes, 50 texts, and 15 GB of data\n",
    "    After exceeding the package limits:\n",
    "        1 minute: 3 cents\n",
    "        1 text message: 3 cents\n",
    "        1 GB of data: $10\n",
    "\n",
    "Ultimate\n",
    "\n",
    "    Monthly charge: $70\n",
    "    3000 monthly minutes, 1000 text messages, and 30 GB of data\n",
    "    After exceeding the package limits:\n",
    "        1 minute: 1 cent\n",
    "        1 text message: 1 cent\n",
    "        1 GB of data: $7"
   ]
  },
  {
   "cell_type": "markdown",
   "metadata": {},
   "source": [
    "### Step 2. Data preprocessing"
   ]
  },
  {
   "cell_type": "markdown",
   "metadata": {},
   "source": [
    "##### 2.1 Missing values and errors"
   ]
  },
  {
   "cell_type": "code",
   "execution_count": 16,
   "metadata": {},
   "outputs": [
    {
     "name": "stdout",
     "output_type": "stream",
     "text": [
      "<class 'pandas.core.frame.DataFrame'>\n",
      "RangeIndex: 137735 entries, 0 to 137734\n",
      "Data columns (total 4 columns):\n",
      "id           137735 non-null object\n",
      "user_id      137735 non-null int64\n",
      "call_date    137735 non-null object\n",
      "duration     137735 non-null float64\n",
      "dtypes: float64(1), int64(1), object(2)\n",
      "memory usage: 4.2+ MB\n"
     ]
    }
   ],
   "source": [
    "calls.info()"
   ]
  },
  {
   "cell_type": "code",
   "execution_count": 17,
   "metadata": {},
   "outputs": [
    {
     "data": {
      "text/plain": [
       "481"
      ]
     },
     "execution_count": 17,
     "metadata": {},
     "output_type": "execute_result"
    }
   ],
   "source": [
    "len(calls['user_id'].unique())"
   ]
  },
  {
   "cell_type": "code",
   "execution_count": 18,
   "metadata": {},
   "outputs": [
    {
     "data": {
      "text/plain": [
       "478"
      ]
     },
     "execution_count": 18,
     "metadata": {},
     "output_type": "execute_result"
    }
   ],
   "source": [
    "len(calls.query('duration == 0')['user_id'].unique())"
   ]
  },
  {
   "cell_type": "code",
   "execution_count": 19,
   "metadata": {},
   "outputs": [
    {
     "data": {
      "text/plain": [
       "26834"
      ]
     },
     "execution_count": 19,
     "metadata": {},
     "output_type": "execute_result"
    }
   ],
   "source": [
    "len(calls.query('duration == 0'))"
   ]
  },
  {
   "cell_type": "code",
   "execution_count": 20,
   "metadata": {},
   "outputs": [
    {
     "data": {
      "text/plain": [
       "110901"
      ]
     },
     "execution_count": 20,
     "metadata": {},
     "output_type": "execute_result"
    }
   ],
   "source": [
    "len(calls.query('duration > 0'))"
   ]
  },
  {
   "cell_type": "code",
   "execution_count": 21,
   "metadata": {},
   "outputs": [
    {
     "data": {
      "text/plain": [
       "0"
      ]
     },
     "execution_count": 21,
     "metadata": {},
     "output_type": "execute_result"
    }
   ],
   "source": [
    "len(calls.query('duration < 0'))"
   ]
  },
  {
   "cell_type": "markdown",
   "metadata": {},
   "source": [
    "as many as 26834 calls have a duration of 0.0 minutes. \n",
    "\n",
    "Whether or not to preprocess these values is up to you; assess how much their absence would affect the results of your analysis.\n",
    "\n",
    "This would definitely influence the results, it is ~25% of the data. These might be missed calls, might be something else. Anyway in real life situation I would check the data source. Here I only have to rely on my cognition, and the inferences are simple: If these are missed calls, they are most likely are not paid, and therefore are not of use for the profitability calculation. If these are not missed calls, than I have no idea what it could be, maybe missing values. Maybe it would be peculiar to check them later, so I will keep these values in a separate variable, but I definitely do not need such a massive portion of undefined data in my dataset! I have to draw precise conclusion, so I'm slicing it out. "
   ]
  },
  {
   "cell_type": "code",
   "execution_count": 22,
   "metadata": {},
   "outputs": [],
   "source": [
    "calls = calls[calls['duration'] > 0]"
   ]
  },
  {
   "cell_type": "code",
   "execution_count": 23,
   "metadata": {},
   "outputs": [
    {
     "data": {
      "text/plain": [
       "0"
      ]
     },
     "execution_count": 23,
     "metadata": {},
     "output_type": "execute_result"
    }
   ],
   "source": [
    "calls_with_zeroes = calls[calls['duration'] == 0]\n",
    "len(calls_with_zeroes)"
   ]
  },
  {
   "cell_type": "markdown",
   "metadata": {},
   "source": [
    "Done"
   ]
  },
  {
   "cell_type": "code",
   "execution_count": 24,
   "metadata": {},
   "outputs": [
    {
     "data": {
      "text/plain": [
       "0"
      ]
     },
     "execution_count": 24,
     "metadata": {},
     "output_type": "execute_result"
    }
   ],
   "source": [
    "calls['call_date'].isnull().sum()"
   ]
  },
  {
   "cell_type": "code",
   "execution_count": 25,
   "metadata": {},
   "outputs": [
    {
     "data": {
      "text/plain": [
       "0"
      ]
     },
     "execution_count": 25,
     "metadata": {},
     "output_type": "execute_result"
    }
   ],
   "source": [
    "calls['id'].isnull().sum()"
   ]
  },
  {
   "cell_type": "code",
   "execution_count": 26,
   "metadata": {},
   "outputs": [
    {
     "data": {
      "text/plain": [
       "0"
      ]
     },
     "execution_count": 26,
     "metadata": {},
     "output_type": "execute_result"
    }
   ],
   "source": [
    "calls['user_id'].isnull().sum()     "
   ]
  },
  {
   "cell_type": "code",
   "execution_count": 27,
   "metadata": {},
   "outputs": [
    {
     "data": {
      "text/html": [
       "<div>\n",
       "<style scoped>\n",
       "    .dataframe tbody tr th:only-of-type {\n",
       "        vertical-align: middle;\n",
       "    }\n",
       "\n",
       "    .dataframe tbody tr th {\n",
       "        vertical-align: top;\n",
       "    }\n",
       "\n",
       "    .dataframe thead th {\n",
       "        text-align: right;\n",
       "    }\n",
       "</style>\n",
       "<table border=\"1\" class=\"dataframe\">\n",
       "  <thead>\n",
       "    <tr style=\"text-align: right;\">\n",
       "      <th></th>\n",
       "      <th>id</th>\n",
       "      <th>user_id</th>\n",
       "      <th>session_date</th>\n",
       "      <th>mb_used</th>\n",
       "    </tr>\n",
       "  </thead>\n",
       "  <tbody>\n",
       "    <tr>\n",
       "      <td>0</td>\n",
       "      <td>1000_13</td>\n",
       "      <td>1000</td>\n",
       "      <td>2018-12-29</td>\n",
       "      <td>89.86</td>\n",
       "    </tr>\n",
       "    <tr>\n",
       "      <td>1</td>\n",
       "      <td>1000_204</td>\n",
       "      <td>1000</td>\n",
       "      <td>2018-12-31</td>\n",
       "      <td>0.00</td>\n",
       "    </tr>\n",
       "    <tr>\n",
       "      <td>2</td>\n",
       "      <td>1000_379</td>\n",
       "      <td>1000</td>\n",
       "      <td>2018-12-28</td>\n",
       "      <td>660.40</td>\n",
       "    </tr>\n",
       "    <tr>\n",
       "      <td>3</td>\n",
       "      <td>1000_413</td>\n",
       "      <td>1000</td>\n",
       "      <td>2018-12-26</td>\n",
       "      <td>270.99</td>\n",
       "    </tr>\n",
       "    <tr>\n",
       "      <td>4</td>\n",
       "      <td>1000_442</td>\n",
       "      <td>1000</td>\n",
       "      <td>2018-12-27</td>\n",
       "      <td>880.22</td>\n",
       "    </tr>\n",
       "    <tr>\n",
       "      <td>...</td>\n",
       "      <td>...</td>\n",
       "      <td>...</td>\n",
       "      <td>...</td>\n",
       "      <td>...</td>\n",
       "    </tr>\n",
       "    <tr>\n",
       "      <td>104820</td>\n",
       "      <td>1499_215</td>\n",
       "      <td>1499</td>\n",
       "      <td>2018-10-20</td>\n",
       "      <td>218.06</td>\n",
       "    </tr>\n",
       "    <tr>\n",
       "      <td>104821</td>\n",
       "      <td>1499_216</td>\n",
       "      <td>1499</td>\n",
       "      <td>2018-12-30</td>\n",
       "      <td>304.72</td>\n",
       "    </tr>\n",
       "    <tr>\n",
       "      <td>104822</td>\n",
       "      <td>1499_217</td>\n",
       "      <td>1499</td>\n",
       "      <td>2018-09-22</td>\n",
       "      <td>292.75</td>\n",
       "    </tr>\n",
       "    <tr>\n",
       "      <td>104823</td>\n",
       "      <td>1499_218</td>\n",
       "      <td>1499</td>\n",
       "      <td>2018-12-07</td>\n",
       "      <td>0.00</td>\n",
       "    </tr>\n",
       "    <tr>\n",
       "      <td>104824</td>\n",
       "      <td>1499_219</td>\n",
       "      <td>1499</td>\n",
       "      <td>2018-12-24</td>\n",
       "      <td>758.31</td>\n",
       "    </tr>\n",
       "  </tbody>\n",
       "</table>\n",
       "<p>104825 rows × 4 columns</p>\n",
       "</div>"
      ],
      "text/plain": [
       "              id  user_id session_date  mb_used\n",
       "0        1000_13     1000   2018-12-29    89.86\n",
       "1       1000_204     1000   2018-12-31     0.00\n",
       "2       1000_379     1000   2018-12-28   660.40\n",
       "3       1000_413     1000   2018-12-26   270.99\n",
       "4       1000_442     1000   2018-12-27   880.22\n",
       "...          ...      ...          ...      ...\n",
       "104820  1499_215     1499   2018-10-20   218.06\n",
       "104821  1499_216     1499   2018-12-30   304.72\n",
       "104822  1499_217     1499   2018-09-22   292.75\n",
       "104823  1499_218     1499   2018-12-07     0.00\n",
       "104824  1499_219     1499   2018-12-24   758.31\n",
       "\n",
       "[104825 rows x 4 columns]"
      ]
     },
     "execution_count": 27,
     "metadata": {},
     "output_type": "execute_result"
    }
   ],
   "source": [
    "internet"
   ]
  },
  {
   "cell_type": "code",
   "execution_count": 28,
   "metadata": {},
   "outputs": [
    {
     "data": {
      "text/plain": [
       "0"
      ]
     },
     "execution_count": 28,
     "metadata": {},
     "output_type": "execute_result"
    }
   ],
   "source": [
    "internet['id'].isnull().sum()     "
   ]
  },
  {
   "cell_type": "code",
   "execution_count": 29,
   "metadata": {},
   "outputs": [
    {
     "data": {
      "text/plain": [
       "0"
      ]
     },
     "execution_count": 29,
     "metadata": {},
     "output_type": "execute_result"
    }
   ],
   "source": [
    "internet['user_id'].isnull().sum()     "
   ]
  },
  {
   "cell_type": "code",
   "execution_count": 30,
   "metadata": {},
   "outputs": [
    {
     "data": {
      "text/plain": [
       "0"
      ]
     },
     "execution_count": 30,
     "metadata": {},
     "output_type": "execute_result"
    }
   ],
   "source": [
    "internet['session_date'].isnull().sum()     "
   ]
  },
  {
   "cell_type": "code",
   "execution_count": 31,
   "metadata": {},
   "outputs": [
    {
     "data": {
      "text/plain": [
       "0"
      ]
     },
     "execution_count": 31,
     "metadata": {},
     "output_type": "execute_result"
    }
   ],
   "source": [
    "internet['mb_used'].isnull().sum()     "
   ]
  },
  {
   "cell_type": "code",
   "execution_count": 32,
   "metadata": {},
   "outputs": [
    {
     "data": {
      "text/plain": [
       "489"
      ]
     },
     "execution_count": 32,
     "metadata": {},
     "output_type": "execute_result"
    }
   ],
   "source": [
    "len(internet['user_id'].unique())"
   ]
  },
  {
   "cell_type": "code",
   "execution_count": 33,
   "metadata": {},
   "outputs": [
    {
     "data": {
      "text/html": [
       "<div>\n",
       "<style scoped>\n",
       "    .dataframe tbody tr th:only-of-type {\n",
       "        vertical-align: middle;\n",
       "    }\n",
       "\n",
       "    .dataframe tbody tr th {\n",
       "        vertical-align: top;\n",
       "    }\n",
       "\n",
       "    .dataframe thead th {\n",
       "        text-align: right;\n",
       "    }\n",
       "</style>\n",
       "<table border=\"1\" class=\"dataframe\">\n",
       "  <thead>\n",
       "    <tr style=\"text-align: right;\">\n",
       "      <th></th>\n",
       "      <th>id</th>\n",
       "      <th>user_id</th>\n",
       "      <th>message_date</th>\n",
       "    </tr>\n",
       "  </thead>\n",
       "  <tbody>\n",
       "    <tr>\n",
       "      <td>0</td>\n",
       "      <td>1000_125</td>\n",
       "      <td>1000</td>\n",
       "      <td>2018-12-27</td>\n",
       "    </tr>\n",
       "    <tr>\n",
       "      <td>1</td>\n",
       "      <td>1000_160</td>\n",
       "      <td>1000</td>\n",
       "      <td>2018-12-31</td>\n",
       "    </tr>\n",
       "    <tr>\n",
       "      <td>2</td>\n",
       "      <td>1000_223</td>\n",
       "      <td>1000</td>\n",
       "      <td>2018-12-31</td>\n",
       "    </tr>\n",
       "    <tr>\n",
       "      <td>3</td>\n",
       "      <td>1000_251</td>\n",
       "      <td>1000</td>\n",
       "      <td>2018-12-27</td>\n",
       "    </tr>\n",
       "    <tr>\n",
       "      <td>4</td>\n",
       "      <td>1000_255</td>\n",
       "      <td>1000</td>\n",
       "      <td>2018-12-26</td>\n",
       "    </tr>\n",
       "    <tr>\n",
       "      <td>...</td>\n",
       "      <td>...</td>\n",
       "      <td>...</td>\n",
       "      <td>...</td>\n",
       "    </tr>\n",
       "    <tr>\n",
       "      <td>76046</td>\n",
       "      <td>1497_526</td>\n",
       "      <td>1497</td>\n",
       "      <td>2018-12-24</td>\n",
       "    </tr>\n",
       "    <tr>\n",
       "      <td>76047</td>\n",
       "      <td>1497_536</td>\n",
       "      <td>1497</td>\n",
       "      <td>2018-12-24</td>\n",
       "    </tr>\n",
       "    <tr>\n",
       "      <td>76048</td>\n",
       "      <td>1497_547</td>\n",
       "      <td>1497</td>\n",
       "      <td>2018-12-31</td>\n",
       "    </tr>\n",
       "    <tr>\n",
       "      <td>76049</td>\n",
       "      <td>1497_558</td>\n",
       "      <td>1497</td>\n",
       "      <td>2018-12-24</td>\n",
       "    </tr>\n",
       "    <tr>\n",
       "      <td>76050</td>\n",
       "      <td>1497_613</td>\n",
       "      <td>1497</td>\n",
       "      <td>2018-12-23</td>\n",
       "    </tr>\n",
       "  </tbody>\n",
       "</table>\n",
       "<p>76051 rows × 3 columns</p>\n",
       "</div>"
      ],
      "text/plain": [
       "             id  user_id message_date\n",
       "0      1000_125     1000   2018-12-27\n",
       "1      1000_160     1000   2018-12-31\n",
       "2      1000_223     1000   2018-12-31\n",
       "3      1000_251     1000   2018-12-27\n",
       "4      1000_255     1000   2018-12-26\n",
       "...         ...      ...          ...\n",
       "76046  1497_526     1497   2018-12-24\n",
       "76047  1497_536     1497   2018-12-24\n",
       "76048  1497_547     1497   2018-12-31\n",
       "76049  1497_558     1497   2018-12-24\n",
       "76050  1497_613     1497   2018-12-23\n",
       "\n",
       "[76051 rows x 3 columns]"
      ]
     },
     "execution_count": 33,
     "metadata": {},
     "output_type": "execute_result"
    }
   ],
   "source": [
    "messages"
   ]
  },
  {
   "cell_type": "code",
   "execution_count": 34,
   "metadata": {},
   "outputs": [
    {
     "data": {
      "text/plain": [
       "402"
      ]
     },
     "execution_count": 34,
     "metadata": {},
     "output_type": "execute_result"
    }
   ],
   "source": [
    "len(messages['user_id'].unique())"
   ]
  },
  {
   "cell_type": "markdown",
   "metadata": {},
   "source": [
    "For some users there is no messages or call or internet info, which is not surprising, since not everyone use all options."
   ]
  },
  {
   "cell_type": "code",
   "execution_count": 35,
   "metadata": {},
   "outputs": [
    {
     "data": {
      "text/html": [
       "<div>\n",
       "<style scoped>\n",
       "    .dataframe tbody tr th:only-of-type {\n",
       "        vertical-align: middle;\n",
       "    }\n",
       "\n",
       "    .dataframe tbody tr th {\n",
       "        vertical-align: top;\n",
       "    }\n",
       "\n",
       "    .dataframe thead th {\n",
       "        text-align: right;\n",
       "    }\n",
       "</style>\n",
       "<table border=\"1\" class=\"dataframe\">\n",
       "  <thead>\n",
       "    <tr style=\"text-align: right;\">\n",
       "      <th></th>\n",
       "      <th>user_id</th>\n",
       "      <th>first_name</th>\n",
       "      <th>last_name</th>\n",
       "      <th>age</th>\n",
       "      <th>city</th>\n",
       "      <th>reg_date</th>\n",
       "      <th>plan</th>\n",
       "      <th>churn_date</th>\n",
       "    </tr>\n",
       "  </thead>\n",
       "  <tbody>\n",
       "    <tr>\n",
       "      <td>0</td>\n",
       "      <td>1000</td>\n",
       "      <td>Anamaria</td>\n",
       "      <td>Bauer</td>\n",
       "      <td>45</td>\n",
       "      <td>Atlanta-Sandy Springs-Roswell, GA MSA</td>\n",
       "      <td>2018-12-24</td>\n",
       "      <td>ultimate</td>\n",
       "      <td>NaN</td>\n",
       "    </tr>\n",
       "    <tr>\n",
       "      <td>1</td>\n",
       "      <td>1001</td>\n",
       "      <td>Mickey</td>\n",
       "      <td>Wilkerson</td>\n",
       "      <td>28</td>\n",
       "      <td>Seattle-Tacoma-Bellevue, WA MSA</td>\n",
       "      <td>2018-08-13</td>\n",
       "      <td>surf</td>\n",
       "      <td>NaN</td>\n",
       "    </tr>\n",
       "    <tr>\n",
       "      <td>2</td>\n",
       "      <td>1002</td>\n",
       "      <td>Carlee</td>\n",
       "      <td>Hoffman</td>\n",
       "      <td>36</td>\n",
       "      <td>Las Vegas-Henderson-Paradise, NV MSA</td>\n",
       "      <td>2018-10-21</td>\n",
       "      <td>surf</td>\n",
       "      <td>NaN</td>\n",
       "    </tr>\n",
       "    <tr>\n",
       "      <td>3</td>\n",
       "      <td>1003</td>\n",
       "      <td>Reynaldo</td>\n",
       "      <td>Jenkins</td>\n",
       "      <td>52</td>\n",
       "      <td>Tulsa, OK MSA</td>\n",
       "      <td>2018-01-28</td>\n",
       "      <td>surf</td>\n",
       "      <td>NaN</td>\n",
       "    </tr>\n",
       "    <tr>\n",
       "      <td>4</td>\n",
       "      <td>1004</td>\n",
       "      <td>Leonila</td>\n",
       "      <td>Thompson</td>\n",
       "      <td>40</td>\n",
       "      <td>Seattle-Tacoma-Bellevue, WA MSA</td>\n",
       "      <td>2018-05-23</td>\n",
       "      <td>surf</td>\n",
       "      <td>NaN</td>\n",
       "    </tr>\n",
       "    <tr>\n",
       "      <td>...</td>\n",
       "      <td>...</td>\n",
       "      <td>...</td>\n",
       "      <td>...</td>\n",
       "      <td>...</td>\n",
       "      <td>...</td>\n",
       "      <td>...</td>\n",
       "      <td>...</td>\n",
       "      <td>...</td>\n",
       "    </tr>\n",
       "    <tr>\n",
       "      <td>495</td>\n",
       "      <td>1495</td>\n",
       "      <td>Fidel</td>\n",
       "      <td>Sharpe</td>\n",
       "      <td>67</td>\n",
       "      <td>New York-Newark-Jersey City, NY-NJ-PA MSA</td>\n",
       "      <td>2018-09-04</td>\n",
       "      <td>surf</td>\n",
       "      <td>NaN</td>\n",
       "    </tr>\n",
       "    <tr>\n",
       "      <td>496</td>\n",
       "      <td>1496</td>\n",
       "      <td>Ariel</td>\n",
       "      <td>Shepherd</td>\n",
       "      <td>49</td>\n",
       "      <td>New Orleans-Metairie, LA MSA</td>\n",
       "      <td>2018-02-20</td>\n",
       "      <td>surf</td>\n",
       "      <td>NaN</td>\n",
       "    </tr>\n",
       "    <tr>\n",
       "      <td>497</td>\n",
       "      <td>1497</td>\n",
       "      <td>Donte</td>\n",
       "      <td>Barrera</td>\n",
       "      <td>49</td>\n",
       "      <td>Los Angeles-Long Beach-Anaheim, CA MSA</td>\n",
       "      <td>2018-12-10</td>\n",
       "      <td>ultimate</td>\n",
       "      <td>NaN</td>\n",
       "    </tr>\n",
       "    <tr>\n",
       "      <td>498</td>\n",
       "      <td>1498</td>\n",
       "      <td>Scot</td>\n",
       "      <td>Williamson</td>\n",
       "      <td>51</td>\n",
       "      <td>New York-Newark-Jersey City, NY-NJ-PA MSA</td>\n",
       "      <td>2018-02-04</td>\n",
       "      <td>surf</td>\n",
       "      <td>NaN</td>\n",
       "    </tr>\n",
       "    <tr>\n",
       "      <td>499</td>\n",
       "      <td>1499</td>\n",
       "      <td>Shena</td>\n",
       "      <td>Dickson</td>\n",
       "      <td>37</td>\n",
       "      <td>Orlando-Kissimmee-Sanford, FL MSA</td>\n",
       "      <td>2018-05-06</td>\n",
       "      <td>surf</td>\n",
       "      <td>NaN</td>\n",
       "    </tr>\n",
       "  </tbody>\n",
       "</table>\n",
       "<p>500 rows × 8 columns</p>\n",
       "</div>"
      ],
      "text/plain": [
       "     user_id first_name   last_name  age  \\\n",
       "0       1000   Anamaria       Bauer   45   \n",
       "1       1001     Mickey   Wilkerson   28   \n",
       "2       1002     Carlee     Hoffman   36   \n",
       "3       1003   Reynaldo     Jenkins   52   \n",
       "4       1004    Leonila    Thompson   40   \n",
       "..       ...        ...         ...  ...   \n",
       "495     1495      Fidel      Sharpe   67   \n",
       "496     1496      Ariel    Shepherd   49   \n",
       "497     1497      Donte     Barrera   49   \n",
       "498     1498       Scot  Williamson   51   \n",
       "499     1499      Shena     Dickson   37   \n",
       "\n",
       "                                          city    reg_date      plan  \\\n",
       "0        Atlanta-Sandy Springs-Roswell, GA MSA  2018-12-24  ultimate   \n",
       "1              Seattle-Tacoma-Bellevue, WA MSA  2018-08-13      surf   \n",
       "2         Las Vegas-Henderson-Paradise, NV MSA  2018-10-21      surf   \n",
       "3                                Tulsa, OK MSA  2018-01-28      surf   \n",
       "4              Seattle-Tacoma-Bellevue, WA MSA  2018-05-23      surf   \n",
       "..                                         ...         ...       ...   \n",
       "495  New York-Newark-Jersey City, NY-NJ-PA MSA  2018-09-04      surf   \n",
       "496               New Orleans-Metairie, LA MSA  2018-02-20      surf   \n",
       "497     Los Angeles-Long Beach-Anaheim, CA MSA  2018-12-10  ultimate   \n",
       "498  New York-Newark-Jersey City, NY-NJ-PA MSA  2018-02-04      surf   \n",
       "499          Orlando-Kissimmee-Sanford, FL MSA  2018-05-06      surf   \n",
       "\n",
       "    churn_date  \n",
       "0          NaN  \n",
       "1          NaN  \n",
       "2          NaN  \n",
       "3          NaN  \n",
       "4          NaN  \n",
       "..         ...  \n",
       "495        NaN  \n",
       "496        NaN  \n",
       "497        NaN  \n",
       "498        NaN  \n",
       "499        NaN  \n",
       "\n",
       "[500 rows x 8 columns]"
      ]
     },
     "execution_count": 35,
     "metadata": {},
     "output_type": "execute_result"
    }
   ],
   "source": [
    "users"
   ]
  },
  {
   "cell_type": "code",
   "execution_count": 36,
   "metadata": {},
   "outputs": [
    {
     "data": {
      "text/plain": [
       "500"
      ]
     },
     "execution_count": 36,
     "metadata": {},
     "output_type": "execute_result"
    }
   ],
   "source": [
    "len(users['user_id'].unique())"
   ]
  },
  {
   "cell_type": "code",
   "execution_count": 37,
   "metadata": {},
   "outputs": [
    {
     "data": {
      "text/plain": [
       "466"
      ]
     },
     "execution_count": 37,
     "metadata": {},
     "output_type": "execute_result"
    }
   ],
   "source": [
    "users['churn_date'].isnull().sum()"
   ]
  },
  {
   "cell_type": "markdown",
   "metadata": {},
   "source": [
    "churn_date is mostly NaNs, but the project description suggest that NaNs are meaningful here"
   ]
  },
  {
   "cell_type": "code",
   "execution_count": 38,
   "metadata": {},
   "outputs": [
    {
     "data": {
      "text/plain": [
       "34"
      ]
     },
     "execution_count": 38,
     "metadata": {},
     "output_type": "execute_result"
    }
   ],
   "source": [
    "users[users['churn_date'].isnull() == False]['churn_date'].count()"
   ]
  },
  {
   "cell_type": "code",
   "execution_count": 39,
   "metadata": {},
   "outputs": [
    {
     "data": {
      "text/plain": [
       "array([nan, '2018-12-18', '2018-11-16', '2018-09-07', '2018-12-30',\n",
       "       '2018-10-07', '2018-12-31', '2018-11-24', '2018-11-11',\n",
       "       '2018-12-12', '2018-11-14', '2018-12-27', '2018-11-29',\n",
       "       '2018-12-22', '2018-11-30', '2018-10-13', '2018-07-31',\n",
       "       '2018-12-15', '2018-12-19', '2018-10-03', '2018-10-22',\n",
       "       '2018-08-16', '2018-12-26', '2018-09-01', '2018-11-21',\n",
       "       '2018-08-19', '2018-12-10', '2018-09-17', '2018-11-18',\n",
       "       '2018-09-18'], dtype=object)"
      ]
     },
     "execution_count": 39,
     "metadata": {},
     "output_type": "execute_result"
    }
   ],
   "source": [
    "users['churn_date'].unique()"
   ]
  },
  {
   "cell_type": "markdown",
   "metadata": {},
   "source": [
    "and few dates, I could transform it to boolean, to just mark w true/false if the plan was being used when this data was retrieved, we'll see if it can be useful later"
   ]
  },
  {
   "cell_type": "code",
   "execution_count": 40,
   "metadata": {},
   "outputs": [
    {
     "data": {
      "text/html": [
       "<div>\n",
       "<style scoped>\n",
       "    .dataframe tbody tr th:only-of-type {\n",
       "        vertical-align: middle;\n",
       "    }\n",
       "\n",
       "    .dataframe tbody tr th {\n",
       "        vertical-align: top;\n",
       "    }\n",
       "\n",
       "    .dataframe thead th {\n",
       "        text-align: right;\n",
       "    }\n",
       "</style>\n",
       "<table border=\"1\" class=\"dataframe\">\n",
       "  <thead>\n",
       "    <tr style=\"text-align: right;\">\n",
       "      <th></th>\n",
       "      <th>user_id</th>\n",
       "      <th>first_name</th>\n",
       "      <th>last_name</th>\n",
       "      <th>age</th>\n",
       "      <th>city</th>\n",
       "      <th>reg_date</th>\n",
       "      <th>plan</th>\n",
       "      <th>churn_date</th>\n",
       "    </tr>\n",
       "  </thead>\n",
       "  <tbody>\n",
       "  </tbody>\n",
       "</table>\n",
       "</div>"
      ],
      "text/plain": [
       "Empty DataFrame\n",
       "Columns: [user_id, first_name, last_name, age, city, reg_date, plan, churn_date]\n",
       "Index: []"
      ]
     },
     "execution_count": 40,
     "metadata": {},
     "output_type": "execute_result"
    }
   ],
   "source": [
    "users.query('age <= 0')"
   ]
  },
  {
   "cell_type": "markdown",
   "metadata": {},
   "source": [
    "##### 2.2 Data types conversion"
   ]
  },
  {
   "cell_type": "code",
   "execution_count": 41,
   "metadata": {},
   "outputs": [],
   "source": [
    "calls['call_date'] = calls['call_date'].apply(pd.to_datetime)\n",
    "messages['message_date'] = messages['message_date'].apply(pd.to_datetime)\n",
    "internet['session_date'] = internet['session_date'].apply(pd.to_datetime)  \n",
    "users['churn_date'] = users['churn_date'].apply(pd.to_datetime)  "
   ]
  },
  {
   "cell_type": "code",
   "execution_count": 42,
   "metadata": {},
   "outputs": [],
   "source": [
    "calls['duration'] = np.ceil(calls['duration']).astype(int)"
   ]
  },
  {
   "cell_type": "markdown",
   "metadata": {},
   "source": [
    "rounded up accordingly with the plans conditions and integered "
   ]
  },
  {
   "cell_type": "markdown",
   "metadata": {},
   "source": [
    "##### 2.3 Calls per month"
   ]
  },
  {
   "cell_type": "code",
   "execution_count": 43,
   "metadata": {},
   "outputs": [
    {
     "data": {
      "text/html": [
       "<div>\n",
       "<style scoped>\n",
       "    .dataframe tbody tr th:only-of-type {\n",
       "        vertical-align: middle;\n",
       "    }\n",
       "\n",
       "    .dataframe tbody tr th {\n",
       "        vertical-align: top;\n",
       "    }\n",
       "\n",
       "    .dataframe thead th {\n",
       "        text-align: right;\n",
       "    }\n",
       "</style>\n",
       "<table border=\"1\" class=\"dataframe\">\n",
       "  <thead>\n",
       "    <tr style=\"text-align: right;\">\n",
       "      <th></th>\n",
       "      <th>duration</th>\n",
       "    </tr>\n",
       "    <tr>\n",
       "      <th>user_id</th>\n",
       "      <th></th>\n",
       "    </tr>\n",
       "  </thead>\n",
       "  <tbody>\n",
       "    <tr>\n",
       "      <td>1000</td>\n",
       "      <td>124</td>\n",
       "    </tr>\n",
       "    <tr>\n",
       "      <td>1001</td>\n",
       "      <td>1728</td>\n",
       "    </tr>\n",
       "    <tr>\n",
       "      <td>1002</td>\n",
       "      <td>829</td>\n",
       "    </tr>\n",
       "    <tr>\n",
       "      <td>1003</td>\n",
       "      <td>1104</td>\n",
       "    </tr>\n",
       "    <tr>\n",
       "      <td>1004</td>\n",
       "      <td>2772</td>\n",
       "    </tr>\n",
       "    <tr>\n",
       "      <td>...</td>\n",
       "      <td>...</td>\n",
       "    </tr>\n",
       "    <tr>\n",
       "      <td>1495</td>\n",
       "      <td>1765</td>\n",
       "    </tr>\n",
       "    <tr>\n",
       "      <td>1496</td>\n",
       "      <td>1455</td>\n",
       "    </tr>\n",
       "    <tr>\n",
       "      <td>1497</td>\n",
       "      <td>300</td>\n",
       "    </tr>\n",
       "    <tr>\n",
       "      <td>1498</td>\n",
       "      <td>3211</td>\n",
       "    </tr>\n",
       "    <tr>\n",
       "      <td>1499</td>\n",
       "      <td>1535</td>\n",
       "    </tr>\n",
       "  </tbody>\n",
       "</table>\n",
       "<p>481 rows × 1 columns</p>\n",
       "</div>"
      ],
      "text/plain": [
       "         duration\n",
       "user_id          \n",
       "1000          124\n",
       "1001         1728\n",
       "1002          829\n",
       "1003         1104\n",
       "1004         2772\n",
       "...           ...\n",
       "1495         1765\n",
       "1496         1455\n",
       "1497          300\n",
       "1498         3211\n",
       "1499         1535\n",
       "\n",
       "[481 rows x 1 columns]"
      ]
     },
     "execution_count": 43,
     "metadata": {},
     "output_type": "execute_result"
    }
   ],
   "source": [
    "pd.pivot_table(calls, values=['duration'],  index=['user_id'], aggfunc = 'sum')"
   ]
  },
  {
   "cell_type": "markdown",
   "metadata": {},
   "source": [
    "that's duration sum for all the period per user"
   ]
  },
  {
   "cell_type": "code",
   "execution_count": 44,
   "metadata": {},
   "outputs": [],
   "source": [
    "calls['month'] = calls['call_date'].dt.month"
   ]
  },
  {
   "cell_type": "code",
   "execution_count": 45,
   "metadata": {},
   "outputs": [
    {
     "data": {
      "text/plain": [
       "array([12,  9, 10, 11,  8,  7,  6,  5,  3,  4,  2,  1])"
      ]
     },
     "execution_count": 45,
     "metadata": {},
     "output_type": "execute_result"
    }
   ],
   "source": [
    "calls['month'].unique()"
   ]
  },
  {
   "cell_type": "markdown",
   "metadata": {},
   "source": [
    "let's find duration by month and median monthly duration"
   ]
  },
  {
   "cell_type": "code",
   "execution_count": 46,
   "metadata": {},
   "outputs": [
    {
     "data": {
      "text/html": [
       "<div>\n",
       "<style scoped>\n",
       "    .dataframe tbody tr th:only-of-type {\n",
       "        vertical-align: middle;\n",
       "    }\n",
       "\n",
       "    .dataframe tbody tr th {\n",
       "        vertical-align: top;\n",
       "    }\n",
       "\n",
       "    .dataframe thead tr th {\n",
       "        text-align: left;\n",
       "    }\n",
       "\n",
       "    .dataframe thead tr:last-of-type th {\n",
       "        text-align: right;\n",
       "    }\n",
       "</style>\n",
       "<table border=\"1\" class=\"dataframe\">\n",
       "  <thead>\n",
       "    <tr>\n",
       "      <th></th>\n",
       "      <th></th>\n",
       "      <th>count</th>\n",
       "      <th>sum</th>\n",
       "    </tr>\n",
       "    <tr>\n",
       "      <th></th>\n",
       "      <th></th>\n",
       "      <th>duration</th>\n",
       "      <th>duration</th>\n",
       "    </tr>\n",
       "    <tr>\n",
       "      <th>user_id</th>\n",
       "      <th>month</th>\n",
       "      <th></th>\n",
       "      <th></th>\n",
       "    </tr>\n",
       "  </thead>\n",
       "  <tbody>\n",
       "    <tr>\n",
       "      <td>1000</td>\n",
       "      <td>12</td>\n",
       "      <td>16</td>\n",
       "      <td>124</td>\n",
       "    </tr>\n",
       "    <tr>\n",
       "      <td rowspan=\"5\" valign=\"top\">1001</td>\n",
       "      <td>8</td>\n",
       "      <td>22</td>\n",
       "      <td>182</td>\n",
       "    </tr>\n",
       "    <tr>\n",
       "      <td>9</td>\n",
       "      <td>38</td>\n",
       "      <td>315</td>\n",
       "    </tr>\n",
       "    <tr>\n",
       "      <td>10</td>\n",
       "      <td>47</td>\n",
       "      <td>393</td>\n",
       "    </tr>\n",
       "    <tr>\n",
       "      <td>11</td>\n",
       "      <td>49</td>\n",
       "      <td>426</td>\n",
       "    </tr>\n",
       "    <tr>\n",
       "      <td>12</td>\n",
       "      <td>46</td>\n",
       "      <td>412</td>\n",
       "    </tr>\n",
       "    <tr>\n",
       "      <td rowspan=\"3\" valign=\"top\">1002</td>\n",
       "      <td>10</td>\n",
       "      <td>8</td>\n",
       "      <td>59</td>\n",
       "    </tr>\n",
       "    <tr>\n",
       "      <td>11</td>\n",
       "      <td>48</td>\n",
       "      <td>386</td>\n",
       "    </tr>\n",
       "    <tr>\n",
       "      <td>12</td>\n",
       "      <td>38</td>\n",
       "      <td>384</td>\n",
       "    </tr>\n",
       "    <tr>\n",
       "      <td>1003</td>\n",
       "      <td>12</td>\n",
       "      <td>118</td>\n",
       "      <td>1104</td>\n",
       "    </tr>\n",
       "  </tbody>\n",
       "</table>\n",
       "</div>"
      ],
      "text/plain": [
       "                 count      sum\n",
       "              duration duration\n",
       "user_id month                  \n",
       "1000    12          16      124\n",
       "1001    8           22      182\n",
       "        9           38      315\n",
       "        10          47      393\n",
       "        11          49      426\n",
       "        12          46      412\n",
       "1002    10           8       59\n",
       "        11          48      386\n",
       "        12          38      384\n",
       "1003    12         118     1104"
      ]
     },
     "execution_count": 46,
     "metadata": {},
     "output_type": "execute_result"
    }
   ],
   "source": [
    "calls_months = pd.pivot_table(calls, values=['duration'],  index=['user_id', 'month'], aggfunc=['count', 'sum'])\n",
    "calls_months.head(10)"
   ]
  },
  {
   "cell_type": "code",
   "execution_count": 47,
   "metadata": {},
   "outputs": [
    {
     "data": {
      "text/html": [
       "<div>\n",
       "<style scoped>\n",
       "    .dataframe tbody tr th:only-of-type {\n",
       "        vertical-align: middle;\n",
       "    }\n",
       "\n",
       "    .dataframe tbody tr th {\n",
       "        vertical-align: top;\n",
       "    }\n",
       "\n",
       "    .dataframe thead th {\n",
       "        text-align: right;\n",
       "    }\n",
       "</style>\n",
       "<table border=\"1\" class=\"dataframe\">\n",
       "  <thead>\n",
       "    <tr style=\"text-align: right;\">\n",
       "      <th></th>\n",
       "      <th>call_num</th>\n",
       "      <th>call_dur</th>\n",
       "    </tr>\n",
       "    <tr>\n",
       "      <th>user_id</th>\n",
       "      <th></th>\n",
       "      <th></th>\n",
       "    </tr>\n",
       "  </thead>\n",
       "  <tbody>\n",
       "    <tr>\n",
       "      <td>1000</td>\n",
       "      <td>16.0</td>\n",
       "      <td>124.0</td>\n",
       "    </tr>\n",
       "    <tr>\n",
       "      <td>1001</td>\n",
       "      <td>46.0</td>\n",
       "      <td>393.0</td>\n",
       "    </tr>\n",
       "    <tr>\n",
       "      <td>1002</td>\n",
       "      <td>38.0</td>\n",
       "      <td>384.0</td>\n",
       "    </tr>\n",
       "    <tr>\n",
       "      <td>1003</td>\n",
       "      <td>118.0</td>\n",
       "      <td>1104.0</td>\n",
       "    </tr>\n",
       "    <tr>\n",
       "      <td>1004</td>\n",
       "      <td>42.5</td>\n",
       "      <td>359.5</td>\n",
       "    </tr>\n",
       "    <tr>\n",
       "      <td>1005</td>\n",
       "      <td>50.0</td>\n",
       "      <td>496.0</td>\n",
       "    </tr>\n",
       "    <tr>\n",
       "      <td>1006</td>\n",
       "      <td>4.5</td>\n",
       "      <td>34.5</td>\n",
       "    </tr>\n",
       "    <tr>\n",
       "      <td>1007</td>\n",
       "      <td>61.0</td>\n",
       "      <td>524.0</td>\n",
       "    </tr>\n",
       "    <tr>\n",
       "      <td>1008</td>\n",
       "      <td>54.0</td>\n",
       "      <td>476.0</td>\n",
       "    </tr>\n",
       "    <tr>\n",
       "      <td>1009</td>\n",
       "      <td>90.0</td>\n",
       "      <td>748.0</td>\n",
       "    </tr>\n",
       "  </tbody>\n",
       "</table>\n",
       "</div>"
      ],
      "text/plain": [
       "         call_num  call_dur\n",
       "user_id                    \n",
       "1000         16.0     124.0\n",
       "1001         46.0     393.0\n",
       "1002         38.0     384.0\n",
       "1003        118.0    1104.0\n",
       "1004         42.5     359.5\n",
       "1005         50.0     496.0\n",
       "1006          4.5      34.5\n",
       "1007         61.0     524.0\n",
       "1008         54.0     476.0\n",
       "1009         90.0     748.0"
      ]
     },
     "execution_count": 47,
     "metadata": {},
     "output_type": "execute_result"
    }
   ],
   "source": [
    "duration_median = pd.pivot_table(calls_months, values=['count', 'sum'],  index=['user_id'], aggfunc = 'median')\n",
    "duration_median.columns = 'call_num', 'call_dur'\n",
    "duration_median.head(10)"
   ]
  },
  {
   "cell_type": "markdown",
   "metadata": {},
   "source": [
    "Nice"
   ]
  },
  {
   "cell_type": "markdown",
   "metadata": {},
   "source": [
    "##### 2.4 Number of text messages sent per month"
   ]
  },
  {
   "cell_type": "code",
   "execution_count": 48,
   "metadata": {},
   "outputs": [
    {
     "name": "stdout",
     "output_type": "stream",
     "text": [
      "<class 'pandas.core.frame.DataFrame'>\n",
      "RangeIndex: 76051 entries, 0 to 76050\n",
      "Data columns (total 3 columns):\n",
      "id              76051 non-null object\n",
      "user_id         76051 non-null int64\n",
      "message_date    76051 non-null datetime64[ns]\n",
      "dtypes: datetime64[ns](1), int64(1), object(1)\n",
      "memory usage: 1.7+ MB\n"
     ]
    }
   ],
   "source": [
    "messages.info()"
   ]
  },
  {
   "cell_type": "code",
   "execution_count": 49,
   "metadata": {},
   "outputs": [],
   "source": [
    "messages['month'] = messages['message_date'].dt.month"
   ]
  },
  {
   "cell_type": "code",
   "execution_count": 50,
   "metadata": {},
   "outputs": [
    {
     "data": {
      "text/html": [
       "<div>\n",
       "<style scoped>\n",
       "    .dataframe tbody tr th:only-of-type {\n",
       "        vertical-align: middle;\n",
       "    }\n",
       "\n",
       "    .dataframe tbody tr th {\n",
       "        vertical-align: top;\n",
       "    }\n",
       "\n",
       "    .dataframe thead th {\n",
       "        text-align: right;\n",
       "    }\n",
       "</style>\n",
       "<table border=\"1\" class=\"dataframe\">\n",
       "  <thead>\n",
       "    <tr style=\"text-align: right;\">\n",
       "      <th></th>\n",
       "      <th>id</th>\n",
       "      <th>user_id</th>\n",
       "      <th>message_date</th>\n",
       "      <th>month</th>\n",
       "    </tr>\n",
       "  </thead>\n",
       "  <tbody>\n",
       "    <tr>\n",
       "      <td>0</td>\n",
       "      <td>1000_125</td>\n",
       "      <td>1000</td>\n",
       "      <td>2018-12-27</td>\n",
       "      <td>12</td>\n",
       "    </tr>\n",
       "    <tr>\n",
       "      <td>1</td>\n",
       "      <td>1000_160</td>\n",
       "      <td>1000</td>\n",
       "      <td>2018-12-31</td>\n",
       "      <td>12</td>\n",
       "    </tr>\n",
       "    <tr>\n",
       "      <td>2</td>\n",
       "      <td>1000_223</td>\n",
       "      <td>1000</td>\n",
       "      <td>2018-12-31</td>\n",
       "      <td>12</td>\n",
       "    </tr>\n",
       "    <tr>\n",
       "      <td>3</td>\n",
       "      <td>1000_251</td>\n",
       "      <td>1000</td>\n",
       "      <td>2018-12-27</td>\n",
       "      <td>12</td>\n",
       "    </tr>\n",
       "    <tr>\n",
       "      <td>4</td>\n",
       "      <td>1000_255</td>\n",
       "      <td>1000</td>\n",
       "      <td>2018-12-26</td>\n",
       "      <td>12</td>\n",
       "    </tr>\n",
       "    <tr>\n",
       "      <td>5</td>\n",
       "      <td>1000_346</td>\n",
       "      <td>1000</td>\n",
       "      <td>2018-12-29</td>\n",
       "      <td>12</td>\n",
       "    </tr>\n",
       "    <tr>\n",
       "      <td>6</td>\n",
       "      <td>1000_386</td>\n",
       "      <td>1000</td>\n",
       "      <td>2018-12-30</td>\n",
       "      <td>12</td>\n",
       "    </tr>\n",
       "    <tr>\n",
       "      <td>7</td>\n",
       "      <td>1000_413</td>\n",
       "      <td>1000</td>\n",
       "      <td>2018-12-31</td>\n",
       "      <td>12</td>\n",
       "    </tr>\n",
       "    <tr>\n",
       "      <td>8</td>\n",
       "      <td>1000_502</td>\n",
       "      <td>1000</td>\n",
       "      <td>2018-12-27</td>\n",
       "      <td>12</td>\n",
       "    </tr>\n",
       "    <tr>\n",
       "      <td>9</td>\n",
       "      <td>1000_525</td>\n",
       "      <td>1000</td>\n",
       "      <td>2018-12-28</td>\n",
       "      <td>12</td>\n",
       "    </tr>\n",
       "  </tbody>\n",
       "</table>\n",
       "</div>"
      ],
      "text/plain": [
       "         id  user_id message_date  month\n",
       "0  1000_125     1000   2018-12-27     12\n",
       "1  1000_160     1000   2018-12-31     12\n",
       "2  1000_223     1000   2018-12-31     12\n",
       "3  1000_251     1000   2018-12-27     12\n",
       "4  1000_255     1000   2018-12-26     12\n",
       "5  1000_346     1000   2018-12-29     12\n",
       "6  1000_386     1000   2018-12-30     12\n",
       "7  1000_413     1000   2018-12-31     12\n",
       "8  1000_502     1000   2018-12-27     12\n",
       "9  1000_525     1000   2018-12-28     12"
      ]
     },
     "execution_count": 50,
     "metadata": {},
     "output_type": "execute_result"
    }
   ],
   "source": [
    "messages.head(10)"
   ]
  },
  {
   "cell_type": "code",
   "execution_count": 51,
   "metadata": {},
   "outputs": [],
   "source": [
    "msg_months = pd.pivot_table(messages,  index=['user_id', 'month'], aggfunc = 'count').drop(['message_date'], axis=1)"
   ]
  },
  {
   "cell_type": "code",
   "execution_count": 52,
   "metadata": {},
   "outputs": [
    {
     "data": {
      "text/html": [
       "<div>\n",
       "<style scoped>\n",
       "    .dataframe tbody tr th:only-of-type {\n",
       "        vertical-align: middle;\n",
       "    }\n",
       "\n",
       "    .dataframe tbody tr th {\n",
       "        vertical-align: top;\n",
       "    }\n",
       "\n",
       "    .dataframe thead th {\n",
       "        text-align: right;\n",
       "    }\n",
       "</style>\n",
       "<table border=\"1\" class=\"dataframe\">\n",
       "  <thead>\n",
       "    <tr style=\"text-align: right;\">\n",
       "      <th></th>\n",
       "      <th></th>\n",
       "      <th>msg_num</th>\n",
       "    </tr>\n",
       "    <tr>\n",
       "      <th>user_id</th>\n",
       "      <th>month</th>\n",
       "      <th></th>\n",
       "    </tr>\n",
       "  </thead>\n",
       "  <tbody>\n",
       "    <tr>\n",
       "      <td>1000</td>\n",
       "      <td>12</td>\n",
       "      <td>11</td>\n",
       "    </tr>\n",
       "    <tr>\n",
       "      <td rowspan=\"4\" valign=\"top\">1001</td>\n",
       "      <td>8</td>\n",
       "      <td>30</td>\n",
       "    </tr>\n",
       "    <tr>\n",
       "      <td>9</td>\n",
       "      <td>44</td>\n",
       "    </tr>\n",
       "    <tr>\n",
       "      <td>10</td>\n",
       "      <td>53</td>\n",
       "    </tr>\n",
       "    <tr>\n",
       "      <td>11</td>\n",
       "      <td>36</td>\n",
       "    </tr>\n",
       "    <tr>\n",
       "      <td>...</td>\n",
       "      <td>...</td>\n",
       "      <td>...</td>\n",
       "    </tr>\n",
       "    <tr>\n",
       "      <td rowspan=\"4\" valign=\"top\">1496</td>\n",
       "      <td>9</td>\n",
       "      <td>21</td>\n",
       "    </tr>\n",
       "    <tr>\n",
       "      <td>10</td>\n",
       "      <td>18</td>\n",
       "    </tr>\n",
       "    <tr>\n",
       "      <td>11</td>\n",
       "      <td>13</td>\n",
       "    </tr>\n",
       "    <tr>\n",
       "      <td>12</td>\n",
       "      <td>11</td>\n",
       "    </tr>\n",
       "    <tr>\n",
       "      <td>1497</td>\n",
       "      <td>12</td>\n",
       "      <td>50</td>\n",
       "    </tr>\n",
       "  </tbody>\n",
       "</table>\n",
       "<p>1806 rows × 1 columns</p>\n",
       "</div>"
      ],
      "text/plain": [
       "               msg_num\n",
       "user_id month         \n",
       "1000    12          11\n",
       "1001    8           30\n",
       "        9           44\n",
       "        10          53\n",
       "        11          36\n",
       "...                ...\n",
       "1496    9           21\n",
       "        10          18\n",
       "        11          13\n",
       "        12          11\n",
       "1497    12          50\n",
       "\n",
       "[1806 rows x 1 columns]"
      ]
     },
     "execution_count": 52,
     "metadata": {},
     "output_type": "execute_result"
    }
   ],
   "source": [
    "msg_months.columns = ['msg_num']\n",
    "msg_months"
   ]
  },
  {
   "cell_type": "code",
   "execution_count": 53,
   "metadata": {},
   "outputs": [],
   "source": [
    "avg_msg = pd.pivot_table(msg_months, values=['msg_num'],  index=['user_id'], aggfunc = 'median').astype(int)"
   ]
  },
  {
   "cell_type": "code",
   "execution_count": 54,
   "metadata": {},
   "outputs": [
    {
     "data": {
      "text/html": [
       "<div>\n",
       "<style scoped>\n",
       "    .dataframe tbody tr th:only-of-type {\n",
       "        vertical-align: middle;\n",
       "    }\n",
       "\n",
       "    .dataframe tbody tr th {\n",
       "        vertical-align: top;\n",
       "    }\n",
       "\n",
       "    .dataframe thead th {\n",
       "        text-align: right;\n",
       "    }\n",
       "</style>\n",
       "<table border=\"1\" class=\"dataframe\">\n",
       "  <thead>\n",
       "    <tr style=\"text-align: right;\">\n",
       "      <th></th>\n",
       "      <th>msg_num</th>\n",
       "    </tr>\n",
       "    <tr>\n",
       "      <th>user_id</th>\n",
       "      <th></th>\n",
       "    </tr>\n",
       "  </thead>\n",
       "  <tbody>\n",
       "    <tr>\n",
       "      <td>1000</td>\n",
       "      <td>11</td>\n",
       "    </tr>\n",
       "    <tr>\n",
       "      <td>1001</td>\n",
       "      <td>44</td>\n",
       "    </tr>\n",
       "    <tr>\n",
       "      <td>1002</td>\n",
       "      <td>32</td>\n",
       "    </tr>\n",
       "    <tr>\n",
       "      <td>1003</td>\n",
       "      <td>50</td>\n",
       "    </tr>\n",
       "    <tr>\n",
       "      <td>1004</td>\n",
       "      <td>24</td>\n",
       "    </tr>\n",
       "    <tr>\n",
       "      <td>...</td>\n",
       "      <td>...</td>\n",
       "    </tr>\n",
       "    <tr>\n",
       "      <td>1491</td>\n",
       "      <td>50</td>\n",
       "    </tr>\n",
       "    <tr>\n",
       "      <td>1492</td>\n",
       "      <td>30</td>\n",
       "    </tr>\n",
       "    <tr>\n",
       "      <td>1494</td>\n",
       "      <td>30</td>\n",
       "    </tr>\n",
       "    <tr>\n",
       "      <td>1496</td>\n",
       "      <td>13</td>\n",
       "    </tr>\n",
       "    <tr>\n",
       "      <td>1497</td>\n",
       "      <td>50</td>\n",
       "    </tr>\n",
       "  </tbody>\n",
       "</table>\n",
       "<p>402 rows × 1 columns</p>\n",
       "</div>"
      ],
      "text/plain": [
       "         msg_num\n",
       "user_id         \n",
       "1000          11\n",
       "1001          44\n",
       "1002          32\n",
       "1003          50\n",
       "1004          24\n",
       "...          ...\n",
       "1491          50\n",
       "1492          30\n",
       "1494          30\n",
       "1496          13\n",
       "1497          50\n",
       "\n",
       "[402 rows x 1 columns]"
      ]
     },
     "execution_count": 54,
     "metadata": {},
     "output_type": "execute_result"
    }
   ],
   "source": [
    "avg_msg"
   ]
  },
  {
   "cell_type": "markdown",
   "metadata": {},
   "source": [
    "Done"
   ]
  },
  {
   "cell_type": "markdown",
   "metadata": {},
   "source": [
    "##### 2.5 Volume of data per month"
   ]
  },
  {
   "cell_type": "code",
   "execution_count": 55,
   "metadata": {},
   "outputs": [],
   "source": [
    "internet['month'] = internet['session_date'].dt.month\n",
    "int_median = pd.pivot_table(internet, values=['mb_used'],  index=['user_id'], aggfunc = 'median')"
   ]
  },
  {
   "cell_type": "code",
   "execution_count": 56,
   "metadata": {},
   "outputs": [
    {
     "data": {
      "text/html": [
       "<div>\n",
       "<style scoped>\n",
       "    .dataframe tbody tr th:only-of-type {\n",
       "        vertical-align: middle;\n",
       "    }\n",
       "\n",
       "    .dataframe tbody tr th {\n",
       "        vertical-align: top;\n",
       "    }\n",
       "\n",
       "    .dataframe thead th {\n",
       "        text-align: right;\n",
       "    }\n",
       "</style>\n",
       "<table border=\"1\" class=\"dataframe\">\n",
       "  <thead>\n",
       "    <tr style=\"text-align: right;\">\n",
       "      <th></th>\n",
       "      <th>mb_used</th>\n",
       "    </tr>\n",
       "    <tr>\n",
       "      <th>user_id</th>\n",
       "      <th></th>\n",
       "    </tr>\n",
       "  </thead>\n",
       "  <tbody>\n",
       "    <tr>\n",
       "      <td>1000</td>\n",
       "      <td>270.990</td>\n",
       "    </tr>\n",
       "    <tr>\n",
       "      <td>1001</td>\n",
       "      <td>295.160</td>\n",
       "    </tr>\n",
       "    <tr>\n",
       "      <td>1002</td>\n",
       "      <td>337.680</td>\n",
       "    </tr>\n",
       "    <tr>\n",
       "      <td>1003</td>\n",
       "      <td>474.380</td>\n",
       "    </tr>\n",
       "    <tr>\n",
       "      <td>1004</td>\n",
       "      <td>334.515</td>\n",
       "    </tr>\n",
       "    <tr>\n",
       "      <td>...</td>\n",
       "      <td>...</td>\n",
       "    </tr>\n",
       "    <tr>\n",
       "      <td>1495</td>\n",
       "      <td>315.585</td>\n",
       "    </tr>\n",
       "    <tr>\n",
       "      <td>1496</td>\n",
       "      <td>248.530</td>\n",
       "    </tr>\n",
       "    <tr>\n",
       "      <td>1497</td>\n",
       "      <td>270.530</td>\n",
       "    </tr>\n",
       "    <tr>\n",
       "      <td>1498</td>\n",
       "      <td>335.300</td>\n",
       "    </tr>\n",
       "    <tr>\n",
       "      <td>1499</td>\n",
       "      <td>290.975</td>\n",
       "    </tr>\n",
       "  </tbody>\n",
       "</table>\n",
       "<p>489 rows × 1 columns</p>\n",
       "</div>"
      ],
      "text/plain": [
       "         mb_used\n",
       "user_id         \n",
       "1000     270.990\n",
       "1001     295.160\n",
       "1002     337.680\n",
       "1003     474.380\n",
       "1004     334.515\n",
       "...          ...\n",
       "1495     315.585\n",
       "1496     248.530\n",
       "1497     270.530\n",
       "1498     335.300\n",
       "1499     290.975\n",
       "\n",
       "[489 rows x 1 columns]"
      ]
     },
     "execution_count": 56,
     "metadata": {},
     "output_type": "execute_result"
    }
   ],
   "source": [
    "int_median"
   ]
  },
  {
   "cell_type": "markdown",
   "metadata": {},
   "source": [
    "avg monthly data usage"
   ]
  },
  {
   "cell_type": "code",
   "execution_count": 57,
   "metadata": {},
   "outputs": [
    {
     "data": {
      "text/html": [
       "<div>\n",
       "<style scoped>\n",
       "    .dataframe tbody tr th:only-of-type {\n",
       "        vertical-align: middle;\n",
       "    }\n",
       "\n",
       "    .dataframe tbody tr th {\n",
       "        vertical-align: top;\n",
       "    }\n",
       "\n",
       "    .dataframe thead th {\n",
       "        text-align: right;\n",
       "    }\n",
       "</style>\n",
       "<table border=\"1\" class=\"dataframe\">\n",
       "  <thead>\n",
       "    <tr style=\"text-align: right;\">\n",
       "      <th></th>\n",
       "      <th>mb_used</th>\n",
       "      <th>gb_charged</th>\n",
       "    </tr>\n",
       "    <tr>\n",
       "      <th>user_id</th>\n",
       "      <th></th>\n",
       "      <th></th>\n",
       "    </tr>\n",
       "  </thead>\n",
       "  <tbody>\n",
       "    <tr>\n",
       "      <td>1000</td>\n",
       "      <td>270.990</td>\n",
       "      <td>1</td>\n",
       "    </tr>\n",
       "    <tr>\n",
       "      <td>1001</td>\n",
       "      <td>295.160</td>\n",
       "      <td>1</td>\n",
       "    </tr>\n",
       "    <tr>\n",
       "      <td>1002</td>\n",
       "      <td>337.680</td>\n",
       "      <td>1</td>\n",
       "    </tr>\n",
       "    <tr>\n",
       "      <td>1003</td>\n",
       "      <td>474.380</td>\n",
       "      <td>1</td>\n",
       "    </tr>\n",
       "    <tr>\n",
       "      <td>1004</td>\n",
       "      <td>334.515</td>\n",
       "      <td>1</td>\n",
       "    </tr>\n",
       "    <tr>\n",
       "      <td>...</td>\n",
       "      <td>...</td>\n",
       "      <td>...</td>\n",
       "    </tr>\n",
       "    <tr>\n",
       "      <td>1495</td>\n",
       "      <td>315.585</td>\n",
       "      <td>1</td>\n",
       "    </tr>\n",
       "    <tr>\n",
       "      <td>1496</td>\n",
       "      <td>248.530</td>\n",
       "      <td>1</td>\n",
       "    </tr>\n",
       "    <tr>\n",
       "      <td>1497</td>\n",
       "      <td>270.530</td>\n",
       "      <td>1</td>\n",
       "    </tr>\n",
       "    <tr>\n",
       "      <td>1498</td>\n",
       "      <td>335.300</td>\n",
       "      <td>1</td>\n",
       "    </tr>\n",
       "    <tr>\n",
       "      <td>1499</td>\n",
       "      <td>290.975</td>\n",
       "      <td>1</td>\n",
       "    </tr>\n",
       "  </tbody>\n",
       "</table>\n",
       "<p>489 rows × 2 columns</p>\n",
       "</div>"
      ],
      "text/plain": [
       "         mb_used  gb_charged\n",
       "user_id                     \n",
       "1000     270.990           1\n",
       "1001     295.160           1\n",
       "1002     337.680           1\n",
       "1003     474.380           1\n",
       "1004     334.515           1\n",
       "...          ...         ...\n",
       "1495     315.585           1\n",
       "1496     248.530           1\n",
       "1497     270.530           1\n",
       "1498     335.300           1\n",
       "1499     290.975           1\n",
       "\n",
       "[489 rows x 2 columns]"
      ]
     },
     "execution_count": 57,
     "metadata": {},
     "output_type": "execute_result"
    }
   ],
   "source": [
    "int_median['gb_charged'] = int_median['mb_used'] / 1024\n",
    "int_median['gb_charged'] = np.ceil(int_median['gb_charged']).astype(int)\n",
    "int_median"
   ]
  },
  {
   "cell_type": "markdown",
   "metadata": {},
   "source": [
    "For web traffic, individual web sessions are not rounded up. Instead, the total for the month is rounded up. If someone uses 1025 megabytes this month, they will be charged for 2 gigabytes. \n",
    "\n",
    "So I kept actual values of megabytes spent to see how much traffic resources subscribers are actually using, and added gb_charged column to show rounded number of gigabytes to be charged."
   ]
  },
  {
   "cell_type": "markdown",
   "metadata": {},
   "source": [
    "##### 2.6 Tables united"
   ]
  },
  {
   "cell_type": "markdown",
   "metadata": {},
   "source": [
    "So let's unite the tables"
   ]
  },
  {
   "cell_type": "code",
   "execution_count": 58,
   "metadata": {},
   "outputs": [],
   "source": [
    "from functools import reduce"
   ]
  },
  {
   "cell_type": "code",
   "execution_count": 59,
   "metadata": {},
   "outputs": [],
   "source": [
    "data_frames = [users, int_median, avg_msg, duration_median]\n",
    "megaline = reduce(lambda  left,right: pd.merge(left,right,on=['user_id'],\n",
    "                                            how='outer'), data_frames).fillna(0)"
   ]
  },
  {
   "cell_type": "code",
   "execution_count": 60,
   "metadata": {},
   "outputs": [
    {
     "name": "stdout",
     "output_type": "stream",
     "text": [
      "<class 'pandas.core.frame.DataFrame'>\n",
      "Int64Index: 500 entries, 0 to 499\n",
      "Data columns (total 13 columns):\n",
      "user_id       500 non-null int64\n",
      "first_name    500 non-null object\n",
      "last_name     500 non-null object\n",
      "age           500 non-null int64\n",
      "city          500 non-null object\n",
      "reg_date      500 non-null object\n",
      "plan          500 non-null object\n",
      "churn_date    500 non-null object\n",
      "mb_used       500 non-null float64\n",
      "gb_charged    500 non-null float64\n",
      "msg_num       500 non-null float64\n",
      "call_num      500 non-null float64\n",
      "call_dur      500 non-null float64\n",
      "dtypes: float64(5), int64(2), object(6)\n",
      "memory usage: 54.7+ KB\n"
     ]
    }
   ],
   "source": [
    "megaline.info()"
   ]
  },
  {
   "cell_type": "markdown",
   "metadata": {},
   "source": [
    "btw transforming chrun_date into boolean just out of curiosity"
   ]
  },
  {
   "cell_type": "code",
   "execution_count": 61,
   "metadata": {},
   "outputs": [],
   "source": [
    "def churn_bool(megaline):\n",
    "    for row in megaline:\n",
    "        if megaline['churn_date'] == 0: \n",
    "            return 0\n",
    "        else:\n",
    "            return 1\n",
    "        \n",
    "megaline['stopped'] = megaline.apply(churn_bool, axis = 1)    \n",
    "megaline = megaline.drop(['churn_date'], axis=1)"
   ]
  },
  {
   "cell_type": "code",
   "execution_count": 62,
   "metadata": {},
   "outputs": [
    {
     "data": {
      "text/plain": [
       "0    466\n",
       "1     34\n",
       "Name: stopped, dtype: int64"
      ]
     },
     "execution_count": 62,
     "metadata": {},
     "output_type": "execute_result"
    }
   ],
   "source": [
    "megaline['stopped'].value_counts()"
   ]
  },
  {
   "cell_type": "code",
   "execution_count": 63,
   "metadata": {},
   "outputs": [],
   "source": [
    "megaline['mb_used'] = megaline['mb_used'].astype(int)\n",
    "megaline['gb_charged'] = megaline['gb_charged'].astype(int)\n",
    "megaline['msg_num'] = megaline['msg_num'].astype(int)\n",
    "megaline['call_num'] = megaline['call_num'].astype(int)\n",
    "megaline['call_dur'] = megaline['call_dur'].astype(int);\n",
    "#integering some floats again"
   ]
  },
  {
   "cell_type": "code",
   "execution_count": 64,
   "metadata": {},
   "outputs": [
    {
     "data": {
      "text/html": [
       "<div>\n",
       "<style scoped>\n",
       "    .dataframe tbody tr th:only-of-type {\n",
       "        vertical-align: middle;\n",
       "    }\n",
       "\n",
       "    .dataframe tbody tr th {\n",
       "        vertical-align: top;\n",
       "    }\n",
       "\n",
       "    .dataframe thead th {\n",
       "        text-align: right;\n",
       "    }\n",
       "</style>\n",
       "<table border=\"1\" class=\"dataframe\">\n",
       "  <thead>\n",
       "    <tr style=\"text-align: right;\">\n",
       "      <th></th>\n",
       "      <th>user_id</th>\n",
       "      <th>first_name</th>\n",
       "      <th>last_name</th>\n",
       "      <th>age</th>\n",
       "      <th>city</th>\n",
       "      <th>reg_date</th>\n",
       "      <th>plan</th>\n",
       "      <th>mb_used</th>\n",
       "      <th>gb_charged</th>\n",
       "      <th>msg_num</th>\n",
       "      <th>call_num</th>\n",
       "      <th>call_dur</th>\n",
       "      <th>stopped</th>\n",
       "    </tr>\n",
       "  </thead>\n",
       "  <tbody>\n",
       "    <tr>\n",
       "      <td>0</td>\n",
       "      <td>1000</td>\n",
       "      <td>Anamaria</td>\n",
       "      <td>Bauer</td>\n",
       "      <td>45</td>\n",
       "      <td>Atlanta-Sandy Springs-Roswell, GA MSA</td>\n",
       "      <td>2018-12-24</td>\n",
       "      <td>ultimate</td>\n",
       "      <td>270</td>\n",
       "      <td>1</td>\n",
       "      <td>11</td>\n",
       "      <td>16</td>\n",
       "      <td>124</td>\n",
       "      <td>0</td>\n",
       "    </tr>\n",
       "    <tr>\n",
       "      <td>1</td>\n",
       "      <td>1001</td>\n",
       "      <td>Mickey</td>\n",
       "      <td>Wilkerson</td>\n",
       "      <td>28</td>\n",
       "      <td>Seattle-Tacoma-Bellevue, WA MSA</td>\n",
       "      <td>2018-08-13</td>\n",
       "      <td>surf</td>\n",
       "      <td>295</td>\n",
       "      <td>1</td>\n",
       "      <td>44</td>\n",
       "      <td>46</td>\n",
       "      <td>393</td>\n",
       "      <td>0</td>\n",
       "    </tr>\n",
       "    <tr>\n",
       "      <td>2</td>\n",
       "      <td>1002</td>\n",
       "      <td>Carlee</td>\n",
       "      <td>Hoffman</td>\n",
       "      <td>36</td>\n",
       "      <td>Las Vegas-Henderson-Paradise, NV MSA</td>\n",
       "      <td>2018-10-21</td>\n",
       "      <td>surf</td>\n",
       "      <td>337</td>\n",
       "      <td>1</td>\n",
       "      <td>32</td>\n",
       "      <td>38</td>\n",
       "      <td>384</td>\n",
       "      <td>0</td>\n",
       "    </tr>\n",
       "    <tr>\n",
       "      <td>3</td>\n",
       "      <td>1003</td>\n",
       "      <td>Reynaldo</td>\n",
       "      <td>Jenkins</td>\n",
       "      <td>52</td>\n",
       "      <td>Tulsa, OK MSA</td>\n",
       "      <td>2018-01-28</td>\n",
       "      <td>surf</td>\n",
       "      <td>474</td>\n",
       "      <td>1</td>\n",
       "      <td>50</td>\n",
       "      <td>118</td>\n",
       "      <td>1104</td>\n",
       "      <td>0</td>\n",
       "    </tr>\n",
       "    <tr>\n",
       "      <td>4</td>\n",
       "      <td>1004</td>\n",
       "      <td>Leonila</td>\n",
       "      <td>Thompson</td>\n",
       "      <td>40</td>\n",
       "      <td>Seattle-Tacoma-Bellevue, WA MSA</td>\n",
       "      <td>2018-05-23</td>\n",
       "      <td>surf</td>\n",
       "      <td>334</td>\n",
       "      <td>1</td>\n",
       "      <td>24</td>\n",
       "      <td>42</td>\n",
       "      <td>359</td>\n",
       "      <td>0</td>\n",
       "    </tr>\n",
       "    <tr>\n",
       "      <td>...</td>\n",
       "      <td>...</td>\n",
       "      <td>...</td>\n",
       "      <td>...</td>\n",
       "      <td>...</td>\n",
       "      <td>...</td>\n",
       "      <td>...</td>\n",
       "      <td>...</td>\n",
       "      <td>...</td>\n",
       "      <td>...</td>\n",
       "      <td>...</td>\n",
       "      <td>...</td>\n",
       "      <td>...</td>\n",
       "      <td>...</td>\n",
       "    </tr>\n",
       "    <tr>\n",
       "      <td>495</td>\n",
       "      <td>1495</td>\n",
       "      <td>Fidel</td>\n",
       "      <td>Sharpe</td>\n",
       "      <td>67</td>\n",
       "      <td>New York-Newark-Jersey City, NY-NJ-PA MSA</td>\n",
       "      <td>2018-09-04</td>\n",
       "      <td>surf</td>\n",
       "      <td>315</td>\n",
       "      <td>1</td>\n",
       "      <td>0</td>\n",
       "      <td>53</td>\n",
       "      <td>426</td>\n",
       "      <td>0</td>\n",
       "    </tr>\n",
       "    <tr>\n",
       "      <td>496</td>\n",
       "      <td>1496</td>\n",
       "      <td>Ariel</td>\n",
       "      <td>Shepherd</td>\n",
       "      <td>49</td>\n",
       "      <td>New Orleans-Metairie, LA MSA</td>\n",
       "      <td>2018-02-20</td>\n",
       "      <td>surf</td>\n",
       "      <td>248</td>\n",
       "      <td>1</td>\n",
       "      <td>13</td>\n",
       "      <td>32</td>\n",
       "      <td>308</td>\n",
       "      <td>0</td>\n",
       "    </tr>\n",
       "    <tr>\n",
       "      <td>497</td>\n",
       "      <td>1497</td>\n",
       "      <td>Donte</td>\n",
       "      <td>Barrera</td>\n",
       "      <td>49</td>\n",
       "      <td>Los Angeles-Long Beach-Anaheim, CA MSA</td>\n",
       "      <td>2018-12-10</td>\n",
       "      <td>ultimate</td>\n",
       "      <td>270</td>\n",
       "      <td>1</td>\n",
       "      <td>50</td>\n",
       "      <td>42</td>\n",
       "      <td>300</td>\n",
       "      <td>0</td>\n",
       "    </tr>\n",
       "    <tr>\n",
       "      <td>498</td>\n",
       "      <td>1498</td>\n",
       "      <td>Scot</td>\n",
       "      <td>Williamson</td>\n",
       "      <td>51</td>\n",
       "      <td>New York-Newark-Jersey City, NY-NJ-PA MSA</td>\n",
       "      <td>2018-02-04</td>\n",
       "      <td>surf</td>\n",
       "      <td>335</td>\n",
       "      <td>1</td>\n",
       "      <td>0</td>\n",
       "      <td>32</td>\n",
       "      <td>288</td>\n",
       "      <td>0</td>\n",
       "    </tr>\n",
       "    <tr>\n",
       "      <td>499</td>\n",
       "      <td>1499</td>\n",
       "      <td>Shena</td>\n",
       "      <td>Dickson</td>\n",
       "      <td>37</td>\n",
       "      <td>Orlando-Kissimmee-Sanford, FL MSA</td>\n",
       "      <td>2018-05-06</td>\n",
       "      <td>surf</td>\n",
       "      <td>290</td>\n",
       "      <td>1</td>\n",
       "      <td>0</td>\n",
       "      <td>40</td>\n",
       "      <td>365</td>\n",
       "      <td>0</td>\n",
       "    </tr>\n",
       "  </tbody>\n",
       "</table>\n",
       "<p>500 rows × 13 columns</p>\n",
       "</div>"
      ],
      "text/plain": [
       "     user_id first_name   last_name  age  \\\n",
       "0       1000   Anamaria       Bauer   45   \n",
       "1       1001     Mickey   Wilkerson   28   \n",
       "2       1002     Carlee     Hoffman   36   \n",
       "3       1003   Reynaldo     Jenkins   52   \n",
       "4       1004    Leonila    Thompson   40   \n",
       "..       ...        ...         ...  ...   \n",
       "495     1495      Fidel      Sharpe   67   \n",
       "496     1496      Ariel    Shepherd   49   \n",
       "497     1497      Donte     Barrera   49   \n",
       "498     1498       Scot  Williamson   51   \n",
       "499     1499      Shena     Dickson   37   \n",
       "\n",
       "                                          city    reg_date      plan  mb_used  \\\n",
       "0        Atlanta-Sandy Springs-Roswell, GA MSA  2018-12-24  ultimate      270   \n",
       "1              Seattle-Tacoma-Bellevue, WA MSA  2018-08-13      surf      295   \n",
       "2         Las Vegas-Henderson-Paradise, NV MSA  2018-10-21      surf      337   \n",
       "3                                Tulsa, OK MSA  2018-01-28      surf      474   \n",
       "4              Seattle-Tacoma-Bellevue, WA MSA  2018-05-23      surf      334   \n",
       "..                                         ...         ...       ...      ...   \n",
       "495  New York-Newark-Jersey City, NY-NJ-PA MSA  2018-09-04      surf      315   \n",
       "496               New Orleans-Metairie, LA MSA  2018-02-20      surf      248   \n",
       "497     Los Angeles-Long Beach-Anaheim, CA MSA  2018-12-10  ultimate      270   \n",
       "498  New York-Newark-Jersey City, NY-NJ-PA MSA  2018-02-04      surf      335   \n",
       "499          Orlando-Kissimmee-Sanford, FL MSA  2018-05-06      surf      290   \n",
       "\n",
       "     gb_charged  msg_num  call_num  call_dur  stopped  \n",
       "0             1       11        16       124        0  \n",
       "1             1       44        46       393        0  \n",
       "2             1       32        38       384        0  \n",
       "3             1       50       118      1104        0  \n",
       "4             1       24        42       359        0  \n",
       "..          ...      ...       ...       ...      ...  \n",
       "495           1        0        53       426        0  \n",
       "496           1       13        32       308        0  \n",
       "497           1       50        42       300        0  \n",
       "498           1        0        32       288        0  \n",
       "499           1        0        40       365        0  \n",
       "\n",
       "[500 rows x 13 columns]"
      ]
     },
     "execution_count": 64,
     "metadata": {},
     "output_type": "execute_result"
    }
   ],
   "source": [
    "megaline"
   ]
  },
  {
   "cell_type": "markdown",
   "metadata": {},
   "source": [
    "So here I got the table with average monthly per user values for calls, messages, and data volume  "
   ]
  },
  {
   "cell_type": "markdown",
   "metadata": {},
   "source": [
    "##### 2.7 Profit"
   ]
  },
  {
   "cell_type": "markdown",
   "metadata": {},
   "source": [
    "Here I supposed to find the monthly profit from each user by subtracting the free package limit from the total number of calls, text messages, and data; multiplying then the result by the calling plan value, and adding the monthly charge depending on the calling plan. That's not exactly a profit, more like a monthly expenditures per user. No idea what margins are, so can't calculate revenues, but let's assume here, that higher cost mean higher margin."
   ]
  },
  {
   "cell_type": "code",
   "execution_count": 65,
   "metadata": {},
   "outputs": [
    {
     "data": {
      "text/html": [
       "<div>\n",
       "<style scoped>\n",
       "    .dataframe tbody tr th:only-of-type {\n",
       "        vertical-align: middle;\n",
       "    }\n",
       "\n",
       "    .dataframe tbody tr th {\n",
       "        vertical-align: top;\n",
       "    }\n",
       "\n",
       "    .dataframe thead th {\n",
       "        text-align: right;\n",
       "    }\n",
       "</style>\n",
       "<table border=\"1\" class=\"dataframe\">\n",
       "  <thead>\n",
       "    <tr style=\"text-align: right;\">\n",
       "      <th></th>\n",
       "      <th>messages_included</th>\n",
       "      <th>mb_per_month_included</th>\n",
       "      <th>minutes_included</th>\n",
       "      <th>usd_monthly_pay</th>\n",
       "      <th>usd_per_gb</th>\n",
       "      <th>usd_per_message</th>\n",
       "      <th>usd_per_minute</th>\n",
       "      <th>plan_name</th>\n",
       "    </tr>\n",
       "  </thead>\n",
       "  <tbody>\n",
       "    <tr>\n",
       "      <td>0</td>\n",
       "      <td>50</td>\n",
       "      <td>15360</td>\n",
       "      <td>500</td>\n",
       "      <td>20</td>\n",
       "      <td>10</td>\n",
       "      <td>0.03</td>\n",
       "      <td>0.03</td>\n",
       "      <td>surf</td>\n",
       "    </tr>\n",
       "    <tr>\n",
       "      <td>1</td>\n",
       "      <td>1000</td>\n",
       "      <td>30720</td>\n",
       "      <td>3000</td>\n",
       "      <td>70</td>\n",
       "      <td>7</td>\n",
       "      <td>0.01</td>\n",
       "      <td>0.01</td>\n",
       "      <td>ultimate</td>\n",
       "    </tr>\n",
       "  </tbody>\n",
       "</table>\n",
       "</div>"
      ],
      "text/plain": [
       "   messages_included  mb_per_month_included  minutes_included  \\\n",
       "0                 50                  15360               500   \n",
       "1               1000                  30720              3000   \n",
       "\n",
       "   usd_monthly_pay  usd_per_gb  usd_per_message  usd_per_minute plan_name  \n",
       "0               20          10             0.03            0.03      surf  \n",
       "1               70           7             0.01            0.01  ultimate  "
      ]
     },
     "execution_count": 65,
     "metadata": {},
     "output_type": "execute_result"
    }
   ],
   "source": [
    "plans"
   ]
  },
  {
   "cell_type": "code",
   "execution_count": 66,
   "metadata": {},
   "outputs": [],
   "source": [
    "def cost(row):\n",
    "    \n",
    "    plan=row['plan']\n",
    "    mb_used=row['mb_used']\n",
    "    call_dur=row['call_dur']\n",
    "    msg_num=row['msg_num']\n",
    "    gb_charged=row['gb_charged']\n",
    "    \n",
    "    if plan == 'ultimate':\n",
    "        subscr=70\n",
    "    else:    \n",
    "        subscr=20\n",
    "        \n",
    "        \n",
    "    if plan == 'ultimate': \n",
    "        if call_dur > 3000:\n",
    "            call_cost=(call_dur-3000)*0.1\n",
    "        else:\n",
    "            call_cost=0\n",
    "    \n",
    "    if plan == 'surf': \n",
    "        if call_dur > 500:    \n",
    "            call_cost=(call_dur-500)*0.3\n",
    "        else:\n",
    "            call_cost=0    \n",
    "        \n",
    "        \n",
    "    if plan == 'ultimate':\n",
    "        if msg_num > 1000:\n",
    "            msg_cost=(msg_num-1000)*0.1\n",
    "        else:    \n",
    "            msg_cost=0\n",
    "    \n",
    "    if plan == 'surf':     \n",
    "        if msg_num > 50:\n",
    "            msg_cost=(msg_num-50)*0.3\n",
    "        else:    \n",
    "            msg_cost=0    \n",
    "        \n",
    "        \n",
    "    if plan == 'ultimate':\n",
    "        if gb_charged > 30:\n",
    "            int_cost=(gb_charged-30)*7\n",
    "        else:    \n",
    "            int_cost=0\n",
    "        \n",
    "    if plan == 'surf':  \n",
    "        if gb_charged > 15:\n",
    "            int_cost=(gb_charged-15)*10\n",
    "        else:    \n",
    "            int_cost=0\n",
    "        \n",
    "        \n",
    "    total_cost=subscr+call_cost+msg_cost+int_cost\n",
    "    return total_cost    "
   ]
  },
  {
   "cell_type": "code",
   "execution_count": 67,
   "metadata": {},
   "outputs": [
    {
     "data": {
      "text/html": [
       "<div>\n",
       "<style scoped>\n",
       "    .dataframe tbody tr th:only-of-type {\n",
       "        vertical-align: middle;\n",
       "    }\n",
       "\n",
       "    .dataframe tbody tr th {\n",
       "        vertical-align: top;\n",
       "    }\n",
       "\n",
       "    .dataframe thead th {\n",
       "        text-align: right;\n",
       "    }\n",
       "</style>\n",
       "<table border=\"1\" class=\"dataframe\">\n",
       "  <thead>\n",
       "    <tr style=\"text-align: right;\">\n",
       "      <th></th>\n",
       "      <th>user_id</th>\n",
       "      <th>first_name</th>\n",
       "      <th>last_name</th>\n",
       "      <th>age</th>\n",
       "      <th>city</th>\n",
       "      <th>reg_date</th>\n",
       "      <th>plan</th>\n",
       "      <th>mb_used</th>\n",
       "      <th>gb_charged</th>\n",
       "      <th>msg_num</th>\n",
       "      <th>call_num</th>\n",
       "      <th>call_dur</th>\n",
       "      <th>stopped</th>\n",
       "      <th>total_cost</th>\n",
       "    </tr>\n",
       "  </thead>\n",
       "  <tbody>\n",
       "    <tr>\n",
       "      <td>0</td>\n",
       "      <td>1000</td>\n",
       "      <td>Anamaria</td>\n",
       "      <td>Bauer</td>\n",
       "      <td>45</td>\n",
       "      <td>Atlanta-Sandy Springs-Roswell, GA MSA</td>\n",
       "      <td>2018-12-24</td>\n",
       "      <td>ultimate</td>\n",
       "      <td>270</td>\n",
       "      <td>1</td>\n",
       "      <td>11</td>\n",
       "      <td>16</td>\n",
       "      <td>124</td>\n",
       "      <td>0</td>\n",
       "      <td>70</td>\n",
       "    </tr>\n",
       "    <tr>\n",
       "      <td>1</td>\n",
       "      <td>1001</td>\n",
       "      <td>Mickey</td>\n",
       "      <td>Wilkerson</td>\n",
       "      <td>28</td>\n",
       "      <td>Seattle-Tacoma-Bellevue, WA MSA</td>\n",
       "      <td>2018-08-13</td>\n",
       "      <td>surf</td>\n",
       "      <td>295</td>\n",
       "      <td>1</td>\n",
       "      <td>44</td>\n",
       "      <td>46</td>\n",
       "      <td>393</td>\n",
       "      <td>0</td>\n",
       "      <td>20</td>\n",
       "    </tr>\n",
       "    <tr>\n",
       "      <td>2</td>\n",
       "      <td>1002</td>\n",
       "      <td>Carlee</td>\n",
       "      <td>Hoffman</td>\n",
       "      <td>36</td>\n",
       "      <td>Las Vegas-Henderson-Paradise, NV MSA</td>\n",
       "      <td>2018-10-21</td>\n",
       "      <td>surf</td>\n",
       "      <td>337</td>\n",
       "      <td>1</td>\n",
       "      <td>32</td>\n",
       "      <td>38</td>\n",
       "      <td>384</td>\n",
       "      <td>0</td>\n",
       "      <td>20</td>\n",
       "    </tr>\n",
       "    <tr>\n",
       "      <td>3</td>\n",
       "      <td>1003</td>\n",
       "      <td>Reynaldo</td>\n",
       "      <td>Jenkins</td>\n",
       "      <td>52</td>\n",
       "      <td>Tulsa, OK MSA</td>\n",
       "      <td>2018-01-28</td>\n",
       "      <td>surf</td>\n",
       "      <td>474</td>\n",
       "      <td>1</td>\n",
       "      <td>50</td>\n",
       "      <td>118</td>\n",
       "      <td>1104</td>\n",
       "      <td>0</td>\n",
       "      <td>201</td>\n",
       "    </tr>\n",
       "    <tr>\n",
       "      <td>4</td>\n",
       "      <td>1004</td>\n",
       "      <td>Leonila</td>\n",
       "      <td>Thompson</td>\n",
       "      <td>40</td>\n",
       "      <td>Seattle-Tacoma-Bellevue, WA MSA</td>\n",
       "      <td>2018-05-23</td>\n",
       "      <td>surf</td>\n",
       "      <td>334</td>\n",
       "      <td>1</td>\n",
       "      <td>24</td>\n",
       "      <td>42</td>\n",
       "      <td>359</td>\n",
       "      <td>0</td>\n",
       "      <td>20</td>\n",
       "    </tr>\n",
       "    <tr>\n",
       "      <td>5</td>\n",
       "      <td>1005</td>\n",
       "      <td>Livia</td>\n",
       "      <td>Shields</td>\n",
       "      <td>31</td>\n",
       "      <td>Dallas-Fort Worth-Arlington, TX MSA</td>\n",
       "      <td>2018-11-29</td>\n",
       "      <td>surf</td>\n",
       "      <td>264</td>\n",
       "      <td>1</td>\n",
       "      <td>11</td>\n",
       "      <td>50</td>\n",
       "      <td>496</td>\n",
       "      <td>0</td>\n",
       "      <td>20</td>\n",
       "    </tr>\n",
       "    <tr>\n",
       "      <td>6</td>\n",
       "      <td>1006</td>\n",
       "      <td>Jesusa</td>\n",
       "      <td>Bradford</td>\n",
       "      <td>73</td>\n",
       "      <td>San Francisco-Oakland-Berkeley, CA MSA</td>\n",
       "      <td>2018-11-27</td>\n",
       "      <td>ultimate</td>\n",
       "      <td>487</td>\n",
       "      <td>1</td>\n",
       "      <td>77</td>\n",
       "      <td>4</td>\n",
       "      <td>34</td>\n",
       "      <td>1</td>\n",
       "      <td>70</td>\n",
       "    </tr>\n",
       "    <tr>\n",
       "      <td>7</td>\n",
       "      <td>1007</td>\n",
       "      <td>Eusebio</td>\n",
       "      <td>Welch</td>\n",
       "      <td>42</td>\n",
       "      <td>Grand Rapids-Kentwood, MI MSA</td>\n",
       "      <td>2018-07-11</td>\n",
       "      <td>surf</td>\n",
       "      <td>526</td>\n",
       "      <td>1</td>\n",
       "      <td>50</td>\n",
       "      <td>61</td>\n",
       "      <td>524</td>\n",
       "      <td>0</td>\n",
       "      <td>27</td>\n",
       "    </tr>\n",
       "    <tr>\n",
       "      <td>8</td>\n",
       "      <td>1008</td>\n",
       "      <td>Emely</td>\n",
       "      <td>Hoffman</td>\n",
       "      <td>53</td>\n",
       "      <td>Orlando-Kissimmee-Sanford, FL MSA</td>\n",
       "      <td>2018-08-03</td>\n",
       "      <td>ultimate</td>\n",
       "      <td>275</td>\n",
       "      <td>1</td>\n",
       "      <td>26</td>\n",
       "      <td>54</td>\n",
       "      <td>476</td>\n",
       "      <td>0</td>\n",
       "      <td>70</td>\n",
       "    </tr>\n",
       "    <tr>\n",
       "      <td>9</td>\n",
       "      <td>1009</td>\n",
       "      <td>Gerry</td>\n",
       "      <td>Little</td>\n",
       "      <td>19</td>\n",
       "      <td>San Jose-Sunnyvale-Santa Clara, CA MSA</td>\n",
       "      <td>2018-04-22</td>\n",
       "      <td>surf</td>\n",
       "      <td>473</td>\n",
       "      <td>1</td>\n",
       "      <td>0</td>\n",
       "      <td>90</td>\n",
       "      <td>748</td>\n",
       "      <td>0</td>\n",
       "      <td>94</td>\n",
       "    </tr>\n",
       "    <tr>\n",
       "      <td>10</td>\n",
       "      <td>1010</td>\n",
       "      <td>Wilber</td>\n",
       "      <td>Blair</td>\n",
       "      <td>52</td>\n",
       "      <td>Dallas-Fort Worth-Arlington, TX MSA</td>\n",
       "      <td>2018-03-09</td>\n",
       "      <td>surf</td>\n",
       "      <td>318</td>\n",
       "      <td>1</td>\n",
       "      <td>0</td>\n",
       "      <td>69</td>\n",
       "      <td>601</td>\n",
       "      <td>0</td>\n",
       "      <td>50</td>\n",
       "    </tr>\n",
       "    <tr>\n",
       "      <td>11</td>\n",
       "      <td>1011</td>\n",
       "      <td>Halina</td>\n",
       "      <td>Henry</td>\n",
       "      <td>73</td>\n",
       "      <td>Cleveland-Elyria, OH MSA</td>\n",
       "      <td>2018-01-18</td>\n",
       "      <td>ultimate</td>\n",
       "      <td>297</td>\n",
       "      <td>1</td>\n",
       "      <td>58</td>\n",
       "      <td>49</td>\n",
       "      <td>486</td>\n",
       "      <td>0</td>\n",
       "      <td>70</td>\n",
       "    </tr>\n",
       "    <tr>\n",
       "      <td>12</td>\n",
       "      <td>1012</td>\n",
       "      <td>Jonelle</td>\n",
       "      <td>Mcbride</td>\n",
       "      <td>59</td>\n",
       "      <td>Chicago-Naperville-Elgin, IL-IN-WI MSA</td>\n",
       "      <td>2018-06-28</td>\n",
       "      <td>surf</td>\n",
       "      <td>418</td>\n",
       "      <td>1</td>\n",
       "      <td>0</td>\n",
       "      <td>10</td>\n",
       "      <td>76</td>\n",
       "      <td>1</td>\n",
       "      <td>20</td>\n",
       "    </tr>\n",
       "    <tr>\n",
       "      <td>13</td>\n",
       "      <td>1013</td>\n",
       "      <td>Nicolas</td>\n",
       "      <td>Snider</td>\n",
       "      <td>50</td>\n",
       "      <td>Knoxville, TN MSA</td>\n",
       "      <td>2018-12-01</td>\n",
       "      <td>ultimate</td>\n",
       "      <td>316</td>\n",
       "      <td>1</td>\n",
       "      <td>16</td>\n",
       "      <td>26</td>\n",
       "      <td>219</td>\n",
       "      <td>0</td>\n",
       "      <td>70</td>\n",
       "    </tr>\n",
       "    <tr>\n",
       "      <td>14</td>\n",
       "      <td>1014</td>\n",
       "      <td>Edmundo</td>\n",
       "      <td>Simon</td>\n",
       "      <td>61</td>\n",
       "      <td>New York-Newark-Jersey City, NY-NJ-PA MSA</td>\n",
       "      <td>2018-11-25</td>\n",
       "      <td>surf</td>\n",
       "      <td>418</td>\n",
       "      <td>1</td>\n",
       "      <td>36</td>\n",
       "      <td>74</td>\n",
       "      <td>638</td>\n",
       "      <td>0</td>\n",
       "      <td>61</td>\n",
       "    </tr>\n",
       "  </tbody>\n",
       "</table>\n",
       "</div>"
      ],
      "text/plain": [
       "    user_id first_name  last_name  age  \\\n",
       "0      1000   Anamaria      Bauer   45   \n",
       "1      1001     Mickey  Wilkerson   28   \n",
       "2      1002     Carlee    Hoffman   36   \n",
       "3      1003   Reynaldo    Jenkins   52   \n",
       "4      1004    Leonila   Thompson   40   \n",
       "5      1005      Livia    Shields   31   \n",
       "6      1006     Jesusa   Bradford   73   \n",
       "7      1007    Eusebio      Welch   42   \n",
       "8      1008      Emely    Hoffman   53   \n",
       "9      1009      Gerry     Little   19   \n",
       "10     1010     Wilber      Blair   52   \n",
       "11     1011     Halina      Henry   73   \n",
       "12     1012    Jonelle    Mcbride   59   \n",
       "13     1013    Nicolas     Snider   50   \n",
       "14     1014    Edmundo      Simon   61   \n",
       "\n",
       "                                         city    reg_date      plan  mb_used  \\\n",
       "0       Atlanta-Sandy Springs-Roswell, GA MSA  2018-12-24  ultimate      270   \n",
       "1             Seattle-Tacoma-Bellevue, WA MSA  2018-08-13      surf      295   \n",
       "2        Las Vegas-Henderson-Paradise, NV MSA  2018-10-21      surf      337   \n",
       "3                               Tulsa, OK MSA  2018-01-28      surf      474   \n",
       "4             Seattle-Tacoma-Bellevue, WA MSA  2018-05-23      surf      334   \n",
       "5         Dallas-Fort Worth-Arlington, TX MSA  2018-11-29      surf      264   \n",
       "6      San Francisco-Oakland-Berkeley, CA MSA  2018-11-27  ultimate      487   \n",
       "7               Grand Rapids-Kentwood, MI MSA  2018-07-11      surf      526   \n",
       "8           Orlando-Kissimmee-Sanford, FL MSA  2018-08-03  ultimate      275   \n",
       "9      San Jose-Sunnyvale-Santa Clara, CA MSA  2018-04-22      surf      473   \n",
       "10        Dallas-Fort Worth-Arlington, TX MSA  2018-03-09      surf      318   \n",
       "11                   Cleveland-Elyria, OH MSA  2018-01-18  ultimate      297   \n",
       "12     Chicago-Naperville-Elgin, IL-IN-WI MSA  2018-06-28      surf      418   \n",
       "13                          Knoxville, TN MSA  2018-12-01  ultimate      316   \n",
       "14  New York-Newark-Jersey City, NY-NJ-PA MSA  2018-11-25      surf      418   \n",
       "\n",
       "    gb_charged  msg_num  call_num  call_dur  stopped  total_cost  \n",
       "0            1       11        16       124        0          70  \n",
       "1            1       44        46       393        0          20  \n",
       "2            1       32        38       384        0          20  \n",
       "3            1       50       118      1104        0         201  \n",
       "4            1       24        42       359        0          20  \n",
       "5            1       11        50       496        0          20  \n",
       "6            1       77         4        34        1          70  \n",
       "7            1       50        61       524        0          27  \n",
       "8            1       26        54       476        0          70  \n",
       "9            1        0        90       748        0          94  \n",
       "10           1        0        69       601        0          50  \n",
       "11           1       58        49       486        0          70  \n",
       "12           1        0        10        76        1          20  \n",
       "13           1       16        26       219        0          70  \n",
       "14           1       36        74       638        0          61  "
      ]
     },
     "execution_count": 67,
     "metadata": {},
     "output_type": "execute_result"
    }
   ],
   "source": [
    "megaline['total_cost']=megaline.apply(cost,axis=1).astype(int)\n",
    "megaline.head(15)"
   ]
  },
  {
   "cell_type": "markdown",
   "metadata": {},
   "source": [
    "So here I got total cost - average monthly expenditures for each user"
   ]
  },
  {
   "cell_type": "code",
   "execution_count": 68,
   "metadata": {},
   "outputs": [
    {
     "data": {
      "text/plain": [
       "count    500.000000\n",
       "mean      48.138000\n",
       "std       31.235144\n",
       "min       20.000000\n",
       "25%       20.000000\n",
       "50%       41.500000\n",
       "75%       70.000000\n",
       "max      205.000000\n",
       "Name: total_cost, dtype: float64"
      ]
     },
     "execution_count": 68,
     "metadata": {},
     "output_type": "execute_result"
    }
   ],
   "source": [
    "megaline['total_cost'].describe()"
   ]
  },
  {
   "cell_type": "code",
   "execution_count": 69,
   "metadata": {},
   "outputs": [
    {
     "data": {
      "text/html": [
       "<div>\n",
       "<style scoped>\n",
       "    .dataframe tbody tr th:only-of-type {\n",
       "        vertical-align: middle;\n",
       "    }\n",
       "\n",
       "    .dataframe tbody tr th {\n",
       "        vertical-align: top;\n",
       "    }\n",
       "\n",
       "    .dataframe thead th {\n",
       "        text-align: right;\n",
       "    }\n",
       "</style>\n",
       "<table border=\"1\" class=\"dataframe\">\n",
       "  <thead>\n",
       "    <tr style=\"text-align: right;\">\n",
       "      <th></th>\n",
       "      <th>user_id</th>\n",
       "      <th>first_name</th>\n",
       "      <th>last_name</th>\n",
       "      <th>age</th>\n",
       "      <th>city</th>\n",
       "      <th>reg_date</th>\n",
       "      <th>plan</th>\n",
       "      <th>mb_used</th>\n",
       "      <th>gb_charged</th>\n",
       "      <th>msg_num</th>\n",
       "      <th>call_num</th>\n",
       "      <th>call_dur</th>\n",
       "      <th>stopped</th>\n",
       "      <th>total_cost</th>\n",
       "    </tr>\n",
       "  </thead>\n",
       "  <tbody>\n",
       "    <tr>\n",
       "      <td>467</td>\n",
       "      <td>1467</td>\n",
       "      <td>Nickolas</td>\n",
       "      <td>Deleon</td>\n",
       "      <td>64</td>\n",
       "      <td>Atlanta-Sandy Springs-Roswell, GA MSA</td>\n",
       "      <td>2018-01-31</td>\n",
       "      <td>ultimate</td>\n",
       "      <td>324</td>\n",
       "      <td>1</td>\n",
       "      <td>63</td>\n",
       "      <td>47</td>\n",
       "      <td>411</td>\n",
       "      <td>1</td>\n",
       "      <td>70</td>\n",
       "    </tr>\n",
       "    <tr>\n",
       "      <td>365</td>\n",
       "      <td>1365</td>\n",
       "      <td>Milford</td>\n",
       "      <td>Rush</td>\n",
       "      <td>19</td>\n",
       "      <td>Grand Rapids-Kentwood, MI MSA</td>\n",
       "      <td>2018-02-09</td>\n",
       "      <td>surf</td>\n",
       "      <td>578</td>\n",
       "      <td>1</td>\n",
       "      <td>45</td>\n",
       "      <td>123</td>\n",
       "      <td>1102</td>\n",
       "      <td>0</td>\n",
       "      <td>200</td>\n",
       "    </tr>\n",
       "    <tr>\n",
       "      <td>371</td>\n",
       "      <td>1371</td>\n",
       "      <td>Roderick</td>\n",
       "      <td>Slater</td>\n",
       "      <td>27</td>\n",
       "      <td>Portland-Vancouver-Hillsboro, OR-WA MSA</td>\n",
       "      <td>2018-10-27</td>\n",
       "      <td>surf</td>\n",
       "      <td>318</td>\n",
       "      <td>1</td>\n",
       "      <td>30</td>\n",
       "      <td>51</td>\n",
       "      <td>439</td>\n",
       "      <td>0</td>\n",
       "      <td>20</td>\n",
       "    </tr>\n",
       "    <tr>\n",
       "      <td>137</td>\n",
       "      <td>1137</td>\n",
       "      <td>Allegra</td>\n",
       "      <td>Hopkins</td>\n",
       "      <td>20</td>\n",
       "      <td>Chicago-Naperville-Elgin, IL-IN-WI MSA</td>\n",
       "      <td>2018-10-02</td>\n",
       "      <td>surf</td>\n",
       "      <td>384</td>\n",
       "      <td>1</td>\n",
       "      <td>56</td>\n",
       "      <td>0</td>\n",
       "      <td>0</td>\n",
       "      <td>0</td>\n",
       "      <td>21</td>\n",
       "    </tr>\n",
       "    <tr>\n",
       "      <td>385</td>\n",
       "      <td>1385</td>\n",
       "      <td>Nohemi</td>\n",
       "      <td>Erickson</td>\n",
       "      <td>52</td>\n",
       "      <td>New York-Newark-Jersey City, NY-NJ-PA MSA</td>\n",
       "      <td>2018-01-19</td>\n",
       "      <td>surf</td>\n",
       "      <td>313</td>\n",
       "      <td>1</td>\n",
       "      <td>37</td>\n",
       "      <td>53</td>\n",
       "      <td>487</td>\n",
       "      <td>0</td>\n",
       "      <td>20</td>\n",
       "    </tr>\n",
       "    <tr>\n",
       "      <td>110</td>\n",
       "      <td>1110</td>\n",
       "      <td>Anderson</td>\n",
       "      <td>Cotton</td>\n",
       "      <td>65</td>\n",
       "      <td>Washington-Arlington-Alexandria, DC-VA-MD-WV MSA</td>\n",
       "      <td>2018-04-20</td>\n",
       "      <td>surf</td>\n",
       "      <td>303</td>\n",
       "      <td>1</td>\n",
       "      <td>56</td>\n",
       "      <td>45</td>\n",
       "      <td>416</td>\n",
       "      <td>0</td>\n",
       "      <td>21</td>\n",
       "    </tr>\n",
       "    <tr>\n",
       "      <td>105</td>\n",
       "      <td>1105</td>\n",
       "      <td>Micheal</td>\n",
       "      <td>Poole</td>\n",
       "      <td>57</td>\n",
       "      <td>Providence-Warwick, RI-MA MSA</td>\n",
       "      <td>2018-01-08</td>\n",
       "      <td>surf</td>\n",
       "      <td>569</td>\n",
       "      <td>1</td>\n",
       "      <td>93</td>\n",
       "      <td>90</td>\n",
       "      <td>839</td>\n",
       "      <td>0</td>\n",
       "      <td>134</td>\n",
       "    </tr>\n",
       "    <tr>\n",
       "      <td>124</td>\n",
       "      <td>1124</td>\n",
       "      <td>Jenell</td>\n",
       "      <td>Navarro</td>\n",
       "      <td>48</td>\n",
       "      <td>New Haven-Milford, CT MSA</td>\n",
       "      <td>2018-02-19</td>\n",
       "      <td>ultimate</td>\n",
       "      <td>697</td>\n",
       "      <td>1</td>\n",
       "      <td>93</td>\n",
       "      <td>48</td>\n",
       "      <td>447</td>\n",
       "      <td>0</td>\n",
       "      <td>70</td>\n",
       "    </tr>\n",
       "    <tr>\n",
       "      <td>267</td>\n",
       "      <td>1267</td>\n",
       "      <td>Gia</td>\n",
       "      <td>Parker</td>\n",
       "      <td>53</td>\n",
       "      <td>St. Louis, MO-IL MSA</td>\n",
       "      <td>2018-03-12</td>\n",
       "      <td>surf</td>\n",
       "      <td>310</td>\n",
       "      <td>1</td>\n",
       "      <td>69</td>\n",
       "      <td>90</td>\n",
       "      <td>826</td>\n",
       "      <td>0</td>\n",
       "      <td>123</td>\n",
       "    </tr>\n",
       "    <tr>\n",
       "      <td>324</td>\n",
       "      <td>1324</td>\n",
       "      <td>Romana</td>\n",
       "      <td>Moore</td>\n",
       "      <td>18</td>\n",
       "      <td>Minneapolis-St. Paul-Bloomington, MN-WI MSA</td>\n",
       "      <td>2018-04-04</td>\n",
       "      <td>surf</td>\n",
       "      <td>533</td>\n",
       "      <td>1</td>\n",
       "      <td>124</td>\n",
       "      <td>114</td>\n",
       "      <td>1033</td>\n",
       "      <td>0</td>\n",
       "      <td>202</td>\n",
       "    </tr>\n",
       "    <tr>\n",
       "      <td>417</td>\n",
       "      <td>1417</td>\n",
       "      <td>Jorge</td>\n",
       "      <td>Madden</td>\n",
       "      <td>51</td>\n",
       "      <td>Minneapolis-St. Paul-Bloomington, MN-WI MSA</td>\n",
       "      <td>2018-06-22</td>\n",
       "      <td>ultimate</td>\n",
       "      <td>495</td>\n",
       "      <td>1</td>\n",
       "      <td>9</td>\n",
       "      <td>74</td>\n",
       "      <td>647</td>\n",
       "      <td>0</td>\n",
       "      <td>70</td>\n",
       "    </tr>\n",
       "    <tr>\n",
       "      <td>407</td>\n",
       "      <td>1407</td>\n",
       "      <td>Tristan</td>\n",
       "      <td>Daugherty</td>\n",
       "      <td>27</td>\n",
       "      <td>New York-Newark-Jersey City, NY-NJ-PA MSA</td>\n",
       "      <td>2018-11-29</td>\n",
       "      <td>ultimate</td>\n",
       "      <td>330</td>\n",
       "      <td>1</td>\n",
       "      <td>26</td>\n",
       "      <td>32</td>\n",
       "      <td>200</td>\n",
       "      <td>0</td>\n",
       "      <td>70</td>\n",
       "    </tr>\n",
       "    <tr>\n",
       "      <td>444</td>\n",
       "      <td>1444</td>\n",
       "      <td>Glinda</td>\n",
       "      <td>Dickerson</td>\n",
       "      <td>70</td>\n",
       "      <td>New Haven-Milford, CT MSA</td>\n",
       "      <td>2018-06-20</td>\n",
       "      <td>surf</td>\n",
       "      <td>301</td>\n",
       "      <td>1</td>\n",
       "      <td>53</td>\n",
       "      <td>17</td>\n",
       "      <td>177</td>\n",
       "      <td>0</td>\n",
       "      <td>20</td>\n",
       "    </tr>\n",
       "    <tr>\n",
       "      <td>295</td>\n",
       "      <td>1295</td>\n",
       "      <td>Hung</td>\n",
       "      <td>Flowers</td>\n",
       "      <td>68</td>\n",
       "      <td>Kansas City, MO-KS MSA</td>\n",
       "      <td>2018-08-11</td>\n",
       "      <td>surf</td>\n",
       "      <td>326</td>\n",
       "      <td>1</td>\n",
       "      <td>21</td>\n",
       "      <td>60</td>\n",
       "      <td>512</td>\n",
       "      <td>0</td>\n",
       "      <td>23</td>\n",
       "    </tr>\n",
       "    <tr>\n",
       "      <td>65</td>\n",
       "      <td>1065</td>\n",
       "      <td>Sherlyn</td>\n",
       "      <td>Noel</td>\n",
       "      <td>26</td>\n",
       "      <td>Los Angeles-Long Beach-Anaheim, CA MSA</td>\n",
       "      <td>2018-08-03</td>\n",
       "      <td>surf</td>\n",
       "      <td>275</td>\n",
       "      <td>1</td>\n",
       "      <td>28</td>\n",
       "      <td>59</td>\n",
       "      <td>547</td>\n",
       "      <td>0</td>\n",
       "      <td>34</td>\n",
       "    </tr>\n",
       "    <tr>\n",
       "      <td>476</td>\n",
       "      <td>1476</td>\n",
       "      <td>Tammara</td>\n",
       "      <td>Dorsey</td>\n",
       "      <td>24</td>\n",
       "      <td>Los Angeles-Long Beach-Anaheim, CA MSA</td>\n",
       "      <td>2018-06-10</td>\n",
       "      <td>ultimate</td>\n",
       "      <td>316</td>\n",
       "      <td>1</td>\n",
       "      <td>30</td>\n",
       "      <td>41</td>\n",
       "      <td>420</td>\n",
       "      <td>0</td>\n",
       "      <td>70</td>\n",
       "    </tr>\n",
       "    <tr>\n",
       "      <td>4</td>\n",
       "      <td>1004</td>\n",
       "      <td>Leonila</td>\n",
       "      <td>Thompson</td>\n",
       "      <td>40</td>\n",
       "      <td>Seattle-Tacoma-Bellevue, WA MSA</td>\n",
       "      <td>2018-05-23</td>\n",
       "      <td>surf</td>\n",
       "      <td>334</td>\n",
       "      <td>1</td>\n",
       "      <td>24</td>\n",
       "      <td>42</td>\n",
       "      <td>359</td>\n",
       "      <td>0</td>\n",
       "      <td>20</td>\n",
       "    </tr>\n",
       "    <tr>\n",
       "      <td>278</td>\n",
       "      <td>1278</td>\n",
       "      <td>Masako</td>\n",
       "      <td>Montgomery</td>\n",
       "      <td>39</td>\n",
       "      <td>Dayton-Kettering, OH MSA</td>\n",
       "      <td>2018-11-03</td>\n",
       "      <td>surf</td>\n",
       "      <td>258</td>\n",
       "      <td>1</td>\n",
       "      <td>28</td>\n",
       "      <td>40</td>\n",
       "      <td>335</td>\n",
       "      <td>0</td>\n",
       "      <td>20</td>\n",
       "    </tr>\n",
       "    <tr>\n",
       "      <td>359</td>\n",
       "      <td>1359</td>\n",
       "      <td>Sherley</td>\n",
       "      <td>Norris</td>\n",
       "      <td>33</td>\n",
       "      <td>Colorado Springs, CO MSA</td>\n",
       "      <td>2018-02-08</td>\n",
       "      <td>surf</td>\n",
       "      <td>519</td>\n",
       "      <td>1</td>\n",
       "      <td>0</td>\n",
       "      <td>50</td>\n",
       "      <td>449</td>\n",
       "      <td>0</td>\n",
       "      <td>20</td>\n",
       "    </tr>\n",
       "    <tr>\n",
       "      <td>208</td>\n",
       "      <td>1208</td>\n",
       "      <td>Enrique</td>\n",
       "      <td>Ramirez</td>\n",
       "      <td>44</td>\n",
       "      <td>San Diego-Chula Vista-Carlsbad, CA MSA</td>\n",
       "      <td>2018-07-17</td>\n",
       "      <td>surf</td>\n",
       "      <td>333</td>\n",
       "      <td>1</td>\n",
       "      <td>0</td>\n",
       "      <td>47</td>\n",
       "      <td>505</td>\n",
       "      <td>0</td>\n",
       "      <td>21</td>\n",
       "    </tr>\n",
       "    <tr>\n",
       "      <td>133</td>\n",
       "      <td>1133</td>\n",
       "      <td>Larry</td>\n",
       "      <td>Barr</td>\n",
       "      <td>50</td>\n",
       "      <td>Cincinnati, OH-KY-IN MSA</td>\n",
       "      <td>2018-07-21</td>\n",
       "      <td>ultimate</td>\n",
       "      <td>289</td>\n",
       "      <td>1</td>\n",
       "      <td>83</td>\n",
       "      <td>28</td>\n",
       "      <td>257</td>\n",
       "      <td>0</td>\n",
       "      <td>70</td>\n",
       "    </tr>\n",
       "    <tr>\n",
       "      <td>284</td>\n",
       "      <td>1284</td>\n",
       "      <td>Yuri</td>\n",
       "      <td>Odom</td>\n",
       "      <td>51</td>\n",
       "      <td>Dayton-Kettering, OH MSA</td>\n",
       "      <td>2018-09-07</td>\n",
       "      <td>surf</td>\n",
       "      <td>532</td>\n",
       "      <td>1</td>\n",
       "      <td>0</td>\n",
       "      <td>85</td>\n",
       "      <td>742</td>\n",
       "      <td>0</td>\n",
       "      <td>92</td>\n",
       "    </tr>\n",
       "    <tr>\n",
       "      <td>52</td>\n",
       "      <td>1052</td>\n",
       "      <td>Edmond</td>\n",
       "      <td>Hopkins</td>\n",
       "      <td>47</td>\n",
       "      <td>Houston-The Woodlands-Sugar Land, TX MSA</td>\n",
       "      <td>2018-03-05</td>\n",
       "      <td>surf</td>\n",
       "      <td>490</td>\n",
       "      <td>1</td>\n",
       "      <td>159</td>\n",
       "      <td>81</td>\n",
       "      <td>703</td>\n",
       "      <td>0</td>\n",
       "      <td>113</td>\n",
       "    </tr>\n",
       "    <tr>\n",
       "      <td>183</td>\n",
       "      <td>1183</td>\n",
       "      <td>Jermaine</td>\n",
       "      <td>Gallegos</td>\n",
       "      <td>71</td>\n",
       "      <td>Chicago-Naperville-Elgin, IL-IN-WI MSA</td>\n",
       "      <td>2018-07-20</td>\n",
       "      <td>surf</td>\n",
       "      <td>291</td>\n",
       "      <td>1</td>\n",
       "      <td>97</td>\n",
       "      <td>74</td>\n",
       "      <td>596</td>\n",
       "      <td>0</td>\n",
       "      <td>62</td>\n",
       "    </tr>\n",
       "    <tr>\n",
       "      <td>367</td>\n",
       "      <td>1367</td>\n",
       "      <td>Minh</td>\n",
       "      <td>Fischer</td>\n",
       "      <td>18</td>\n",
       "      <td>Baltimore-Columbia-Towson, MD MSA</td>\n",
       "      <td>2018-07-23</td>\n",
       "      <td>surf</td>\n",
       "      <td>278</td>\n",
       "      <td>1</td>\n",
       "      <td>0</td>\n",
       "      <td>18</td>\n",
       "      <td>131</td>\n",
       "      <td>0</td>\n",
       "      <td>20</td>\n",
       "    </tr>\n",
       "    <tr>\n",
       "      <td>406</td>\n",
       "      <td>1406</td>\n",
       "      <td>Noble</td>\n",
       "      <td>Jefferson</td>\n",
       "      <td>54</td>\n",
       "      <td>San Diego-Chula Vista-Carlsbad, CA MSA</td>\n",
       "      <td>2018-03-04</td>\n",
       "      <td>surf</td>\n",
       "      <td>294</td>\n",
       "      <td>1</td>\n",
       "      <td>0</td>\n",
       "      <td>47</td>\n",
       "      <td>414</td>\n",
       "      <td>0</td>\n",
       "      <td>20</td>\n",
       "    </tr>\n",
       "    <tr>\n",
       "      <td>373</td>\n",
       "      <td>1373</td>\n",
       "      <td>Lindsey</td>\n",
       "      <td>Dickerson</td>\n",
       "      <td>21</td>\n",
       "      <td>Minneapolis-St. Paul-Bloomington, MN-WI MSA</td>\n",
       "      <td>2018-08-30</td>\n",
       "      <td>ultimate</td>\n",
       "      <td>519</td>\n",
       "      <td>1</td>\n",
       "      <td>70</td>\n",
       "      <td>85</td>\n",
       "      <td>755</td>\n",
       "      <td>0</td>\n",
       "      <td>70</td>\n",
       "    </tr>\n",
       "    <tr>\n",
       "      <td>166</td>\n",
       "      <td>1166</td>\n",
       "      <td>Kaycee</td>\n",
       "      <td>Bryant</td>\n",
       "      <td>26</td>\n",
       "      <td>Baltimore-Columbia-Towson, MD MSA</td>\n",
       "      <td>2018-05-07</td>\n",
       "      <td>surf</td>\n",
       "      <td>318</td>\n",
       "      <td>1</td>\n",
       "      <td>0</td>\n",
       "      <td>22</td>\n",
       "      <td>182</td>\n",
       "      <td>0</td>\n",
       "      <td>20</td>\n",
       "    </tr>\n",
       "    <tr>\n",
       "      <td>37</td>\n",
       "      <td>1037</td>\n",
       "      <td>Reena</td>\n",
       "      <td>Velazquez</td>\n",
       "      <td>20</td>\n",
       "      <td>Seattle-Tacoma-Bellevue, WA MSA</td>\n",
       "      <td>2018-08-11</td>\n",
       "      <td>ultimate</td>\n",
       "      <td>301</td>\n",
       "      <td>1</td>\n",
       "      <td>44</td>\n",
       "      <td>51</td>\n",
       "      <td>463</td>\n",
       "      <td>0</td>\n",
       "      <td>70</td>\n",
       "    </tr>\n",
       "    <tr>\n",
       "      <td>479</td>\n",
       "      <td>1479</td>\n",
       "      <td>Keesha</td>\n",
       "      <td>Burnett</td>\n",
       "      <td>44</td>\n",
       "      <td>Riverside-San Bernardino-Ontario, CA MSA</td>\n",
       "      <td>2018-11-12</td>\n",
       "      <td>surf</td>\n",
       "      <td>590</td>\n",
       "      <td>1</td>\n",
       "      <td>1</td>\n",
       "      <td>91</td>\n",
       "      <td>835</td>\n",
       "      <td>0</td>\n",
       "      <td>120</td>\n",
       "    </tr>\n",
       "    <tr>\n",
       "      <td>58</td>\n",
       "      <td>1058</td>\n",
       "      <td>Reinaldo</td>\n",
       "      <td>Colon</td>\n",
       "      <td>59</td>\n",
       "      <td>Los Angeles-Long Beach-Anaheim, CA MSA</td>\n",
       "      <td>2018-11-06</td>\n",
       "      <td>surf</td>\n",
       "      <td>197</td>\n",
       "      <td>1</td>\n",
       "      <td>27</td>\n",
       "      <td>63</td>\n",
       "      <td>606</td>\n",
       "      <td>0</td>\n",
       "      <td>51</td>\n",
       "    </tr>\n",
       "    <tr>\n",
       "      <td>148</td>\n",
       "      <td>1148</td>\n",
       "      <td>Dwana</td>\n",
       "      <td>Moore</td>\n",
       "      <td>67</td>\n",
       "      <td>Columbia, SC MSA</td>\n",
       "      <td>2018-11-04</td>\n",
       "      <td>surf</td>\n",
       "      <td>263</td>\n",
       "      <td>1</td>\n",
       "      <td>61</td>\n",
       "      <td>56</td>\n",
       "      <td>528</td>\n",
       "      <td>0</td>\n",
       "      <td>31</td>\n",
       "    </tr>\n",
       "    <tr>\n",
       "      <td>202</td>\n",
       "      <td>1202</td>\n",
       "      <td>Osvaldo</td>\n",
       "      <td>Mayer</td>\n",
       "      <td>36</td>\n",
       "      <td>Minneapolis-St. Paul-Bloomington, MN-WI MSA</td>\n",
       "      <td>2018-09-30</td>\n",
       "      <td>ultimate</td>\n",
       "      <td>289</td>\n",
       "      <td>1</td>\n",
       "      <td>0</td>\n",
       "      <td>69</td>\n",
       "      <td>593</td>\n",
       "      <td>0</td>\n",
       "      <td>70</td>\n",
       "    </tr>\n",
       "    <tr>\n",
       "      <td>325</td>\n",
       "      <td>1325</td>\n",
       "      <td>Cleora</td>\n",
       "      <td>Lyons</td>\n",
       "      <td>43</td>\n",
       "      <td>Dallas-Fort Worth-Arlington, TX MSA</td>\n",
       "      <td>2018-06-26</td>\n",
       "      <td>surf</td>\n",
       "      <td>274</td>\n",
       "      <td>1</td>\n",
       "      <td>0</td>\n",
       "      <td>34</td>\n",
       "      <td>294</td>\n",
       "      <td>0</td>\n",
       "      <td>20</td>\n",
       "    </tr>\n",
       "    <tr>\n",
       "      <td>376</td>\n",
       "      <td>1376</td>\n",
       "      <td>Mika</td>\n",
       "      <td>Williams</td>\n",
       "      <td>58</td>\n",
       "      <td>Columbia, SC MSA</td>\n",
       "      <td>2018-04-16</td>\n",
       "      <td>ultimate</td>\n",
       "      <td>274</td>\n",
       "      <td>1</td>\n",
       "      <td>11</td>\n",
       "      <td>52</td>\n",
       "      <td>514</td>\n",
       "      <td>0</td>\n",
       "      <td>70</td>\n",
       "    </tr>\n",
       "    <tr>\n",
       "      <td>180</td>\n",
       "      <td>1180</td>\n",
       "      <td>Wonda</td>\n",
       "      <td>Hays</td>\n",
       "      <td>24</td>\n",
       "      <td>New York-Newark-Jersey City, NY-NJ-PA MSA</td>\n",
       "      <td>2018-12-01</td>\n",
       "      <td>surf</td>\n",
       "      <td>467</td>\n",
       "      <td>1</td>\n",
       "      <td>76</td>\n",
       "      <td>64</td>\n",
       "      <td>615</td>\n",
       "      <td>1</td>\n",
       "      <td>62</td>\n",
       "    </tr>\n",
       "    <tr>\n",
       "      <td>343</td>\n",
       "      <td>1343</td>\n",
       "      <td>Teresia</td>\n",
       "      <td>Ewing</td>\n",
       "      <td>43</td>\n",
       "      <td>Miami-Fort Lauderdale-West Palm Beach, FL MSA</td>\n",
       "      <td>2018-08-23</td>\n",
       "      <td>surf</td>\n",
       "      <td>459</td>\n",
       "      <td>1</td>\n",
       "      <td>115</td>\n",
       "      <td>49</td>\n",
       "      <td>439</td>\n",
       "      <td>0</td>\n",
       "      <td>39</td>\n",
       "    </tr>\n",
       "    <tr>\n",
       "      <td>92</td>\n",
       "      <td>1092</td>\n",
       "      <td>Taren</td>\n",
       "      <td>Strickland</td>\n",
       "      <td>26</td>\n",
       "      <td>Dallas-Fort Worth-Arlington, TX MSA</td>\n",
       "      <td>2018-12-10</td>\n",
       "      <td>surf</td>\n",
       "      <td>510</td>\n",
       "      <td>1</td>\n",
       "      <td>19</td>\n",
       "      <td>67</td>\n",
       "      <td>614</td>\n",
       "      <td>0</td>\n",
       "      <td>54</td>\n",
       "    </tr>\n",
       "    <tr>\n",
       "      <td>176</td>\n",
       "      <td>1176</td>\n",
       "      <td>Terrance</td>\n",
       "      <td>Shaffer</td>\n",
       "      <td>75</td>\n",
       "      <td>New York-Newark-Jersey City, NY-NJ-PA MSA</td>\n",
       "      <td>2018-10-03</td>\n",
       "      <td>surf</td>\n",
       "      <td>305</td>\n",
       "      <td>1</td>\n",
       "      <td>64</td>\n",
       "      <td>54</td>\n",
       "      <td>432</td>\n",
       "      <td>0</td>\n",
       "      <td>24</td>\n",
       "    </tr>\n",
       "    <tr>\n",
       "      <td>143</td>\n",
       "      <td>1143</td>\n",
       "      <td>Lorina</td>\n",
       "      <td>Stevens</td>\n",
       "      <td>69</td>\n",
       "      <td>Cincinnati, OH-KY-IN MSA</td>\n",
       "      <td>2018-10-26</td>\n",
       "      <td>surf</td>\n",
       "      <td>0</td>\n",
       "      <td>0</td>\n",
       "      <td>0</td>\n",
       "      <td>0</td>\n",
       "      <td>0</td>\n",
       "      <td>0</td>\n",
       "      <td>20</td>\n",
       "    </tr>\n",
       "    <tr>\n",
       "      <td>334</td>\n",
       "      <td>1334</td>\n",
       "      <td>Donovan</td>\n",
       "      <td>Horton</td>\n",
       "      <td>34</td>\n",
       "      <td>Seattle-Tacoma-Bellevue, WA MSA</td>\n",
       "      <td>2018-03-08</td>\n",
       "      <td>surf</td>\n",
       "      <td>446</td>\n",
       "      <td>1</td>\n",
       "      <td>14</td>\n",
       "      <td>101</td>\n",
       "      <td>850</td>\n",
       "      <td>0</td>\n",
       "      <td>125</td>\n",
       "    </tr>\n",
       "    <tr>\n",
       "      <td>354</td>\n",
       "      <td>1354</td>\n",
       "      <td>Leonel</td>\n",
       "      <td>Dyer</td>\n",
       "      <td>41</td>\n",
       "      <td>New York-Newark-Jersey City, NY-NJ-PA MSA</td>\n",
       "      <td>2018-08-24</td>\n",
       "      <td>ultimate</td>\n",
       "      <td>288</td>\n",
       "      <td>1</td>\n",
       "      <td>35</td>\n",
       "      <td>57</td>\n",
       "      <td>499</td>\n",
       "      <td>0</td>\n",
       "      <td>70</td>\n",
       "    </tr>\n",
       "    <tr>\n",
       "      <td>271</td>\n",
       "      <td>1271</td>\n",
       "      <td>Darrin</td>\n",
       "      <td>Rose</td>\n",
       "      <td>48</td>\n",
       "      <td>New York-Newark-Jersey City, NY-NJ-PA MSA</td>\n",
       "      <td>2018-06-24</td>\n",
       "      <td>surf</td>\n",
       "      <td>438</td>\n",
       "      <td>1</td>\n",
       "      <td>83</td>\n",
       "      <td>59</td>\n",
       "      <td>531</td>\n",
       "      <td>0</td>\n",
       "      <td>39</td>\n",
       "    </tr>\n",
       "    <tr>\n",
       "      <td>31</td>\n",
       "      <td>1031</td>\n",
       "      <td>Lane</td>\n",
       "      <td>Martin</td>\n",
       "      <td>52</td>\n",
       "      <td>New York-Newark-Jersey City, NY-NJ-PA MSA</td>\n",
       "      <td>2018-07-15</td>\n",
       "      <td>ultimate</td>\n",
       "      <td>290</td>\n",
       "      <td>1</td>\n",
       "      <td>2</td>\n",
       "      <td>56</td>\n",
       "      <td>499</td>\n",
       "      <td>0</td>\n",
       "      <td>70</td>\n",
       "    </tr>\n",
       "    <tr>\n",
       "      <td>0</td>\n",
       "      <td>1000</td>\n",
       "      <td>Anamaria</td>\n",
       "      <td>Bauer</td>\n",
       "      <td>45</td>\n",
       "      <td>Atlanta-Sandy Springs-Roswell, GA MSA</td>\n",
       "      <td>2018-12-24</td>\n",
       "      <td>ultimate</td>\n",
       "      <td>270</td>\n",
       "      <td>1</td>\n",
       "      <td>11</td>\n",
       "      <td>16</td>\n",
       "      <td>124</td>\n",
       "      <td>0</td>\n",
       "      <td>70</td>\n",
       "    </tr>\n",
       "    <tr>\n",
       "      <td>438</td>\n",
       "      <td>1438</td>\n",
       "      <td>Harvey</td>\n",
       "      <td>Brooks</td>\n",
       "      <td>36</td>\n",
       "      <td>Orlando-Kissimmee-Sanford, FL MSA</td>\n",
       "      <td>2018-06-15</td>\n",
       "      <td>surf</td>\n",
       "      <td>340</td>\n",
       "      <td>1</td>\n",
       "      <td>48</td>\n",
       "      <td>40</td>\n",
       "      <td>324</td>\n",
       "      <td>0</td>\n",
       "      <td>20</td>\n",
       "    </tr>\n",
       "    <tr>\n",
       "      <td>345</td>\n",
       "      <td>1345</td>\n",
       "      <td>Pasquale</td>\n",
       "      <td>Caldwell</td>\n",
       "      <td>26</td>\n",
       "      <td>Los Angeles-Long Beach-Anaheim, CA MSA</td>\n",
       "      <td>2018-07-12</td>\n",
       "      <td>surf</td>\n",
       "      <td>335</td>\n",
       "      <td>1</td>\n",
       "      <td>13</td>\n",
       "      <td>60</td>\n",
       "      <td>483</td>\n",
       "      <td>0</td>\n",
       "      <td>20</td>\n",
       "    </tr>\n",
       "    <tr>\n",
       "      <td>488</td>\n",
       "      <td>1488</td>\n",
       "      <td>Shirley</td>\n",
       "      <td>Jones</td>\n",
       "      <td>29</td>\n",
       "      <td>Baton Rouge, LA MSA</td>\n",
       "      <td>2018-05-15</td>\n",
       "      <td>surf</td>\n",
       "      <td>503</td>\n",
       "      <td>1</td>\n",
       "      <td>0</td>\n",
       "      <td>78</td>\n",
       "      <td>699</td>\n",
       "      <td>0</td>\n",
       "      <td>79</td>\n",
       "    </tr>\n",
       "    <tr>\n",
       "      <td>499</td>\n",
       "      <td>1499</td>\n",
       "      <td>Shena</td>\n",
       "      <td>Dickson</td>\n",
       "      <td>37</td>\n",
       "      <td>Orlando-Kissimmee-Sanford, FL MSA</td>\n",
       "      <td>2018-05-06</td>\n",
       "      <td>surf</td>\n",
       "      <td>290</td>\n",
       "      <td>1</td>\n",
       "      <td>0</td>\n",
       "      <td>40</td>\n",
       "      <td>365</td>\n",
       "      <td>0</td>\n",
       "      <td>20</td>\n",
       "    </tr>\n",
       "    <tr>\n",
       "      <td>304</td>\n",
       "      <td>1304</td>\n",
       "      <td>Dominque</td>\n",
       "      <td>Cole</td>\n",
       "      <td>69</td>\n",
       "      <td>Birmingham-Hoover, AL MSA</td>\n",
       "      <td>2018-10-28</td>\n",
       "      <td>ultimate</td>\n",
       "      <td>310</td>\n",
       "      <td>1</td>\n",
       "      <td>59</td>\n",
       "      <td>50</td>\n",
       "      <td>533</td>\n",
       "      <td>0</td>\n",
       "      <td>70</td>\n",
       "    </tr>\n",
       "    <tr>\n",
       "      <td>39</td>\n",
       "      <td>1039</td>\n",
       "      <td>Flo</td>\n",
       "      <td>Hicks</td>\n",
       "      <td>56</td>\n",
       "      <td>Columbus, OH MSA</td>\n",
       "      <td>2018-05-30</td>\n",
       "      <td>ultimate</td>\n",
       "      <td>307</td>\n",
       "      <td>1</td>\n",
       "      <td>23</td>\n",
       "      <td>54</td>\n",
       "      <td>460</td>\n",
       "      <td>0</td>\n",
       "      <td>70</td>\n",
       "    </tr>\n",
       "    <tr>\n",
       "      <td>56</td>\n",
       "      <td>1056</td>\n",
       "      <td>Denis</td>\n",
       "      <td>Chandler</td>\n",
       "      <td>33</td>\n",
       "      <td>Cincinnati, OH-KY-IN MSA</td>\n",
       "      <td>2018-03-01</td>\n",
       "      <td>surf</td>\n",
       "      <td>295</td>\n",
       "      <td>1</td>\n",
       "      <td>37</td>\n",
       "      <td>42</td>\n",
       "      <td>372</td>\n",
       "      <td>0</td>\n",
       "      <td>20</td>\n",
       "    </tr>\n",
       "    <tr>\n",
       "      <td>323</td>\n",
       "      <td>1323</td>\n",
       "      <td>Pamelia</td>\n",
       "      <td>Atkins</td>\n",
       "      <td>42</td>\n",
       "      <td>Baltimore-Columbia-Towson, MD MSA</td>\n",
       "      <td>2018-12-30</td>\n",
       "      <td>surf</td>\n",
       "      <td>467</td>\n",
       "      <td>1</td>\n",
       "      <td>1</td>\n",
       "      <td>2</td>\n",
       "      <td>28</td>\n",
       "      <td>0</td>\n",
       "      <td>20</td>\n",
       "    </tr>\n",
       "    <tr>\n",
       "      <td>61</td>\n",
       "      <td>1061</td>\n",
       "      <td>Maryam</td>\n",
       "      <td>Valencia</td>\n",
       "      <td>38</td>\n",
       "      <td>Columbia, SC MSA</td>\n",
       "      <td>2018-03-08</td>\n",
       "      <td>ultimate</td>\n",
       "      <td>296</td>\n",
       "      <td>1</td>\n",
       "      <td>58</td>\n",
       "      <td>64</td>\n",
       "      <td>544</td>\n",
       "      <td>0</td>\n",
       "      <td>70</td>\n",
       "    </tr>\n",
       "    <tr>\n",
       "      <td>138</td>\n",
       "      <td>1138</td>\n",
       "      <td>Arlie</td>\n",
       "      <td>Higgins</td>\n",
       "      <td>66</td>\n",
       "      <td>Riverside-San Bernardino-Ontario, CA MSA</td>\n",
       "      <td>2018-02-06</td>\n",
       "      <td>surf</td>\n",
       "      <td>307</td>\n",
       "      <td>1</td>\n",
       "      <td>11</td>\n",
       "      <td>43</td>\n",
       "      <td>375</td>\n",
       "      <td>0</td>\n",
       "      <td>20</td>\n",
       "    </tr>\n",
       "    <tr>\n",
       "      <td>172</td>\n",
       "      <td>1172</td>\n",
       "      <td>Weldon</td>\n",
       "      <td>Robinson</td>\n",
       "      <td>72</td>\n",
       "      <td>Boston-Cambridge-Newton, MA-NH MSA</td>\n",
       "      <td>2018-03-30</td>\n",
       "      <td>surf</td>\n",
       "      <td>514</td>\n",
       "      <td>1</td>\n",
       "      <td>117</td>\n",
       "      <td>67</td>\n",
       "      <td>621</td>\n",
       "      <td>1</td>\n",
       "      <td>76</td>\n",
       "    </tr>\n",
       "    <tr>\n",
       "      <td>399</td>\n",
       "      <td>1399</td>\n",
       "      <td>Leonila</td>\n",
       "      <td>Baird</td>\n",
       "      <td>24</td>\n",
       "      <td>San Antonio-New Braunfels, TX MSA</td>\n",
       "      <td>2018-06-06</td>\n",
       "      <td>surf</td>\n",
       "      <td>282</td>\n",
       "      <td>1</td>\n",
       "      <td>24</td>\n",
       "      <td>34</td>\n",
       "      <td>294</td>\n",
       "      <td>0</td>\n",
       "      <td>20</td>\n",
       "    </tr>\n",
       "    <tr>\n",
       "      <td>157</td>\n",
       "      <td>1157</td>\n",
       "      <td>Luciano</td>\n",
       "      <td>Sheppard</td>\n",
       "      <td>63</td>\n",
       "      <td>Los Angeles-Long Beach-Anaheim, CA MSA</td>\n",
       "      <td>2018-07-02</td>\n",
       "      <td>surf</td>\n",
       "      <td>290</td>\n",
       "      <td>1</td>\n",
       "      <td>0</td>\n",
       "      <td>49</td>\n",
       "      <td>422</td>\n",
       "      <td>0</td>\n",
       "      <td>20</td>\n",
       "    </tr>\n",
       "    <tr>\n",
       "      <td>349</td>\n",
       "      <td>1349</td>\n",
       "      <td>Florentina</td>\n",
       "      <td>Diaz</td>\n",
       "      <td>69</td>\n",
       "      <td>Boston-Cambridge-Newton, MA-NH MSA</td>\n",
       "      <td>2018-10-01</td>\n",
       "      <td>surf</td>\n",
       "      <td>506</td>\n",
       "      <td>1</td>\n",
       "      <td>72</td>\n",
       "      <td>0</td>\n",
       "      <td>0</td>\n",
       "      <td>0</td>\n",
       "      <td>26</td>\n",
       "    </tr>\n",
       "    <tr>\n",
       "      <td>191</td>\n",
       "      <td>1191</td>\n",
       "      <td>Zack</td>\n",
       "      <td>Waters</td>\n",
       "      <td>75</td>\n",
       "      <td>St. Louis, MO-IL MSA</td>\n",
       "      <td>2018-01-21</td>\n",
       "      <td>ultimate</td>\n",
       "      <td>292</td>\n",
       "      <td>1</td>\n",
       "      <td>13</td>\n",
       "      <td>51</td>\n",
       "      <td>439</td>\n",
       "      <td>1</td>\n",
       "      <td>70</td>\n",
       "    </tr>\n",
       "  </tbody>\n",
       "</table>\n",
       "</div>"
      ],
      "text/plain": [
       "     user_id  first_name   last_name  age  \\\n",
       "467     1467    Nickolas      Deleon   64   \n",
       "365     1365     Milford        Rush   19   \n",
       "371     1371    Roderick      Slater   27   \n",
       "137     1137     Allegra     Hopkins   20   \n",
       "385     1385      Nohemi    Erickson   52   \n",
       "110     1110    Anderson      Cotton   65   \n",
       "105     1105     Micheal       Poole   57   \n",
       "124     1124      Jenell     Navarro   48   \n",
       "267     1267         Gia      Parker   53   \n",
       "324     1324      Romana       Moore   18   \n",
       "417     1417       Jorge      Madden   51   \n",
       "407     1407     Tristan   Daugherty   27   \n",
       "444     1444      Glinda   Dickerson   70   \n",
       "295     1295        Hung     Flowers   68   \n",
       "65      1065     Sherlyn        Noel   26   \n",
       "476     1476     Tammara      Dorsey   24   \n",
       "4       1004     Leonila    Thompson   40   \n",
       "278     1278      Masako  Montgomery   39   \n",
       "359     1359     Sherley      Norris   33   \n",
       "208     1208     Enrique     Ramirez   44   \n",
       "133     1133       Larry        Barr   50   \n",
       "284     1284        Yuri        Odom   51   \n",
       "52      1052      Edmond     Hopkins   47   \n",
       "183     1183    Jermaine    Gallegos   71   \n",
       "367     1367        Minh     Fischer   18   \n",
       "406     1406       Noble   Jefferson   54   \n",
       "373     1373     Lindsey   Dickerson   21   \n",
       "166     1166      Kaycee      Bryant   26   \n",
       "37      1037       Reena   Velazquez   20   \n",
       "479     1479      Keesha     Burnett   44   \n",
       "58      1058    Reinaldo       Colon   59   \n",
       "148     1148       Dwana       Moore   67   \n",
       "202     1202     Osvaldo       Mayer   36   \n",
       "325     1325      Cleora       Lyons   43   \n",
       "376     1376        Mika    Williams   58   \n",
       "180     1180       Wonda        Hays   24   \n",
       "343     1343     Teresia       Ewing   43   \n",
       "92      1092       Taren  Strickland   26   \n",
       "176     1176    Terrance     Shaffer   75   \n",
       "143     1143      Lorina     Stevens   69   \n",
       "334     1334     Donovan      Horton   34   \n",
       "354     1354      Leonel        Dyer   41   \n",
       "271     1271      Darrin        Rose   48   \n",
       "31      1031        Lane      Martin   52   \n",
       "0       1000    Anamaria       Bauer   45   \n",
       "438     1438      Harvey      Brooks   36   \n",
       "345     1345    Pasquale    Caldwell   26   \n",
       "488     1488     Shirley       Jones   29   \n",
       "499     1499       Shena     Dickson   37   \n",
       "304     1304    Dominque        Cole   69   \n",
       "39      1039         Flo       Hicks   56   \n",
       "56      1056       Denis    Chandler   33   \n",
       "323     1323     Pamelia      Atkins   42   \n",
       "61      1061      Maryam    Valencia   38   \n",
       "138     1138       Arlie     Higgins   66   \n",
       "172     1172      Weldon    Robinson   72   \n",
       "399     1399     Leonila       Baird   24   \n",
       "157     1157     Luciano    Sheppard   63   \n",
       "349     1349  Florentina        Diaz   69   \n",
       "191     1191        Zack      Waters   75   \n",
       "\n",
       "                                                 city    reg_date      plan  \\\n",
       "467             Atlanta-Sandy Springs-Roswell, GA MSA  2018-01-31  ultimate   \n",
       "365                     Grand Rapids-Kentwood, MI MSA  2018-02-09      surf   \n",
       "371           Portland-Vancouver-Hillsboro, OR-WA MSA  2018-10-27      surf   \n",
       "137            Chicago-Naperville-Elgin, IL-IN-WI MSA  2018-10-02      surf   \n",
       "385         New York-Newark-Jersey City, NY-NJ-PA MSA  2018-01-19      surf   \n",
       "110  Washington-Arlington-Alexandria, DC-VA-MD-WV MSA  2018-04-20      surf   \n",
       "105                     Providence-Warwick, RI-MA MSA  2018-01-08      surf   \n",
       "124                         New Haven-Milford, CT MSA  2018-02-19  ultimate   \n",
       "267                              St. Louis, MO-IL MSA  2018-03-12      surf   \n",
       "324       Minneapolis-St. Paul-Bloomington, MN-WI MSA  2018-04-04      surf   \n",
       "417       Minneapolis-St. Paul-Bloomington, MN-WI MSA  2018-06-22  ultimate   \n",
       "407         New York-Newark-Jersey City, NY-NJ-PA MSA  2018-11-29  ultimate   \n",
       "444                         New Haven-Milford, CT MSA  2018-06-20      surf   \n",
       "295                            Kansas City, MO-KS MSA  2018-08-11      surf   \n",
       "65             Los Angeles-Long Beach-Anaheim, CA MSA  2018-08-03      surf   \n",
       "476            Los Angeles-Long Beach-Anaheim, CA MSA  2018-06-10  ultimate   \n",
       "4                     Seattle-Tacoma-Bellevue, WA MSA  2018-05-23      surf   \n",
       "278                          Dayton-Kettering, OH MSA  2018-11-03      surf   \n",
       "359                          Colorado Springs, CO MSA  2018-02-08      surf   \n",
       "208            San Diego-Chula Vista-Carlsbad, CA MSA  2018-07-17      surf   \n",
       "133                          Cincinnati, OH-KY-IN MSA  2018-07-21  ultimate   \n",
       "284                          Dayton-Kettering, OH MSA  2018-09-07      surf   \n",
       "52           Houston-The Woodlands-Sugar Land, TX MSA  2018-03-05      surf   \n",
       "183            Chicago-Naperville-Elgin, IL-IN-WI MSA  2018-07-20      surf   \n",
       "367                 Baltimore-Columbia-Towson, MD MSA  2018-07-23      surf   \n",
       "406            San Diego-Chula Vista-Carlsbad, CA MSA  2018-03-04      surf   \n",
       "373       Minneapolis-St. Paul-Bloomington, MN-WI MSA  2018-08-30  ultimate   \n",
       "166                 Baltimore-Columbia-Towson, MD MSA  2018-05-07      surf   \n",
       "37                    Seattle-Tacoma-Bellevue, WA MSA  2018-08-11  ultimate   \n",
       "479          Riverside-San Bernardino-Ontario, CA MSA  2018-11-12      surf   \n",
       "58             Los Angeles-Long Beach-Anaheim, CA MSA  2018-11-06      surf   \n",
       "148                                  Columbia, SC MSA  2018-11-04      surf   \n",
       "202       Minneapolis-St. Paul-Bloomington, MN-WI MSA  2018-09-30  ultimate   \n",
       "325               Dallas-Fort Worth-Arlington, TX MSA  2018-06-26      surf   \n",
       "376                                  Columbia, SC MSA  2018-04-16  ultimate   \n",
       "180         New York-Newark-Jersey City, NY-NJ-PA MSA  2018-12-01      surf   \n",
       "343     Miami-Fort Lauderdale-West Palm Beach, FL MSA  2018-08-23      surf   \n",
       "92                Dallas-Fort Worth-Arlington, TX MSA  2018-12-10      surf   \n",
       "176         New York-Newark-Jersey City, NY-NJ-PA MSA  2018-10-03      surf   \n",
       "143                          Cincinnati, OH-KY-IN MSA  2018-10-26      surf   \n",
       "334                   Seattle-Tacoma-Bellevue, WA MSA  2018-03-08      surf   \n",
       "354         New York-Newark-Jersey City, NY-NJ-PA MSA  2018-08-24  ultimate   \n",
       "271         New York-Newark-Jersey City, NY-NJ-PA MSA  2018-06-24      surf   \n",
       "31          New York-Newark-Jersey City, NY-NJ-PA MSA  2018-07-15  ultimate   \n",
       "0               Atlanta-Sandy Springs-Roswell, GA MSA  2018-12-24  ultimate   \n",
       "438                 Orlando-Kissimmee-Sanford, FL MSA  2018-06-15      surf   \n",
       "345            Los Angeles-Long Beach-Anaheim, CA MSA  2018-07-12      surf   \n",
       "488                               Baton Rouge, LA MSA  2018-05-15      surf   \n",
       "499                 Orlando-Kissimmee-Sanford, FL MSA  2018-05-06      surf   \n",
       "304                         Birmingham-Hoover, AL MSA  2018-10-28  ultimate   \n",
       "39                                   Columbus, OH MSA  2018-05-30  ultimate   \n",
       "56                           Cincinnati, OH-KY-IN MSA  2018-03-01      surf   \n",
       "323                 Baltimore-Columbia-Towson, MD MSA  2018-12-30      surf   \n",
       "61                                   Columbia, SC MSA  2018-03-08  ultimate   \n",
       "138          Riverside-San Bernardino-Ontario, CA MSA  2018-02-06      surf   \n",
       "172                Boston-Cambridge-Newton, MA-NH MSA  2018-03-30      surf   \n",
       "399                 San Antonio-New Braunfels, TX MSA  2018-06-06      surf   \n",
       "157            Los Angeles-Long Beach-Anaheim, CA MSA  2018-07-02      surf   \n",
       "349                Boston-Cambridge-Newton, MA-NH MSA  2018-10-01      surf   \n",
       "191                              St. Louis, MO-IL MSA  2018-01-21  ultimate   \n",
       "\n",
       "     mb_used  gb_charged  msg_num  call_num  call_dur  stopped  total_cost  \n",
       "467      324           1       63        47       411        1          70  \n",
       "365      578           1       45       123      1102        0         200  \n",
       "371      318           1       30        51       439        0          20  \n",
       "137      384           1       56         0         0        0          21  \n",
       "385      313           1       37        53       487        0          20  \n",
       "110      303           1       56        45       416        0          21  \n",
       "105      569           1       93        90       839        0         134  \n",
       "124      697           1       93        48       447        0          70  \n",
       "267      310           1       69        90       826        0         123  \n",
       "324      533           1      124       114      1033        0         202  \n",
       "417      495           1        9        74       647        0          70  \n",
       "407      330           1       26        32       200        0          70  \n",
       "444      301           1       53        17       177        0          20  \n",
       "295      326           1       21        60       512        0          23  \n",
       "65       275           1       28        59       547        0          34  \n",
       "476      316           1       30        41       420        0          70  \n",
       "4        334           1       24        42       359        0          20  \n",
       "278      258           1       28        40       335        0          20  \n",
       "359      519           1        0        50       449        0          20  \n",
       "208      333           1        0        47       505        0          21  \n",
       "133      289           1       83        28       257        0          70  \n",
       "284      532           1        0        85       742        0          92  \n",
       "52       490           1      159        81       703        0         113  \n",
       "183      291           1       97        74       596        0          62  \n",
       "367      278           1        0        18       131        0          20  \n",
       "406      294           1        0        47       414        0          20  \n",
       "373      519           1       70        85       755        0          70  \n",
       "166      318           1        0        22       182        0          20  \n",
       "37       301           1       44        51       463        0          70  \n",
       "479      590           1        1        91       835        0         120  \n",
       "58       197           1       27        63       606        0          51  \n",
       "148      263           1       61        56       528        0          31  \n",
       "202      289           1        0        69       593        0          70  \n",
       "325      274           1        0        34       294        0          20  \n",
       "376      274           1       11        52       514        0          70  \n",
       "180      467           1       76        64       615        1          62  \n",
       "343      459           1      115        49       439        0          39  \n",
       "92       510           1       19        67       614        0          54  \n",
       "176      305           1       64        54       432        0          24  \n",
       "143        0           0        0         0         0        0          20  \n",
       "334      446           1       14       101       850        0         125  \n",
       "354      288           1       35        57       499        0          70  \n",
       "271      438           1       83        59       531        0          39  \n",
       "31       290           1        2        56       499        0          70  \n",
       "0        270           1       11        16       124        0          70  \n",
       "438      340           1       48        40       324        0          20  \n",
       "345      335           1       13        60       483        0          20  \n",
       "488      503           1        0        78       699        0          79  \n",
       "499      290           1        0        40       365        0          20  \n",
       "304      310           1       59        50       533        0          70  \n",
       "39       307           1       23        54       460        0          70  \n",
       "56       295           1       37        42       372        0          20  \n",
       "323      467           1        1         2        28        0          20  \n",
       "61       296           1       58        64       544        0          70  \n",
       "138      307           1       11        43       375        0          20  \n",
       "172      514           1      117        67       621        1          76  \n",
       "399      282           1       24        34       294        0          20  \n",
       "157      290           1        0        49       422        0          20  \n",
       "349      506           1       72         0         0        0          26  \n",
       "191      292           1       13        51       439        1          70  "
      ]
     },
     "execution_count": 69,
     "metadata": {},
     "output_type": "execute_result"
    }
   ],
   "source": [
    "megaline.sample(60)"
   ]
  },
  {
   "cell_type": "markdown",
   "metadata": {},
   "source": [
    "Missing values and errors were identified and described. \n",
    "<br>Data types converted where such a conversioun would benefit further work. \n",
    "<br>Average monthly duration and number of calls, number of messages and data traffic volume found for each user. \n",
    "<br>Datasets united in a singe frame. \n",
    "<br>Total expenditures per subscriber calculated and stored in a column."
   ]
  },
  {
   "cell_type": "markdown",
   "metadata": {},
   "source": [
    "### Step 3. Analyze the data"
   ]
  },
  {
   "cell_type": "markdown",
   "metadata": {},
   "source": [
    "Describe the customers' behavior. Find the minutes, texts, and volume of data the users of each plan require per month. Calculate the mean, dispersion, and standard deviation. Plot histograms. Describe the distributions. "
   ]
  },
  {
   "cell_type": "code",
   "execution_count": 70,
   "metadata": {},
   "outputs": [
    {
     "data": {
      "image/png": "[encoded data removed]",
      "text/plain": [
       "<Figure size 504x360 with 1 Axes>"
      ]
     },
     "metadata": {
      "needs_background": "light"
     },
     "output_type": "display_data"
    },
    {
     "data": {
      "image/png": "[encoded data removed]",
      "text/plain": [
       "<Figure size 504x360 with 1 Axes>"
      ]
     },
     "metadata": {
      "needs_background": "light"
     },
     "output_type": "display_data"
    },
    {
     "data": {
      "image/png": "[encoded data removed]",
      "text/plain": [
       "<Figure size 504x360 with 1 Axes>"
      ]
     },
     "metadata": {
      "needs_background": "light"
     },
     "output_type": "display_data"
    },
    {
     "data": {
      "image/png": "[encoded data removed]",
      "text/plain": [
       "<Figure size 504x360 with 1 Axes>"
      ]
     },
     "metadata": {
      "needs_background": "light"
     },
     "output_type": "display_data"
    },
    {
     "data": {
      "image/png": "[encoded data removed]",
      "text/plain": [
       "<Figure size 504x360 with 1 Axes>"
      ]
     },
     "metadata": {
      "needs_background": "light"
     },
     "output_type": "display_data"
    }
   ],
   "source": [
    "plt.figure(figsize=(7, 5))\n",
    "plt.title('Average total calls duration per month for both plans')\n",
    "sns.boxplot(y=\"call_dur\", data=megaline)\n",
    "plt.figure(figsize=(7, 5))\n",
    "plt.title('Average total calls number per month for both plans')\n",
    "sns.boxplot(y=\"call_num\", data=megaline)\n",
    "plt.figure(figsize=(7, 5))\n",
    "plt.title('Average total messages per month for both plans')\n",
    "sns.boxplot(y=\"msg_num\", data=megaline)\n",
    "plt.figure(figsize=(7, 5))\n",
    "plt.title('Average total megabytes used per month for both plans')\n",
    "sns.boxplot(y=\"mb_used\", data=megaline)\n",
    "plt.figure(figsize=(7, 5))\n",
    "plt.title(\"Average total subscriber's expenditures per month for both plans\")\n",
    "sns.boxplot(y=\"total_cost\", data=megaline);"
   ]
  },
  {
   "cell_type": "markdown",
   "metadata": {},
   "source": [
    "Just some outliers. All legit meaningful values."
   ]
  },
  {
   "cell_type": "code",
   "execution_count": 71,
   "metadata": {},
   "outputs": [
    {
     "data": {
      "text/plain": [
       "11"
      ]
     },
     "execution_count": 71,
     "metadata": {},
     "output_type": "execute_result"
    }
   ],
   "source": [
    "len(megaline.query('call_dur > 900'))"
   ]
  },
  {
   "cell_type": "code",
   "execution_count": 72,
   "metadata": {},
   "outputs": [
    {
     "data": {
      "text/plain": [
       "0"
      ]
     },
     "execution_count": 72,
     "metadata": {},
     "output_type": "execute_result"
    }
   ],
   "source": [
    "len(megaline.query('call_num > 700'))"
   ]
  },
  {
   "cell_type": "code",
   "execution_count": 73,
   "metadata": {},
   "outputs": [
    {
     "data": {
      "text/html": [
       "<div>\n",
       "<style scoped>\n",
       "    .dataframe tbody tr th:only-of-type {\n",
       "        vertical-align: middle;\n",
       "    }\n",
       "\n",
       "    .dataframe tbody tr th {\n",
       "        vertical-align: top;\n",
       "    }\n",
       "\n",
       "    .dataframe thead th {\n",
       "        text-align: right;\n",
       "    }\n",
       "</style>\n",
       "<table border=\"1\" class=\"dataframe\">\n",
       "  <thead>\n",
       "    <tr style=\"text-align: right;\">\n",
       "      <th></th>\n",
       "      <th>user_id</th>\n",
       "      <th>first_name</th>\n",
       "      <th>last_name</th>\n",
       "      <th>age</th>\n",
       "      <th>city</th>\n",
       "      <th>reg_date</th>\n",
       "      <th>plan</th>\n",
       "      <th>mb_used</th>\n",
       "      <th>gb_charged</th>\n",
       "      <th>msg_num</th>\n",
       "      <th>call_num</th>\n",
       "      <th>call_dur</th>\n",
       "      <th>stopped</th>\n",
       "      <th>total_cost</th>\n",
       "    </tr>\n",
       "  </thead>\n",
       "  <tbody>\n",
       "    <tr>\n",
       "      <td>3</td>\n",
       "      <td>1003</td>\n",
       "      <td>Reynaldo</td>\n",
       "      <td>Jenkins</td>\n",
       "      <td>52</td>\n",
       "      <td>Tulsa, OK MSA</td>\n",
       "      <td>2018-01-28</td>\n",
       "      <td>surf</td>\n",
       "      <td>474</td>\n",
       "      <td>1</td>\n",
       "      <td>50</td>\n",
       "      <td>118</td>\n",
       "      <td>1104</td>\n",
       "      <td>0</td>\n",
       "      <td>201</td>\n",
       "    </tr>\n",
       "    <tr>\n",
       "      <td>57</td>\n",
       "      <td>1057</td>\n",
       "      <td>Theo</td>\n",
       "      <td>Sargent</td>\n",
       "      <td>18</td>\n",
       "      <td>Atlanta-Sandy Springs-Roswell, GA MSA</td>\n",
       "      <td>2018-08-07</td>\n",
       "      <td>ultimate</td>\n",
       "      <td>525</td>\n",
       "      <td>1</td>\n",
       "      <td>121</td>\n",
       "      <td>128</td>\n",
       "      <td>1072</td>\n",
       "      <td>0</td>\n",
       "      <td>70</td>\n",
       "    </tr>\n",
       "    <tr>\n",
       "      <td>118</td>\n",
       "      <td>1118</td>\n",
       "      <td>Deane</td>\n",
       "      <td>Ramirez</td>\n",
       "      <td>28</td>\n",
       "      <td>Columbus, OH MSA</td>\n",
       "      <td>2018-12-08</td>\n",
       "      <td>surf</td>\n",
       "      <td>489</td>\n",
       "      <td>1</td>\n",
       "      <td>17</td>\n",
       "      <td>92</td>\n",
       "      <td>909</td>\n",
       "      <td>0</td>\n",
       "      <td>142</td>\n",
       "    </tr>\n",
       "    <tr>\n",
       "      <td>126</td>\n",
       "      <td>1126</td>\n",
       "      <td>Jermaine</td>\n",
       "      <td>Mcguire</td>\n",
       "      <td>68</td>\n",
       "      <td>Chicago-Naperville-Elgin, IL-IN-WI MSA</td>\n",
       "      <td>2018-06-02</td>\n",
       "      <td>ultimate</td>\n",
       "      <td>499</td>\n",
       "      <td>1</td>\n",
       "      <td>78</td>\n",
       "      <td>95</td>\n",
       "      <td>905</td>\n",
       "      <td>0</td>\n",
       "      <td>70</td>\n",
       "    </tr>\n",
       "    <tr>\n",
       "      <td>240</td>\n",
       "      <td>1240</td>\n",
       "      <td>Drema</td>\n",
       "      <td>Lopez</td>\n",
       "      <td>61</td>\n",
       "      <td>Baton Rouge, LA MSA</td>\n",
       "      <td>2018-03-18</td>\n",
       "      <td>surf</td>\n",
       "      <td>489</td>\n",
       "      <td>1</td>\n",
       "      <td>11</td>\n",
       "      <td>125</td>\n",
       "      <td>1119</td>\n",
       "      <td>0</td>\n",
       "      <td>205</td>\n",
       "    </tr>\n",
       "    <tr>\n",
       "      <td>324</td>\n",
       "      <td>1324</td>\n",
       "      <td>Romana</td>\n",
       "      <td>Moore</td>\n",
       "      <td>18</td>\n",
       "      <td>Minneapolis-St. Paul-Bloomington, MN-WI MSA</td>\n",
       "      <td>2018-04-04</td>\n",
       "      <td>surf</td>\n",
       "      <td>533</td>\n",
       "      <td>1</td>\n",
       "      <td>124</td>\n",
       "      <td>114</td>\n",
       "      <td>1033</td>\n",
       "      <td>0</td>\n",
       "      <td>202</td>\n",
       "    </tr>\n",
       "    <tr>\n",
       "      <td>326</td>\n",
       "      <td>1326</td>\n",
       "      <td>Johnathon</td>\n",
       "      <td>Branch</td>\n",
       "      <td>21</td>\n",
       "      <td>Greensboro-High Point, NC MSA</td>\n",
       "      <td>2018-02-06</td>\n",
       "      <td>surf</td>\n",
       "      <td>498</td>\n",
       "      <td>1</td>\n",
       "      <td>78</td>\n",
       "      <td>102</td>\n",
       "      <td>929</td>\n",
       "      <td>0</td>\n",
       "      <td>157</td>\n",
       "    </tr>\n",
       "    <tr>\n",
       "      <td>329</td>\n",
       "      <td>1329</td>\n",
       "      <td>Doyle</td>\n",
       "      <td>Nunez</td>\n",
       "      <td>65</td>\n",
       "      <td>Charleston-North Charleston, SC MSA</td>\n",
       "      <td>2018-08-25</td>\n",
       "      <td>ultimate</td>\n",
       "      <td>458</td>\n",
       "      <td>1</td>\n",
       "      <td>91</td>\n",
       "      <td>131</td>\n",
       "      <td>1215</td>\n",
       "      <td>0</td>\n",
       "      <td>70</td>\n",
       "    </tr>\n",
       "    <tr>\n",
       "      <td>365</td>\n",
       "      <td>1365</td>\n",
       "      <td>Milford</td>\n",
       "      <td>Rush</td>\n",
       "      <td>19</td>\n",
       "      <td>Grand Rapids-Kentwood, MI MSA</td>\n",
       "      <td>2018-02-09</td>\n",
       "      <td>surf</td>\n",
       "      <td>578</td>\n",
       "      <td>1</td>\n",
       "      <td>45</td>\n",
       "      <td>123</td>\n",
       "      <td>1102</td>\n",
       "      <td>0</td>\n",
       "      <td>200</td>\n",
       "    </tr>\n",
       "    <tr>\n",
       "      <td>382</td>\n",
       "      <td>1382</td>\n",
       "      <td>Luci</td>\n",
       "      <td>Kidd</td>\n",
       "      <td>49</td>\n",
       "      <td>San Diego-Chula Vista-Carlsbad, CA MSA</td>\n",
       "      <td>2018-06-22</td>\n",
       "      <td>ultimate</td>\n",
       "      <td>472</td>\n",
       "      <td>1</td>\n",
       "      <td>52</td>\n",
       "      <td>129</td>\n",
       "      <td>1111</td>\n",
       "      <td>0</td>\n",
       "      <td>70</td>\n",
       "    </tr>\n",
       "    <tr>\n",
       "      <td>412</td>\n",
       "      <td>1412</td>\n",
       "      <td>Cortez</td>\n",
       "      <td>Reese</td>\n",
       "      <td>61</td>\n",
       "      <td>Detroit-Warren-Dearborn, MI MSA</td>\n",
       "      <td>2018-04-08</td>\n",
       "      <td>ultimate</td>\n",
       "      <td>499</td>\n",
       "      <td>1</td>\n",
       "      <td>52</td>\n",
       "      <td>116</td>\n",
       "      <td>972</td>\n",
       "      <td>0</td>\n",
       "      <td>70</td>\n",
       "    </tr>\n",
       "  </tbody>\n",
       "</table>\n",
       "</div>"
      ],
      "text/plain": [
       "     user_id first_name last_name  age  \\\n",
       "3       1003   Reynaldo   Jenkins   52   \n",
       "57      1057       Theo   Sargent   18   \n",
       "118     1118      Deane   Ramirez   28   \n",
       "126     1126   Jermaine   Mcguire   68   \n",
       "240     1240      Drema     Lopez   61   \n",
       "324     1324     Romana     Moore   18   \n",
       "326     1326  Johnathon    Branch   21   \n",
       "329     1329      Doyle     Nunez   65   \n",
       "365     1365    Milford      Rush   19   \n",
       "382     1382       Luci      Kidd   49   \n",
       "412     1412     Cortez     Reese   61   \n",
       "\n",
       "                                            city    reg_date      plan  \\\n",
       "3                                  Tulsa, OK MSA  2018-01-28      surf   \n",
       "57         Atlanta-Sandy Springs-Roswell, GA MSA  2018-08-07  ultimate   \n",
       "118                             Columbus, OH MSA  2018-12-08      surf   \n",
       "126       Chicago-Naperville-Elgin, IL-IN-WI MSA  2018-06-02  ultimate   \n",
       "240                          Baton Rouge, LA MSA  2018-03-18      surf   \n",
       "324  Minneapolis-St. Paul-Bloomington, MN-WI MSA  2018-04-04      surf   \n",
       "326                Greensboro-High Point, NC MSA  2018-02-06      surf   \n",
       "329          Charleston-North Charleston, SC MSA  2018-08-25  ultimate   \n",
       "365                Grand Rapids-Kentwood, MI MSA  2018-02-09      surf   \n",
       "382       San Diego-Chula Vista-Carlsbad, CA MSA  2018-06-22  ultimate   \n",
       "412              Detroit-Warren-Dearborn, MI MSA  2018-04-08  ultimate   \n",
       "\n",
       "     mb_used  gb_charged  msg_num  call_num  call_dur  stopped  total_cost  \n",
       "3        474           1       50       118      1104        0         201  \n",
       "57       525           1      121       128      1072        0          70  \n",
       "118      489           1       17        92       909        0         142  \n",
       "126      499           1       78        95       905        0          70  \n",
       "240      489           1       11       125      1119        0         205  \n",
       "324      533           1      124       114      1033        0         202  \n",
       "326      498           1       78       102       929        0         157  \n",
       "329      458           1       91       131      1215        0          70  \n",
       "365      578           1       45       123      1102        0         200  \n",
       "382      472           1       52       129      1111        0          70  \n",
       "412      499           1       52       116       972        0          70  "
      ]
     },
     "execution_count": 73,
     "metadata": {},
     "output_type": "execute_result"
    }
   ],
   "source": [
    "megaline.query('call_dur > 900')"
   ]
  },
  {
   "cell_type": "code",
   "execution_count": 74,
   "metadata": {},
   "outputs": [
    {
     "data": {
      "text/html": [
       "<div>\n",
       "<style scoped>\n",
       "    .dataframe tbody tr th:only-of-type {\n",
       "        vertical-align: middle;\n",
       "    }\n",
       "\n",
       "    .dataframe tbody tr th {\n",
       "        vertical-align: top;\n",
       "    }\n",
       "\n",
       "    .dataframe thead th {\n",
       "        text-align: right;\n",
       "    }\n",
       "</style>\n",
       "<table border=\"1\" class=\"dataframe\">\n",
       "  <thead>\n",
       "    <tr style=\"text-align: right;\">\n",
       "      <th></th>\n",
       "      <th>user_id</th>\n",
       "      <th>first_name</th>\n",
       "      <th>last_name</th>\n",
       "      <th>age</th>\n",
       "      <th>city</th>\n",
       "      <th>reg_date</th>\n",
       "      <th>plan</th>\n",
       "      <th>mb_used</th>\n",
       "      <th>gb_charged</th>\n",
       "      <th>msg_num</th>\n",
       "      <th>call_num</th>\n",
       "      <th>call_dur</th>\n",
       "      <th>stopped</th>\n",
       "      <th>total_cost</th>\n",
       "    </tr>\n",
       "  </thead>\n",
       "  <tbody>\n",
       "  </tbody>\n",
       "</table>\n",
       "</div>"
      ],
      "text/plain": [
       "Empty DataFrame\n",
       "Columns: [user_id, first_name, last_name, age, city, reg_date, plan, mb_used, gb_charged, msg_num, call_num, call_dur, stopped, total_cost]\n",
       "Index: []"
      ]
     },
     "execution_count": 74,
     "metadata": {},
     "output_type": "execute_result"
    }
   ],
   "source": [
    "megaline.query('call_num > 700')"
   ]
  },
  {
   "cell_type": "markdown",
   "metadata": {},
   "source": [
    "Guess there is an obvious correlation between calls frequency and duration. We'll get back to it later."
   ]
  },
  {
   "cell_type": "code",
   "execution_count": 75,
   "metadata": {},
   "outputs": [
    {
     "data": {
      "text/plain": [
       "416.0"
      ]
     },
     "execution_count": 75,
     "metadata": {},
     "output_type": "execute_result"
    }
   ],
   "source": [
    "megaline.query('plan == \"surf\"')['call_dur'].median()"
   ]
  },
  {
   "cell_type": "code",
   "execution_count": 76,
   "metadata": {},
   "outputs": [
    {
     "data": {
      "image/png": "[encoded data removed]",
      "text/plain": [
       "<Figure size 504x360 with 1 Axes>"
      ]
     },
     "metadata": {
      "needs_background": "light"
     },
     "output_type": "display_data"
    }
   ],
   "source": [
    "plt.figure(figsize=(7, 5))\n",
    "plt.title('Average total calls duration number per month for Surf subscribers')\n",
    "sns.boxplot(y='call_dur', data=megaline.query('plan == \"surf\"'));"
   ]
  },
  {
   "cell_type": "code",
   "execution_count": 77,
   "metadata": {},
   "outputs": [
    {
     "data": {
      "text/plain": [
       "694.2"
      ]
     },
     "execution_count": 77,
     "metadata": {},
     "output_type": "execute_result"
    }
   ],
   "source": [
    "np.quantile(megaline.query('plan == \"surf\"')['call_dur'], .90)"
   ]
  },
  {
   "cell_type": "code",
   "execution_count": 78,
   "metadata": {
    "scrolled": true
   },
   "outputs": [
    {
     "data": {
      "text/plain": [
       "1119"
      ]
     },
     "execution_count": 78,
     "metadata": {},
     "output_type": "execute_result"
    }
   ],
   "source": [
    "megaline.query('plan == \"surf\"')['call_dur'].max()"
   ]
  },
  {
   "cell_type": "markdown",
   "metadata": {},
   "source": [
    "416 minutes is the median time spent talking for surf subscribers. 694 minutes is enough for 90% of subscribers. And 1200 minutes would exceed needs for all. What number of minutes should be proposed is question for very different kind of research. "
   ]
  },
  {
   "cell_type": "code",
   "execution_count": 79,
   "metadata": {},
   "outputs": [
    {
     "data": {
      "text/plain": [
       "421.0"
      ]
     },
     "execution_count": 79,
     "metadata": {},
     "output_type": "execute_result"
    }
   ],
   "source": [
    "megaline.query('plan == \"ultimate\"')['call_dur'].median()"
   ]
  },
  {
   "cell_type": "code",
   "execution_count": 80,
   "metadata": {},
   "outputs": [
    {
     "data": {
      "image/png": "[encoded data removed]",
      "text/plain": [
       "<Figure size 504x360 with 1 Axes>"
      ]
     },
     "metadata": {
      "needs_background": "light"
     },
     "output_type": "display_data"
    }
   ],
   "source": [
    "plt.figure(figsize=(7, 5))\n",
    "plt.title('Average total calls duration number per month for Ultimate subscribers')\n",
    "sns.boxplot(y='call_dur', data=megaline.query('plan == \"ultimate\"'));"
   ]
  },
  {
   "cell_type": "code",
   "execution_count": 81,
   "metadata": {},
   "outputs": [
    {
     "data": {
      "text/plain": [
       "663.0"
      ]
     },
     "execution_count": 81,
     "metadata": {},
     "output_type": "execute_result"
    }
   ],
   "source": [
    "np.quantile(megaline.query('plan == \"ultimate\"')['call_dur'], .90)"
   ]
  },
  {
   "cell_type": "code",
   "execution_count": 82,
   "metadata": {},
   "outputs": [
    {
     "data": {
      "text/plain": [
       "1215"
      ]
     },
     "execution_count": 82,
     "metadata": {},
     "output_type": "execute_result"
    }
   ],
   "source": [
    "megaline.query('plan == \"ultimate\"')['call_dur'].max()"
   ]
  },
  {
   "cell_type": "markdown",
   "metadata": {},
   "source": [
    "421 minutes is the median time spent talking for Ultimate subscribers. 663 minutes is enough for 90% of subscribers. And 1300 minutes would exceed needs for all. "
   ]
  },
  {
   "cell_type": "code",
   "execution_count": 83,
   "metadata": {},
   "outputs": [
    {
     "data": {
      "text/plain": [
       "311.0"
      ]
     },
     "execution_count": 83,
     "metadata": {},
     "output_type": "execute_result"
    }
   ],
   "source": [
    "megaline.query('plan == \"surf\"')['mb_used'].median()"
   ]
  },
  {
   "cell_type": "code",
   "execution_count": 84,
   "metadata": {},
   "outputs": [
    {
     "data": {
      "image/png": "[encoded data removed]",
      "text/plain": [
       "<Figure size 504x360 with 1 Axes>"
      ]
     },
     "metadata": {
      "needs_background": "light"
     },
     "output_type": "display_data"
    }
   ],
   "source": [
    "plt.figure(figsize=(7, 5))\n",
    "plt.title('Average megabytes number per month for Surf subscribers')\n",
    "sns.boxplot(y='mb_used', data=megaline.query('plan == \"surf\"'));"
   ]
  },
  {
   "cell_type": "code",
   "execution_count": 85,
   "metadata": {},
   "outputs": [
    {
     "data": {
      "text/plain": [
       "510.0"
      ]
     },
     "execution_count": 85,
     "metadata": {},
     "output_type": "execute_result"
    }
   ],
   "source": [
    "np.quantile(megaline.query('plan == \"surf\"')['mb_used'], .90)"
   ]
  },
  {
   "cell_type": "code",
   "execution_count": 86,
   "metadata": {},
   "outputs": [
    {
     "data": {
      "text/plain": [
       "777"
      ]
     },
     "execution_count": 86,
     "metadata": {},
     "output_type": "execute_result"
    }
   ],
   "source": [
    "megaline.query('plan == \"surf\"')['mb_used'].max()"
   ]
  },
  {
   "cell_type": "markdown",
   "metadata": {},
   "source": [
    "778mb per month maximally in 2018, rly?\n",
    "\n",
    "345MB is median data volume for surfers. 511MB would be enough for 90%. 800 would exceed demand."
   ]
  },
  {
   "cell_type": "code",
   "execution_count": 87,
   "metadata": {},
   "outputs": [
    {
     "data": {
      "text/plain": [
       "308.0"
      ]
     },
     "execution_count": 87,
     "metadata": {},
     "output_type": "execute_result"
    }
   ],
   "source": [
    "megaline.query('plan == \"ultimate\"')['mb_used'].median()"
   ]
  },
  {
   "cell_type": "code",
   "execution_count": 88,
   "metadata": {},
   "outputs": [
    {
     "data": {
      "image/png": "[encoded data removed]",
      "text/plain": [
       "<Figure size 504x360 with 1 Axes>"
      ]
     },
     "metadata": {
      "needs_background": "light"
     },
     "output_type": "display_data"
    }
   ],
   "source": [
    "plt.figure(figsize=(7, 5))\n",
    "plt.title('Average megabytes number per month for Ultimate subscribers')\n",
    "sns.boxplot(y='mb_used', data=megaline.query('plan == \"ultimate\"'));"
   ]
  },
  {
   "cell_type": "code",
   "execution_count": 89,
   "metadata": {},
   "outputs": [
    {
     "data": {
      "text/plain": [
       "499.0"
      ]
     },
     "execution_count": 89,
     "metadata": {},
     "output_type": "execute_result"
    }
   ],
   "source": [
    "np.quantile(megaline.query('plan == \"ultimate\"')['mb_used'], .90)"
   ]
  },
  {
   "cell_type": "code",
   "execution_count": 90,
   "metadata": {},
   "outputs": [
    {
     "data": {
      "text/plain": [
       "697"
      ]
     },
     "execution_count": 90,
     "metadata": {},
     "output_type": "execute_result"
    }
   ],
   "source": [
    "megaline.query('plan == \"ultimate\"')['mb_used'].max()"
   ]
  },
  {
   "cell_type": "markdown",
   "metadata": {},
   "source": [
    "339MB is median data volume for ultimate. 500MB would be enough for 90%. 700 would exceed demand."
   ]
  },
  {
   "cell_type": "code",
   "execution_count": 91,
   "metadata": {},
   "outputs": [
    {
     "data": {
      "text/plain": [
       "28.0"
      ]
     },
     "execution_count": 91,
     "metadata": {},
     "output_type": "execute_result"
    }
   ],
   "source": [
    "megaline.query('plan == \"surf\"')['msg_num'].median()"
   ]
  },
  {
   "cell_type": "code",
   "execution_count": 92,
   "metadata": {},
   "outputs": [
    {
     "data": {
      "image/png": "[encoded data removed]",
      "text/plain": [
       "<Figure size 504x360 with 1 Axes>"
      ]
     },
     "metadata": {
      "needs_background": "light"
     },
     "output_type": "display_data"
    }
   ],
   "source": [
    "plt.figure(figsize=(7, 5))\n",
    "plt.title('Average messages number per month for Surf subscribers')\n",
    "sns.boxplot(y='msg_num', data=megaline.query('plan == \"surf\"'));"
   ]
  },
  {
   "cell_type": "code",
   "execution_count": 93,
   "metadata": {},
   "outputs": [
    {
     "data": {
      "text/plain": [
       "78.0"
      ]
     },
     "execution_count": 93,
     "metadata": {},
     "output_type": "execute_result"
    }
   ],
   "source": [
    "np.quantile(megaline.query('plan == \"surf\"')['msg_num'], .90)"
   ]
  },
  {
   "cell_type": "code",
   "execution_count": 94,
   "metadata": {},
   "outputs": [
    {
     "data": {
      "text/plain": [
       "nan"
      ]
     },
     "execution_count": 94,
     "metadata": {},
     "output_type": "execute_result"
    }
   ],
   "source": [
    "megaline.query('plan == \"\"')['msg_num'].max()"
   ]
  },
  {
   "cell_type": "markdown",
   "metadata": {},
   "source": [
    "33 SMS monthly in average for surf users. 78 messages would satisfy 90%. 170 would exceed needs. "
   ]
  },
  {
   "cell_type": "code",
   "execution_count": 95,
   "metadata": {},
   "outputs": [
    {
     "data": {
      "text/plain": [
       "34.0"
      ]
     },
     "execution_count": 95,
     "metadata": {},
     "output_type": "execute_result"
    }
   ],
   "source": [
    "megaline.query('plan == \"ultimate\"')['msg_num'].median()"
   ]
  },
  {
   "cell_type": "code",
   "execution_count": 96,
   "metadata": {},
   "outputs": [
    {
     "data": {
      "image/png": "[encoded data removed]",
      "text/plain": [
       "<Figure size 504x360 with 1 Axes>"
      ]
     },
     "metadata": {
      "needs_background": "light"
     },
     "output_type": "display_data"
    }
   ],
   "source": [
    "plt.figure(figsize=(7, 5))\n",
    "plt.title('Average messages number per month for Ultimate subscribers')\n",
    "sns.boxplot(y='msg_num', data=megaline.query('plan == \"ultimate\"'));"
   ]
  },
  {
   "cell_type": "code",
   "execution_count": 97,
   "metadata": {},
   "outputs": [
    {
     "data": {
      "text/plain": [
       "83.0"
      ]
     },
     "execution_count": 97,
     "metadata": {},
     "output_type": "execute_result"
    }
   ],
   "source": [
    "np.quantile(megaline.query('plan == \"ultimate\"')['msg_num'], .90)"
   ]
  },
  {
   "cell_type": "code",
   "execution_count": 98,
   "metadata": {},
   "outputs": [
    {
     "data": {
      "text/plain": [
       "150"
      ]
     },
     "execution_count": 98,
     "metadata": {},
     "output_type": "execute_result"
    }
   ],
   "source": [
    "megaline.query('plan == \"ultimate\"')['msg_num'].max()"
   ]
  },
  {
   "cell_type": "markdown",
   "metadata": {},
   "source": [
    "39 SMS monthly in average for ultimate. 83 messages would satisfy 90%. 150 would exceed needs for most. "
   ]
  },
  {
   "cell_type": "code",
   "execution_count": 99,
   "metadata": {},
   "outputs": [
    {
     "data": {
      "text/html": [
       "<div>\n",
       "<style scoped>\n",
       "    .dataframe tbody tr th:only-of-type {\n",
       "        vertical-align: middle;\n",
       "    }\n",
       "\n",
       "    .dataframe tbody tr th {\n",
       "        vertical-align: top;\n",
       "    }\n",
       "\n",
       "    .dataframe thead th {\n",
       "        text-align: right;\n",
       "    }\n",
       "</style>\n",
       "<table border=\"1\" class=\"dataframe\">\n",
       "  <thead>\n",
       "    <tr style=\"text-align: right;\">\n",
       "      <th></th>\n",
       "      <th>age</th>\n",
       "      <th>mb_used</th>\n",
       "      <th>gb_charged</th>\n",
       "      <th>msg_num</th>\n",
       "      <th>call_num</th>\n",
       "      <th>call_dur</th>\n",
       "      <th>total_cost</th>\n",
       "    </tr>\n",
       "  </thead>\n",
       "  <tbody>\n",
       "    <tr>\n",
       "      <td>count</td>\n",
       "      <td>339.000000</td>\n",
       "      <td>339.000000</td>\n",
       "      <td>339.000000</td>\n",
       "      <td>339.000000</td>\n",
       "      <td>339.000000</td>\n",
       "      <td>339.000000</td>\n",
       "      <td>339.000000</td>\n",
       "    </tr>\n",
       "    <tr>\n",
       "      <td>mean</td>\n",
       "      <td>44.952802</td>\n",
       "      <td>343.914454</td>\n",
       "      <td>0.979351</td>\n",
       "      <td>33.348083</td>\n",
       "      <td>47.336283</td>\n",
       "      <td>421.938053</td>\n",
       "      <td>37.755162</td>\n",
       "    </tr>\n",
       "    <tr>\n",
       "      <td>std</td>\n",
       "      <td>17.132208</td>\n",
       "      <td>110.205275</td>\n",
       "      <td>0.142416</td>\n",
       "      <td>32.705017</td>\n",
       "      <td>24.088450</td>\n",
       "      <td>217.360359</td>\n",
       "      <td>33.235162</td>\n",
       "    </tr>\n",
       "    <tr>\n",
       "      <td>min</td>\n",
       "      <td>18.000000</td>\n",
       "      <td>0.000000</td>\n",
       "      <td>0.000000</td>\n",
       "      <td>0.000000</td>\n",
       "      <td>0.000000</td>\n",
       "      <td>0.000000</td>\n",
       "      <td>20.000000</td>\n",
       "    </tr>\n",
       "    <tr>\n",
       "      <td>25%</td>\n",
       "      <td>29.000000</td>\n",
       "      <td>284.000000</td>\n",
       "      <td>1.000000</td>\n",
       "      <td>5.000000</td>\n",
       "      <td>32.000000</td>\n",
       "      <td>291.000000</td>\n",
       "      <td>20.000000</td>\n",
       "    </tr>\n",
       "    <tr>\n",
       "      <td>50%</td>\n",
       "      <td>45.000000</td>\n",
       "      <td>311.000000</td>\n",
       "      <td>1.000000</td>\n",
       "      <td>28.000000</td>\n",
       "      <td>47.000000</td>\n",
       "      <td>416.000000</td>\n",
       "      <td>20.000000</td>\n",
       "    </tr>\n",
       "    <tr>\n",
       "      <td>75%</td>\n",
       "      <td>61.000000</td>\n",
       "      <td>420.500000</td>\n",
       "      <td>1.000000</td>\n",
       "      <td>49.500000</td>\n",
       "      <td>63.500000</td>\n",
       "      <td>566.000000</td>\n",
       "      <td>43.000000</td>\n",
       "    </tr>\n",
       "    <tr>\n",
       "      <td>max</td>\n",
       "      <td>75.000000</td>\n",
       "      <td>777.000000</td>\n",
       "      <td>1.000000</td>\n",
       "      <td>168.000000</td>\n",
       "      <td>125.000000</td>\n",
       "      <td>1119.000000</td>\n",
       "      <td>205.000000</td>\n",
       "    </tr>\n",
       "  </tbody>\n",
       "</table>\n",
       "</div>"
      ],
      "text/plain": [
       "              age     mb_used  gb_charged     msg_num    call_num  \\\n",
       "count  339.000000  339.000000  339.000000  339.000000  339.000000   \n",
       "mean    44.952802  343.914454    0.979351   33.348083   47.336283   \n",
       "std     17.132208  110.205275    0.142416   32.705017   24.088450   \n",
       "min     18.000000    0.000000    0.000000    0.000000    0.000000   \n",
       "25%     29.000000  284.000000    1.000000    5.000000   32.000000   \n",
       "50%     45.000000  311.000000    1.000000   28.000000   47.000000   \n",
       "75%     61.000000  420.500000    1.000000   49.500000   63.500000   \n",
       "max     75.000000  777.000000    1.000000  168.000000  125.000000   \n",
       "\n",
       "          call_dur  total_cost  \n",
       "count   339.000000  339.000000  \n",
       "mean    421.938053   37.755162  \n",
       "std     217.360359   33.235162  \n",
       "min       0.000000   20.000000  \n",
       "25%     291.000000   20.000000  \n",
       "50%     416.000000   20.000000  \n",
       "75%     566.000000   43.000000  \n",
       "max    1119.000000  205.000000  "
      ]
     },
     "execution_count": 99,
     "metadata": {},
     "output_type": "execute_result"
    }
   ],
   "source": [
    "megaline.query('plan == \"surf\"').drop(['user_id', 'stopped'], axis=1).describe()"
   ]
  },
  {
   "cell_type": "code",
   "execution_count": 100,
   "metadata": {},
   "outputs": [
    {
     "data": {
      "text/plain": [
       "age             293.512559\n",
       "mb_used       12145.202719\n",
       "gb_charged        0.020282\n",
       "msg_num        1069.618125\n",
       "call_num        580.253443\n",
       "call_dur      47245.525737\n",
       "total_cost     1104.575972\n",
       "dtype: float64"
      ]
     },
     "execution_count": 100,
     "metadata": {},
     "output_type": "execute_result"
    }
   ],
   "source": [
    "megaline.query('plan == \"surf\"').drop(['user_id', 'stopped'], axis=1).var()"
   ]
  },
  {
   "cell_type": "markdown",
   "metadata": {},
   "source": [
    "For Surf users medians are: age 45, traffic usage 285, messages 28, minutes 416, number of calls 172, total cost is 20.\n",
    "Standard deviations are: 17 for age, 110 for megabytes, 35 messages, 217 minutes, 193 calls, and 33 for total cost.\n",
    "Variances are shown above."
   ]
  },
  {
   "cell_type": "code",
   "execution_count": 101,
   "metadata": {},
   "outputs": [
    {
     "data": {
      "text/html": [
       "<div>\n",
       "<style scoped>\n",
       "    .dataframe tbody tr th:only-of-type {\n",
       "        vertical-align: middle;\n",
       "    }\n",
       "\n",
       "    .dataframe tbody tr th {\n",
       "        vertical-align: top;\n",
       "    }\n",
       "\n",
       "    .dataframe thead th {\n",
       "        text-align: right;\n",
       "    }\n",
       "</style>\n",
       "<table border=\"1\" class=\"dataframe\">\n",
       "  <thead>\n",
       "    <tr style=\"text-align: right;\">\n",
       "      <th></th>\n",
       "      <th>age</th>\n",
       "      <th>mb_used</th>\n",
       "      <th>gb_charged</th>\n",
       "      <th>msg_num</th>\n",
       "      <th>call_num</th>\n",
       "      <th>call_dur</th>\n",
       "      <th>total_cost</th>\n",
       "    </tr>\n",
       "  </thead>\n",
       "  <tbody>\n",
       "    <tr>\n",
       "      <td>count</td>\n",
       "      <td>161.000000</td>\n",
       "      <td>161.000000</td>\n",
       "      <td>161.000000</td>\n",
       "      <td>161.000000</td>\n",
       "      <td>161.000000</td>\n",
       "      <td>161.000000</td>\n",
       "      <td>161.0</td>\n",
       "    </tr>\n",
       "    <tr>\n",
       "      <td>mean</td>\n",
       "      <td>46.608696</td>\n",
       "      <td>337.664596</td>\n",
       "      <td>0.975155</td>\n",
       "      <td>39.316770</td>\n",
       "      <td>47.043478</td>\n",
       "      <td>415.254658</td>\n",
       "      <td>70.0</td>\n",
       "    </tr>\n",
       "    <tr>\n",
       "      <td>std</td>\n",
       "      <td>16.627227</td>\n",
       "      <td>112.513552</td>\n",
       "      <td>0.156137</td>\n",
       "      <td>35.274534</td>\n",
       "      <td>24.733416</td>\n",
       "      <td>220.122218</td>\n",
       "      <td>0.0</td>\n",
       "    </tr>\n",
       "    <tr>\n",
       "      <td>min</td>\n",
       "      <td>18.000000</td>\n",
       "      <td>0.000000</td>\n",
       "      <td>0.000000</td>\n",
       "      <td>0.000000</td>\n",
       "      <td>0.000000</td>\n",
       "      <td>0.000000</td>\n",
       "      <td>70.0</td>\n",
       "    </tr>\n",
       "    <tr>\n",
       "      <td>25%</td>\n",
       "      <td>33.000000</td>\n",
       "      <td>283.000000</td>\n",
       "      <td>1.000000</td>\n",
       "      <td>8.000000</td>\n",
       "      <td>31.000000</td>\n",
       "      <td>263.000000</td>\n",
       "      <td>70.0</td>\n",
       "    </tr>\n",
       "    <tr>\n",
       "      <td>50%</td>\n",
       "      <td>48.000000</td>\n",
       "      <td>308.000000</td>\n",
       "      <td>1.000000</td>\n",
       "      <td>34.000000</td>\n",
       "      <td>48.000000</td>\n",
       "      <td>421.000000</td>\n",
       "      <td>70.0</td>\n",
       "    </tr>\n",
       "    <tr>\n",
       "      <td>75%</td>\n",
       "      <td>60.000000</td>\n",
       "      <td>411.000000</td>\n",
       "      <td>1.000000</td>\n",
       "      <td>63.000000</td>\n",
       "      <td>60.000000</td>\n",
       "      <td>526.000000</td>\n",
       "      <td>70.0</td>\n",
       "    </tr>\n",
       "    <tr>\n",
       "      <td>max</td>\n",
       "      <td>75.000000</td>\n",
       "      <td>697.000000</td>\n",
       "      <td>1.000000</td>\n",
       "      <td>150.000000</td>\n",
       "      <td>131.000000</td>\n",
       "      <td>1215.000000</td>\n",
       "      <td>70.0</td>\n",
       "    </tr>\n",
       "  </tbody>\n",
       "</table>\n",
       "</div>"
      ],
      "text/plain": [
       "              age     mb_used  gb_charged     msg_num    call_num  \\\n",
       "count  161.000000  161.000000  161.000000  161.000000  161.000000   \n",
       "mean    46.608696  337.664596    0.975155   39.316770   47.043478   \n",
       "std     16.627227  112.513552    0.156137   35.274534   24.733416   \n",
       "min     18.000000    0.000000    0.000000    0.000000    0.000000   \n",
       "25%     33.000000  283.000000    1.000000    8.000000   31.000000   \n",
       "50%     48.000000  308.000000    1.000000   34.000000   48.000000   \n",
       "75%     60.000000  411.000000    1.000000   63.000000   60.000000   \n",
       "max     75.000000  697.000000    1.000000  150.000000  131.000000   \n",
       "\n",
       "          call_dur  total_cost  \n",
       "count   161.000000       161.0  \n",
       "mean    415.254658        70.0  \n",
       "std     220.122218         0.0  \n",
       "min       0.000000        70.0  \n",
       "25%     263.000000        70.0  \n",
       "50%     421.000000        70.0  \n",
       "75%     526.000000        70.0  \n",
       "max    1215.000000        70.0  "
      ]
     },
     "execution_count": 101,
     "metadata": {},
     "output_type": "execute_result"
    }
   ],
   "source": [
    "megaline.query('plan == \"ultimate\"').drop(['user_id', 'stopped'], axis=1).describe()"
   ]
  },
  {
   "cell_type": "code",
   "execution_count": 102,
   "metadata": {},
   "outputs": [
    {
     "data": {
      "text/plain": [
       "276.4646739130435"
      ]
     },
     "execution_count": 102,
     "metadata": {},
     "output_type": "execute_result"
    }
   ],
   "source": [
    "megaline.query('plan == \"ultimate\"')['age'].var()"
   ]
  },
  {
   "cell_type": "code",
   "execution_count": 103,
   "metadata": {},
   "outputs": [
    {
     "data": {
      "text/plain": [
       "276.46467770952904"
      ]
     },
     "execution_count": 103,
     "metadata": {},
     "output_type": "execute_result"
    }
   ],
   "source": [
    "16.627227*16.627227"
   ]
  },
  {
   "cell_type": "code",
   "execution_count": 104,
   "metadata": {},
   "outputs": [
    {
     "data": {
      "text/plain": [
       "age             276.464674\n",
       "mb_used       12659.299301\n",
       "gb_charged        0.024379\n",
       "msg_num        1244.292780\n",
       "call_num        611.741848\n",
       "call_dur      48453.790994\n",
       "total_cost        0.000000\n",
       "dtype: float64"
      ]
     },
     "execution_count": 104,
     "metadata": {},
     "output_type": "execute_result"
    }
   ],
   "source": [
    "megaline.query('plan == \"ultimate\"').drop(['user_id', 'stopped'], axis=1).var()"
   ]
  },
  {
   "cell_type": "markdown",
   "metadata": {},
   "source": [
    "For Ultimate users medians are: age 48, traffic usage 309, messages 34, minutes 421, number of calls 156, total cost 70\n",
    "Standard deviations are: 17 for age, 113 for megabytes, 35 messages, 220 minutes, 192 calls, and total cost is invariable with 0. Google points to sexually transmitted disease first, when I look for std definitions.\n",
    "\n",
    "Variances are shown above.\n",
    "Variance is standard deviation squared, found that they are not exactly equal because describe() method returns the corrected sample standard deviation.\n",
    "    \n",
    "Total cost looks strange. Rechecked calculation logic. It's just because not a single person broke ultimate plan limitations."
   ]
  },
  {
   "cell_type": "code",
   "execution_count": 105,
   "metadata": {},
   "outputs": [
    {
     "data": {
      "text/plain": [
       "70    161\n",
       "Name: total_cost, dtype: int64"
      ]
     },
     "execution_count": 105,
     "metadata": {},
     "output_type": "execute_result"
    }
   ],
   "source": [
    "megaline.query('plan == \"ultimate\"')['total_cost'].value_counts()"
   ]
  },
  {
   "cell_type": "code",
   "execution_count": 106,
   "metadata": {},
   "outputs": [
    {
     "data": {
      "text/plain": [
       "(0, 0, 0)"
      ]
     },
     "execution_count": 106,
     "metadata": {},
     "output_type": "execute_result"
    }
   ],
   "source": [
    "len(megaline.query('plan == \"ultimate\" & call_dur > 3000')), len(megaline.query('plan == \"ultimate\" & msg_num > 1000')), len(megaline.query('plan == \"ultimate\" & mb_used > 30720'))"
   ]
  },
  {
   "cell_type": "markdown",
   "metadata": {},
   "source": [
    "No one exceeds limits in Ultimate tariff plan. Not a single person spends more than 30GB. Unbelievable. Maybe it's because it's median age is pretty high."
   ]
  },
  {
   "cell_type": "code",
   "execution_count": 107,
   "metadata": {},
   "outputs": [
    {
     "data": {
      "text/html": [
       "<div>\n",
       "<style scoped>\n",
       "    .dataframe tbody tr th:only-of-type {\n",
       "        vertical-align: middle;\n",
       "    }\n",
       "\n",
       "    .dataframe tbody tr th {\n",
       "        vertical-align: top;\n",
       "    }\n",
       "\n",
       "    .dataframe thead th {\n",
       "        text-align: right;\n",
       "    }\n",
       "</style>\n",
       "<table border=\"1\" class=\"dataframe\">\n",
       "  <thead>\n",
       "    <tr style=\"text-align: right;\">\n",
       "      <th></th>\n",
       "      <th>age</th>\n",
       "      <th>mb_used</th>\n",
       "      <th>gb_charged</th>\n",
       "      <th>msg_num</th>\n",
       "      <th>call_num</th>\n",
       "      <th>call_dur</th>\n",
       "      <th>total_cost</th>\n",
       "    </tr>\n",
       "  </thead>\n",
       "  <tbody>\n",
       "    <tr>\n",
       "      <td>count</td>\n",
       "      <td>339.000000</td>\n",
       "      <td>339.000000</td>\n",
       "      <td>339.000000</td>\n",
       "      <td>339.000000</td>\n",
       "      <td>339.000000</td>\n",
       "      <td>339.000000</td>\n",
       "      <td>339.000000</td>\n",
       "    </tr>\n",
       "    <tr>\n",
       "      <td>mean</td>\n",
       "      <td>44.952802</td>\n",
       "      <td>343.914454</td>\n",
       "      <td>0.979351</td>\n",
       "      <td>33.348083</td>\n",
       "      <td>47.336283</td>\n",
       "      <td>421.938053</td>\n",
       "      <td>37.755162</td>\n",
       "    </tr>\n",
       "    <tr>\n",
       "      <td>std</td>\n",
       "      <td>17.132208</td>\n",
       "      <td>110.205275</td>\n",
       "      <td>0.142416</td>\n",
       "      <td>32.705017</td>\n",
       "      <td>24.088450</td>\n",
       "      <td>217.360359</td>\n",
       "      <td>33.235162</td>\n",
       "    </tr>\n",
       "    <tr>\n",
       "      <td>min</td>\n",
       "      <td>18.000000</td>\n",
       "      <td>0.000000</td>\n",
       "      <td>0.000000</td>\n",
       "      <td>0.000000</td>\n",
       "      <td>0.000000</td>\n",
       "      <td>0.000000</td>\n",
       "      <td>20.000000</td>\n",
       "    </tr>\n",
       "    <tr>\n",
       "      <td>25%</td>\n",
       "      <td>29.000000</td>\n",
       "      <td>284.000000</td>\n",
       "      <td>1.000000</td>\n",
       "      <td>5.000000</td>\n",
       "      <td>32.000000</td>\n",
       "      <td>291.000000</td>\n",
       "      <td>20.000000</td>\n",
       "    </tr>\n",
       "    <tr>\n",
       "      <td>50%</td>\n",
       "      <td>45.000000</td>\n",
       "      <td>311.000000</td>\n",
       "      <td>1.000000</td>\n",
       "      <td>28.000000</td>\n",
       "      <td>47.000000</td>\n",
       "      <td>416.000000</td>\n",
       "      <td>20.000000</td>\n",
       "    </tr>\n",
       "    <tr>\n",
       "      <td>75%</td>\n",
       "      <td>61.000000</td>\n",
       "      <td>420.500000</td>\n",
       "      <td>1.000000</td>\n",
       "      <td>49.500000</td>\n",
       "      <td>63.500000</td>\n",
       "      <td>566.000000</td>\n",
       "      <td>43.000000</td>\n",
       "    </tr>\n",
       "    <tr>\n",
       "      <td>max</td>\n",
       "      <td>75.000000</td>\n",
       "      <td>777.000000</td>\n",
       "      <td>1.000000</td>\n",
       "      <td>168.000000</td>\n",
       "      <td>125.000000</td>\n",
       "      <td>1119.000000</td>\n",
       "      <td>205.000000</td>\n",
       "    </tr>\n",
       "  </tbody>\n",
       "</table>\n",
       "</div>"
      ],
      "text/plain": [
       "              age     mb_used  gb_charged     msg_num    call_num  \\\n",
       "count  339.000000  339.000000  339.000000  339.000000  339.000000   \n",
       "mean    44.952802  343.914454    0.979351   33.348083   47.336283   \n",
       "std     17.132208  110.205275    0.142416   32.705017   24.088450   \n",
       "min     18.000000    0.000000    0.000000    0.000000    0.000000   \n",
       "25%     29.000000  284.000000    1.000000    5.000000   32.000000   \n",
       "50%     45.000000  311.000000    1.000000   28.000000   47.000000   \n",
       "75%     61.000000  420.500000    1.000000   49.500000   63.500000   \n",
       "max     75.000000  777.000000    1.000000  168.000000  125.000000   \n",
       "\n",
       "          call_dur  total_cost  \n",
       "count   339.000000  339.000000  \n",
       "mean    421.938053   37.755162  \n",
       "std     217.360359   33.235162  \n",
       "min       0.000000   20.000000  \n",
       "25%     291.000000   20.000000  \n",
       "50%     416.000000   20.000000  \n",
       "75%     566.000000   43.000000  \n",
       "max    1119.000000  205.000000  "
      ]
     },
     "execution_count": 107,
     "metadata": {},
     "output_type": "execute_result"
    }
   ],
   "source": [
    "megaline.query('plan == \"surf\"').drop(['user_id', 'stopped'], axis=1).describe()"
   ]
  },
  {
   "cell_type": "code",
   "execution_count": 108,
   "metadata": {},
   "outputs": [
    {
     "data": {
      "text/plain": [
       "user_id       20010.132534\n",
       "age             293.512559\n",
       "mb_used       12145.202719\n",
       "gb_charged        0.020282\n",
       "msg_num        1069.618125\n",
       "call_num        580.253443\n",
       "call_dur      47245.525737\n",
       "stopped           0.063431\n",
       "total_cost     1104.575972\n",
       "dtype: float64"
      ]
     },
     "execution_count": 108,
     "metadata": {},
     "output_type": "execute_result"
    }
   ],
   "source": [
    "megaline.query('plan == \"surf\"').var()"
   ]
  },
  {
   "cell_type": "markdown",
   "metadata": {},
   "source": [
    "Surf audience is just slightly younger with the median age of 45. Total expenditures are far more versatile."
   ]
  },
  {
   "cell_type": "code",
   "execution_count": 109,
   "metadata": {},
   "outputs": [
    {
     "data": {
      "text/plain": [
       "20     178\n",
       "22       8\n",
       "23       8\n",
       "21       7\n",
       "25       7\n",
       "      ... \n",
       "95       1\n",
       "49       1\n",
       "97       1\n",
       "101      1\n",
       "205      1\n",
       "Name: total_cost, Length: 74, dtype: int64"
      ]
     },
     "execution_count": 109,
     "metadata": {},
     "output_type": "execute_result"
    }
   ],
   "source": [
    "megaline.query('plan == \"surf\"')['total_cost'].value_counts()"
   ]
  },
  {
   "cell_type": "code",
   "execution_count": 110,
   "metadata": {},
   "outputs": [
    {
     "data": {
      "text/plain": [
       "(120, 82, 0)"
      ]
     },
     "execution_count": 110,
     "metadata": {},
     "output_type": "execute_result"
    }
   ],
   "source": [
    "len(megaline.query('plan == \"surf\" & call_dur > 500')), len(megaline.query('plan == \"surf\" & msg_num > 50')), len(megaline.query('plan == \"surf\" & mb_used > 15360'))"
   ]
  },
  {
   "cell_type": "markdown",
   "metadata": {},
   "source": [
    "a lot of surfers exceeded modest limitations of the plan"
   ]
  },
  {
   "cell_type": "code",
   "execution_count": 111,
   "metadata": {},
   "outputs": [
    {
     "data": {
      "text/html": [
       "<div>\n",
       "<style scoped>\n",
       "    .dataframe tbody tr th:only-of-type {\n",
       "        vertical-align: middle;\n",
       "    }\n",
       "\n",
       "    .dataframe tbody tr th {\n",
       "        vertical-align: top;\n",
       "    }\n",
       "\n",
       "    .dataframe thead th {\n",
       "        text-align: right;\n",
       "    }\n",
       "</style>\n",
       "<table border=\"1\" class=\"dataframe\">\n",
       "  <thead>\n",
       "    <tr style=\"text-align: right;\">\n",
       "      <th></th>\n",
       "      <th>age</th>\n",
       "      <th>mb_used</th>\n",
       "      <th>gb_charged</th>\n",
       "      <th>msg_num</th>\n",
       "      <th>call_num</th>\n",
       "      <th>call_dur</th>\n",
       "      <th>total_cost</th>\n",
       "    </tr>\n",
       "  </thead>\n",
       "  <tbody>\n",
       "    <tr>\n",
       "      <td>age</td>\n",
       "      <td>1.000000</td>\n",
       "      <td>0.055254</td>\n",
       "      <td>0.049195</td>\n",
       "      <td>0.040749</td>\n",
       "      <td>0.013963</td>\n",
       "      <td>0.012001</td>\n",
       "      <td>NaN</td>\n",
       "    </tr>\n",
       "    <tr>\n",
       "      <td>mb_used</td>\n",
       "      <td>0.055254</td>\n",
       "      <td>1.000000</td>\n",
       "      <td>0.480523</td>\n",
       "      <td>0.413042</td>\n",
       "      <td>0.247895</td>\n",
       "      <td>0.254938</td>\n",
       "      <td>NaN</td>\n",
       "    </tr>\n",
       "    <tr>\n",
       "      <td>gb_charged</td>\n",
       "      <td>0.049195</td>\n",
       "      <td>0.480523</td>\n",
       "      <td>1.000000</td>\n",
       "      <td>0.178464</td>\n",
       "      <td>0.304543</td>\n",
       "      <td>0.302053</td>\n",
       "      <td>NaN</td>\n",
       "    </tr>\n",
       "    <tr>\n",
       "      <td>msg_num</td>\n",
       "      <td>0.040749</td>\n",
       "      <td>0.413042</td>\n",
       "      <td>0.178464</td>\n",
       "      <td>1.000000</td>\n",
       "      <td>0.174082</td>\n",
       "      <td>0.169794</td>\n",
       "      <td>NaN</td>\n",
       "    </tr>\n",
       "    <tr>\n",
       "      <td>call_num</td>\n",
       "      <td>0.013963</td>\n",
       "      <td>0.247895</td>\n",
       "      <td>0.304543</td>\n",
       "      <td>0.174082</td>\n",
       "      <td>1.000000</td>\n",
       "      <td>0.991340</td>\n",
       "      <td>NaN</td>\n",
       "    </tr>\n",
       "    <tr>\n",
       "      <td>call_dur</td>\n",
       "      <td>0.012001</td>\n",
       "      <td>0.254938</td>\n",
       "      <td>0.302053</td>\n",
       "      <td>0.169794</td>\n",
       "      <td>0.991340</td>\n",
       "      <td>1.000000</td>\n",
       "      <td>NaN</td>\n",
       "    </tr>\n",
       "    <tr>\n",
       "      <td>total_cost</td>\n",
       "      <td>NaN</td>\n",
       "      <td>NaN</td>\n",
       "      <td>NaN</td>\n",
       "      <td>NaN</td>\n",
       "      <td>NaN</td>\n",
       "      <td>NaN</td>\n",
       "      <td>NaN</td>\n",
       "    </tr>\n",
       "  </tbody>\n",
       "</table>\n",
       "</div>"
      ],
      "text/plain": [
       "                 age   mb_used  gb_charged   msg_num  call_num  call_dur  \\\n",
       "age         1.000000  0.055254    0.049195  0.040749  0.013963  0.012001   \n",
       "mb_used     0.055254  1.000000    0.480523  0.413042  0.247895  0.254938   \n",
       "gb_charged  0.049195  0.480523    1.000000  0.178464  0.304543  0.302053   \n",
       "msg_num     0.040749  0.413042    0.178464  1.000000  0.174082  0.169794   \n",
       "call_num    0.013963  0.247895    0.304543  0.174082  1.000000  0.991340   \n",
       "call_dur    0.012001  0.254938    0.302053  0.169794  0.991340  1.000000   \n",
       "total_cost       NaN       NaN         NaN       NaN       NaN       NaN   \n",
       "\n",
       "            total_cost  \n",
       "age                NaN  \n",
       "mb_used            NaN  \n",
       "gb_charged         NaN  \n",
       "msg_num            NaN  \n",
       "call_num           NaN  \n",
       "call_dur           NaN  \n",
       "total_cost         NaN  "
      ]
     },
     "execution_count": 111,
     "metadata": {},
     "output_type": "execute_result"
    }
   ],
   "source": [
    "megaline.query('plan == \"ultimate\"').drop(['user_id', 'stopped'], axis=1).corr()"
   ]
  },
  {
   "cell_type": "markdown",
   "metadata": {},
   "source": [
    "No correlations fur total cost here, it's invariable, just 70"
   ]
  },
  {
   "cell_type": "code",
   "execution_count": 112,
   "metadata": {},
   "outputs": [
    {
     "data": {
      "text/html": [
       "<div>\n",
       "<style scoped>\n",
       "    .dataframe tbody tr th:only-of-type {\n",
       "        vertical-align: middle;\n",
       "    }\n",
       "\n",
       "    .dataframe tbody tr th {\n",
       "        vertical-align: top;\n",
       "    }\n",
       "\n",
       "    .dataframe thead th {\n",
       "        text-align: right;\n",
       "    }\n",
       "</style>\n",
       "<table border=\"1\" class=\"dataframe\">\n",
       "  <thead>\n",
       "    <tr style=\"text-align: right;\">\n",
       "      <th></th>\n",
       "      <th>age</th>\n",
       "      <th>mb_used</th>\n",
       "      <th>gb_charged</th>\n",
       "      <th>msg_num</th>\n",
       "      <th>call_num</th>\n",
       "      <th>call_dur</th>\n",
       "      <th>total_cost</th>\n",
       "    </tr>\n",
       "  </thead>\n",
       "  <tbody>\n",
       "    <tr>\n",
       "      <td>age</td>\n",
       "      <td>1.000000</td>\n",
       "      <td>0.061010</td>\n",
       "      <td>-0.001613</td>\n",
       "      <td>0.032672</td>\n",
       "      <td>0.006763</td>\n",
       "      <td>0.005846</td>\n",
       "      <td>-0.008189</td>\n",
       "    </tr>\n",
       "    <tr>\n",
       "      <td>mb_used</td>\n",
       "      <td>0.061010</td>\n",
       "      <td>1.000000</td>\n",
       "      <td>0.453805</td>\n",
       "      <td>0.264225</td>\n",
       "      <td>0.290226</td>\n",
       "      <td>0.294792</td>\n",
       "      <td>0.370427</td>\n",
       "    </tr>\n",
       "    <tr>\n",
       "      <td>gb_charged</td>\n",
       "      <td>-0.001613</td>\n",
       "      <td>0.453805</td>\n",
       "      <td>1.000000</td>\n",
       "      <td>0.057445</td>\n",
       "      <td>0.233156</td>\n",
       "      <td>0.230294</td>\n",
       "      <td>0.052059</td>\n",
       "    </tr>\n",
       "    <tr>\n",
       "      <td>msg_num</td>\n",
       "      <td>0.032672</td>\n",
       "      <td>0.264225</td>\n",
       "      <td>0.057445</td>\n",
       "      <td>1.000000</td>\n",
       "      <td>0.205145</td>\n",
       "      <td>0.215931</td>\n",
       "      <td>0.302312</td>\n",
       "    </tr>\n",
       "    <tr>\n",
       "      <td>call_num</td>\n",
       "      <td>0.006763</td>\n",
       "      <td>0.290226</td>\n",
       "      <td>0.233156</td>\n",
       "      <td>0.205145</td>\n",
       "      <td>1.000000</td>\n",
       "      <td>0.991299</td>\n",
       "      <td>0.767787</td>\n",
       "    </tr>\n",
       "    <tr>\n",
       "      <td>call_dur</td>\n",
       "      <td>0.005846</td>\n",
       "      <td>0.294792</td>\n",
       "      <td>0.230294</td>\n",
       "      <td>0.215931</td>\n",
       "      <td>0.991299</td>\n",
       "      <td>1.000000</td>\n",
       "      <td>0.787420</td>\n",
       "    </tr>\n",
       "    <tr>\n",
       "      <td>total_cost</td>\n",
       "      <td>-0.008189</td>\n",
       "      <td>0.370427</td>\n",
       "      <td>0.052059</td>\n",
       "      <td>0.302312</td>\n",
       "      <td>0.767787</td>\n",
       "      <td>0.787420</td>\n",
       "      <td>1.000000</td>\n",
       "    </tr>\n",
       "  </tbody>\n",
       "</table>\n",
       "</div>"
      ],
      "text/plain": [
       "                 age   mb_used  gb_charged   msg_num  call_num  call_dur  \\\n",
       "age         1.000000  0.061010   -0.001613  0.032672  0.006763  0.005846   \n",
       "mb_used     0.061010  1.000000    0.453805  0.264225  0.290226  0.294792   \n",
       "gb_charged -0.001613  0.453805    1.000000  0.057445  0.233156  0.230294   \n",
       "msg_num     0.032672  0.264225    0.057445  1.000000  0.205145  0.215931   \n",
       "call_num    0.006763  0.290226    0.233156  0.205145  1.000000  0.991299   \n",
       "call_dur    0.005846  0.294792    0.230294  0.215931  0.991299  1.000000   \n",
       "total_cost -0.008189  0.370427    0.052059  0.302312  0.767787  0.787420   \n",
       "\n",
       "            total_cost  \n",
       "age          -0.008189  \n",
       "mb_used       0.370427  \n",
       "gb_charged    0.052059  \n",
       "msg_num       0.302312  \n",
       "call_num      0.767787  \n",
       "call_dur      0.787420  \n",
       "total_cost    1.000000  "
      ]
     },
     "execution_count": 112,
     "metadata": {},
     "output_type": "execute_result"
    }
   ],
   "source": [
    "megaline.query('plan == \"surf\"').drop(['user_id', 'stopped'], axis=1).corr()"
   ]
  },
  {
   "cell_type": "code",
   "execution_count": 113,
   "metadata": {},
   "outputs": [
    {
     "data": {
      "text/html": [
       "<div>\n",
       "<style scoped>\n",
       "    .dataframe tbody tr th:only-of-type {\n",
       "        vertical-align: middle;\n",
       "    }\n",
       "\n",
       "    .dataframe tbody tr th {\n",
       "        vertical-align: top;\n",
       "    }\n",
       "\n",
       "    .dataframe thead th {\n",
       "        text-align: right;\n",
       "    }\n",
       "</style>\n",
       "<table border=\"1\" class=\"dataframe\">\n",
       "  <thead>\n",
       "    <tr style=\"text-align: right;\">\n",
       "      <th></th>\n",
       "      <th>age</th>\n",
       "      <th>mb_used</th>\n",
       "      <th>gb_charged</th>\n",
       "      <th>msg_num</th>\n",
       "      <th>call_num</th>\n",
       "      <th>call_dur</th>\n",
       "      <th>total_cost</th>\n",
       "    </tr>\n",
       "  </thead>\n",
       "  <tbody>\n",
       "    <tr>\n",
       "      <td>age</td>\n",
       "      <td>1.000000</td>\n",
       "      <td>0.057871</td>\n",
       "      <td>0.014753</td>\n",
       "      <td>0.038933</td>\n",
       "      <td>0.008801</td>\n",
       "      <td>0.007136</td>\n",
       "      <td>0.016075</td>\n",
       "    </tr>\n",
       "    <tr>\n",
       "      <td>mb_used</td>\n",
       "      <td>0.057871</td>\n",
       "      <td>1.000000</td>\n",
       "      <td>0.462943</td>\n",
       "      <td>0.311726</td>\n",
       "      <td>0.276234</td>\n",
       "      <td>0.281945</td>\n",
       "      <td>0.252625</td>\n",
       "    </tr>\n",
       "    <tr>\n",
       "      <td>gb_charged</td>\n",
       "      <td>0.014753</td>\n",
       "      <td>0.462943</td>\n",
       "      <td>1.000000</td>\n",
       "      <td>0.099406</td>\n",
       "      <td>0.257895</td>\n",
       "      <td>0.254977</td>\n",
       "      <td>0.029940</td>\n",
       "    </tr>\n",
       "    <tr>\n",
       "      <td>msg_num</td>\n",
       "      <td>0.038933</td>\n",
       "      <td>0.311726</td>\n",
       "      <td>0.099406</td>\n",
       "      <td>1.000000</td>\n",
       "      <td>0.193267</td>\n",
       "      <td>0.198216</td>\n",
       "      <td>0.251938</td>\n",
       "    </tr>\n",
       "    <tr>\n",
       "      <td>call_num</td>\n",
       "      <td>0.008801</td>\n",
       "      <td>0.276234</td>\n",
       "      <td>0.257895</td>\n",
       "      <td>0.193267</td>\n",
       "      <td>1.000000</td>\n",
       "      <td>0.991255</td>\n",
       "      <td>0.546420</td>\n",
       "    </tr>\n",
       "    <tr>\n",
       "      <td>call_dur</td>\n",
       "      <td>0.007136</td>\n",
       "      <td>0.281945</td>\n",
       "      <td>0.254977</td>\n",
       "      <td>0.198216</td>\n",
       "      <td>0.991255</td>\n",
       "      <td>1.000000</td>\n",
       "      <td>0.558784</td>\n",
       "    </tr>\n",
       "    <tr>\n",
       "      <td>total_cost</td>\n",
       "      <td>0.016075</td>\n",
       "      <td>0.252625</td>\n",
       "      <td>0.029940</td>\n",
       "      <td>0.251938</td>\n",
       "      <td>0.546420</td>\n",
       "      <td>0.558784</td>\n",
       "      <td>1.000000</td>\n",
       "    </tr>\n",
       "  </tbody>\n",
       "</table>\n",
       "</div>"
      ],
      "text/plain": [
       "                 age   mb_used  gb_charged   msg_num  call_num  call_dur  \\\n",
       "age         1.000000  0.057871    0.014753  0.038933  0.008801  0.007136   \n",
       "mb_used     0.057871  1.000000    0.462943  0.311726  0.276234  0.281945   \n",
       "gb_charged  0.014753  0.462943    1.000000  0.099406  0.257895  0.254977   \n",
       "msg_num     0.038933  0.311726    0.099406  1.000000  0.193267  0.198216   \n",
       "call_num    0.008801  0.276234    0.257895  0.193267  1.000000  0.991255   \n",
       "call_dur    0.007136  0.281945    0.254977  0.198216  0.991255  1.000000   \n",
       "total_cost  0.016075  0.252625    0.029940  0.251938  0.546420  0.558784   \n",
       "\n",
       "            total_cost  \n",
       "age           0.016075  \n",
       "mb_used       0.252625  \n",
       "gb_charged    0.029940  \n",
       "msg_num       0.251938  \n",
       "call_num      0.546420  \n",
       "call_dur      0.558784  \n",
       "total_cost    1.000000  "
      ]
     },
     "execution_count": 113,
     "metadata": {},
     "output_type": "execute_result"
    }
   ],
   "source": [
    "megaline.drop(['user_id', 'stopped'], axis=1).corr()"
   ]
  },
  {
   "cell_type": "markdown",
   "metadata": {},
   "source": [
    "surprisingly, no significant correlations between age and behavior here\n",
    "the only somewhat strong is calls duration and calls number correlation.\n",
    "calls duration and total cost positive dependence is noticeable. "
   ]
  },
  {
   "cell_type": "code",
   "execution_count": 114,
   "metadata": {},
   "outputs": [
    {
     "name": "stdout",
     "output_type": "stream",
     "text": [
      "<class 'pandas.core.frame.DataFrame'>\n",
      "Int64Index: 161 entries, 0 to 497\n",
      "Data columns (total 14 columns):\n",
      "user_id       161 non-null int64\n",
      "first_name    161 non-null object\n",
      "last_name     161 non-null object\n",
      "age           161 non-null int64\n",
      "city          161 non-null object\n",
      "reg_date      161 non-null object\n",
      "plan          161 non-null object\n",
      "mb_used       161 non-null int64\n",
      "gb_charged    161 non-null int64\n",
      "msg_num       161 non-null int64\n",
      "call_num      161 non-null int64\n",
      "call_dur      161 non-null int64\n",
      "stopped       161 non-null int64\n",
      "total_cost    161 non-null int64\n",
      "dtypes: int64(9), object(5)\n",
      "memory usage: 18.9+ KB\n"
     ]
    }
   ],
   "source": [
    "megaline.query('plan == \"ultimate\"').info()"
   ]
  },
  {
   "cell_type": "markdown",
   "metadata": {},
   "source": [
    "values rounded up to gigabytes are almost invariable for both plans"
   ]
  },
  {
   "cell_type": "code",
   "execution_count": 115,
   "metadata": {},
   "outputs": [
    {
     "data": {
      "text/plain": [
       "1    157\n",
       "0      4\n",
       "Name: gb_charged, dtype: int64"
      ]
     },
     "execution_count": 115,
     "metadata": {},
     "output_type": "execute_result"
    }
   ],
   "source": [
    "megaline.query('plan == \"ultimate\"')[\"gb_charged\"].value_counts()"
   ]
  },
  {
   "cell_type": "code",
   "execution_count": 116,
   "metadata": {},
   "outputs": [
    {
     "data": {
      "text/plain": [
       "1    332\n",
       "0      7\n",
       "Name: gb_charged, dtype: int64"
      ]
     },
     "execution_count": 116,
     "metadata": {},
     "output_type": "execute_result"
    }
   ],
   "source": [
    "megaline.query('plan == \"surf\"')[\"gb_charged\"].value_counts()"
   ]
  },
  {
   "cell_type": "code",
   "execution_count": 117,
   "metadata": {},
   "outputs": [
    {
     "data": {
      "text/plain": [
       "0    466\n",
       "1     34\n",
       "Name: stopped, dtype: int64"
      ]
     },
     "execution_count": 117,
     "metadata": {},
     "output_type": "execute_result"
    }
   ],
   "source": [
    "megaline['stopped'].value_counts()"
   ]
  },
  {
   "cell_type": "code",
   "execution_count": 118,
   "metadata": {},
   "outputs": [
    {
     "data": {
      "image/png": "[encoded data removed]",
      "text/plain": [
       "<Figure size 1080x360 with 1 Axes>"
      ]
     },
     "metadata": {
      "needs_background": "light"
     },
     "output_type": "display_data"
    }
   ],
   "source": [
    "plt.figure(figsize=(15, 5))\n",
    "plt.title('Average megabytes per month for unsubscribed vs active subscribers')\n",
    "sns.boxplot( x=megaline['stopped'], y=megaline['mb_used']);"
   ]
  },
  {
   "cell_type": "code",
   "execution_count": 119,
   "metadata": {
    "scrolled": true
   },
   "outputs": [
    {
     "data": {
      "image/png": "[encoded data removed]",
      "text/plain": [
       "<Figure size 1080x360 with 1 Axes>"
      ]
     },
     "metadata": {
      "needs_background": "light"
     },
     "output_type": "display_data"
    }
   ],
   "source": [
    "plt.figure(figsize=(15, 5))\n",
    "plt.title('Average calls per month for unsubscribed vs active subscribers')\n",
    "sns.boxplot( x=megaline['stopped'], y=megaline['call_num']);"
   ]
  },
  {
   "cell_type": "markdown",
   "metadata": {},
   "source": [
    "Statistically insignificant presence of those who unsubscribed from the plan in the given period still might be peculiar to look at"
   ]
  },
  {
   "cell_type": "code",
   "execution_count": 120,
   "metadata": {},
   "outputs": [],
   "source": [
    "def treatoutliers():\n",
    "    \n",
    "    df = megaline\n",
    "    columns=['mb_used', 'msg_num', 'call_dur', 'call_num', 'total_cost']\n",
    "    factor=1.5\n",
    "    \n",
    "    for column in columns:\n",
    "        Q1 = df[column].quantile(0.25)\n",
    "        Q3 = df[column].quantile(0.75)\n",
    "        IQR = Q3 - Q1\n",
    "        ceil = Q3 + factor * IQR\n",
    "        df = df[df[column] <= ceil]\n",
    "         \n",
    "    return df\n",
    "\n",
    "megaline_outliers_filtred = treatoutliers()"
   ]
  },
  {
   "cell_type": "code",
   "execution_count": 121,
   "metadata": {},
   "outputs": [
    {
     "name": "stdout",
     "output_type": "stream",
     "text": [
      "<class 'pandas.core.frame.DataFrame'>\n",
      "Int64Index: 479 entries, 0 to 499\n",
      "Data columns (total 14 columns):\n",
      "user_id       479 non-null int64\n",
      "first_name    479 non-null object\n",
      "last_name     479 non-null object\n",
      "age           479 non-null int64\n",
      "city          479 non-null object\n",
      "reg_date      479 non-null object\n",
      "plan          479 non-null object\n",
      "mb_used       479 non-null int64\n",
      "gb_charged    479 non-null int64\n",
      "msg_num       479 non-null int64\n",
      "call_num      479 non-null int64\n",
      "call_dur      479 non-null int64\n",
      "stopped       479 non-null int64\n",
      "total_cost    479 non-null int64\n",
      "dtypes: int64(9), object(5)\n",
      "memory usage: 56.1+ KB\n"
     ]
    }
   ],
   "source": [
    "megaline_outliers_filtred.info()"
   ]
  },
  {
   "cell_type": "code",
   "execution_count": 122,
   "metadata": {},
   "outputs": [
    {
     "data": {
      "image/png": "[encoded data removed]",
      "text/plain": [
       "<Figure size 504x360 with 1 Axes>"
      ]
     },
     "metadata": {
      "needs_background": "light"
     },
     "output_type": "display_data"
    }
   ],
   "source": [
    "plt.figure(figsize=(7, 5))\n",
    "plt.title('For example, total_cost after outliers filtred')\n",
    "sns.boxplot(data=megaline_outliers_filtred['total_cost']);"
   ]
  },
  {
   "cell_type": "code",
   "execution_count": 123,
   "metadata": {},
   "outputs": [
    {
     "data": {
      "image/png": "[encoded data removed]",
      "text/plain": [
       "<Figure size 504x360 with 1 Axes>"
      ]
     },
     "metadata": {
      "needs_background": "light"
     },
     "output_type": "display_data"
    }
   ],
   "source": [
    "plt.figure(figsize=(7, 5))\n",
    "plt.title('total_cost before outliers filtred')\n",
    "sns.boxplot(data=megaline['total_cost']);"
   ]
  },
  {
   "cell_type": "code",
   "execution_count": 124,
   "metadata": {
    "scrolled": true
   },
   "outputs": [
    {
     "data": {
      "image/png": "[encoded data removed]",
      "text/plain": [
       "<Figure size 432x288 with 1 Axes>"
      ]
     },
     "metadata": {
      "needs_background": "light"
     },
     "output_type": "display_data"
    }
   ],
   "source": [
    "sns.distplot( megaline_outliers_filtred.query('plan == \"ultimate\"')[\"mb_used\"], color=\"skyblue\", kde=False)\n",
    "sns.distplot( megaline_outliers_filtred.query('plan == \"surf\"')[\"mb_used\"] , color=\"red\", kde=False)\n",
    "plt.title('Average megabytes used per month comparison graph')\n",
    "plt.legend(['ultimate', 'surf'])\n",
    "plt.ylabel('Frequency', fontsize=10);"
   ]
  },
  {
   "cell_type": "markdown",
   "metadata": {},
   "source": [
    "OK. This distribution looks not so far from normal, but with the second peak. Now y-axis depicts actual frequency of x-axis values in the dataset. Blue is for Ultimate, red is for Surf. So here we see that surf users are more active internet users, though they pay much less."
   ]
  },
  {
   "cell_type": "markdown",
   "metadata": {},
   "source": [
    "I won't plot gb_charges, since values rounded up to gigabytes are almost invariable for both plans"
   ]
  },
  {
   "cell_type": "code",
   "execution_count": 125,
   "metadata": {},
   "outputs": [
    {
     "data": {
      "image/png": "[encoded data removed]",
      "text/plain": [
       "<Figure size 432x288 with 1 Axes>"
      ]
     },
     "metadata": {
      "needs_background": "light"
     },
     "output_type": "display_data"
    }
   ],
   "source": [
    "sns.distplot( megaline_outliers_filtred.query('plan == \"ultimate\"')[\"msg_num\"] , color=\"skyblue\", label=\"Ultimate\", kde=False)\n",
    "sns.distplot( megaline_outliers_filtred.query('plan == \"surf\"')[\"msg_num\"] , color=\"red\", label=\"Surf\", kde=False)\n",
    "plt.title('Average nubmer of mesages sent per month comparison graph')\n",
    "plt.legend(['ultimate', 'surf'])\n",
    "plt.ylabel('Frequency', fontsize=10);"
   ]
  },
  {
   "cell_type": "markdown",
   "metadata": {},
   "source": [
    "Surfers are slightly more active here. Most subscribers of both plans send verly little or no messages, unsurprisingly."
   ]
  },
  {
   "cell_type": "code",
   "execution_count": 126,
   "metadata": {},
   "outputs": [
    {
     "data": {
      "image/png": "[encoded data removed]",
      "text/plain": [
       "<Figure size 432x288 with 1 Axes>"
      ]
     },
     "metadata": {
      "needs_background": "light"
     },
     "output_type": "display_data"
    }
   ],
   "source": [
    "sns.distplot( megaline_outliers_filtred.query('plan == \"ultimate\"')[\"call_dur\"] , color=\"skyblue\", label=\"Ultimate\", kde=False)\n",
    "sns.distplot( megaline_outliers_filtred.query('plan == \"surf\"')[\"call_dur\"] , color=\"red\", label=\"Surf\", kde=False)\n",
    "plt.title('Average total calls duration per month comparison graph')\n",
    "plt.legend(['ultimate', 'surf'])\n",
    "plt.ylabel('Frequency', fontsize=10);"
   ]
  },
  {
   "cell_type": "markdown",
   "metadata": {},
   "source": [
    "Again, surf users are noticeable more active. Slight near-zero peak is guessable, some people might not like to talk at all, and some of those probably prefer to expend internet traffic rather than minutes.  "
   ]
  },
  {
   "cell_type": "code",
   "execution_count": 127,
   "metadata": {},
   "outputs": [
    {
     "data": {
      "image/png": "[encoded data removed]",
      "text/plain": [
       "<Figure size 432x288 with 1 Axes>"
      ]
     },
     "metadata": {
      "needs_background": "light"
     },
     "output_type": "display_data"
    }
   ],
   "source": [
    "sns.distplot( megaline_outliers_filtred.query('plan == \"ultimate\"')[\"call_num\"] , color=\"skyblue\", label=\"Ultimate\", kde=False)\n",
    "sns.distplot( megaline_outliers_filtred.query('plan == \"surf\"')[\"call_num\"] , color=\"red\", label=\"Surf\", kde=False)\n",
    "plt.title('Average total calls number per month comparison graph')\n",
    "plt.legend(['ultimate', 'surf'])\n",
    "plt.ylabel('Frequency', fontsize=10);"
   ]
  },
  {
   "cell_type": "markdown",
   "metadata": {},
   "source": [
    "And here, surfers are the most active. Most likely, some subscribers already know that surf let's thaem pay less for more. "
   ]
  },
  {
   "cell_type": "code",
   "execution_count": 128,
   "metadata": {},
   "outputs": [
    {
     "data": {
      "text/plain": [
       "70    161\n",
       "Name: total_cost, dtype: int64"
      ]
     },
     "execution_count": 128,
     "metadata": {},
     "output_type": "execute_result"
    }
   ],
   "source": [
    "megaline.query('plan == \"ultimate\"')[\"total_cost\"].value_counts()"
   ]
  },
  {
   "cell_type": "code",
   "execution_count": 129,
   "metadata": {},
   "outputs": [
    {
     "data": {
      "text/plain": [
       "20.0"
      ]
     },
     "execution_count": 129,
     "metadata": {},
     "output_type": "execute_result"
    }
   ],
   "source": [
    "megaline.query('plan == \"surf\"')[\"total_cost\"].median()"
   ]
  },
  {
   "cell_type": "markdown",
   "metadata": {},
   "source": [
    "Average of 20 vs average of 70. there are some differences between plans in how much subscribers use services, looks like ultimate users use megaline services significantly less comparing to surf subscribers. But the average expenditures are more than 3 fold different, surf is more than 3 times cheaper. Now it's obvious, <code style=\"background:yellow;color:black\">the Ultimate is far more profitable.</code> To say exactly how much more profitable I need more info to calculate margins, but it may be several times more profitable. "
   ]
  },
  {
   "cell_type": "code",
   "execution_count": 130,
   "metadata": {},
   "outputs": [
    {
     "name": "stderr",
     "output_type": "stream",
     "text": [
      "/opt/conda/lib/python3.7/site-packages/statsmodels/nonparametric/kde.py:487: RuntimeWarning: invalid value encountered in true_divide\n",
      "  binned = fast_linbin(X, a, b, gridsize) / (delta * nobs)\n",
      "/opt/conda/lib/python3.7/site-packages/statsmodels/nonparametric/kdetools.py:34: RuntimeWarning: invalid value encountered in double_scalars\n",
      "  FAC1 = 2*(np.pi*bw/RANGE)**2\n"
     ]
    },
    {
     "data": {
      "image/png": "[encoded data removed]",
      "text/plain": [
       "<Figure size 1157.75x1080 with 42 Axes>"
      ]
     },
     "metadata": {
      "needs_background": "light"
     },
     "output_type": "display_data"
    }
   ],
   "source": [
    "pairplot1 = sns.pairplot(megaline_outliers_filtred.drop(['user_id', 'stopped', 'gb_charged'], axis = 1), hue ='plan')\n",
    "pairplot1.fig.suptitle(\"Pairplot for columns sorted by plans\", y=3);"
   ]
  },
  {
   "cell_type": "markdown",
   "metadata": {},
   "source": [
    "On the calls duration against costs graph I see exactly the moment when users exceed surf plan limits and price goes up. Costs for ultimate users look like a straight line of dot's because it's invariable. Here it's easy to see that surf users are somewhat younger. Not like with this level of zoom difference between resouces spent by different plans look that significant, not at all, Ultimate users look more active on this zoom level, comparing to graphs above, but still, this do not change our conclusion. "
   ]
  },
  {
   "cell_type": "code",
   "execution_count": 131,
   "metadata": {},
   "outputs": [
    {
     "data": {
      "text/plain": [
       "user_id       20010.132534\n",
       "age             293.512559\n",
       "mb_used       12145.202719\n",
       "gb_charged        0.020282\n",
       "msg_num        1069.618125\n",
       "call_num        580.253443\n",
       "call_dur      47245.525737\n",
       "stopped           0.063431\n",
       "total_cost     1104.575972\n",
       "dtype: float64"
      ]
     },
     "execution_count": 131,
     "metadata": {},
     "output_type": "execute_result"
    }
   ],
   "source": [
    "megaline.query('plan == \"surf\"').var()"
   ]
  },
  {
   "cell_type": "code",
   "execution_count": 132,
   "metadata": {},
   "outputs": [
    {
     "data": {
      "text/plain": [
       "user_id       22757.502174\n",
       "age             276.464674\n",
       "mb_used       12659.299301\n",
       "gb_charged        0.024379\n",
       "msg_num        1244.292780\n",
       "call_num        611.741848\n",
       "call_dur      48453.790994\n",
       "stopped           0.064053\n",
       "total_cost        0.000000\n",
       "dtype: float64"
      ]
     },
     "execution_count": 132,
     "metadata": {},
     "output_type": "execute_result"
    }
   ],
   "source": [
    "megaline.query('plan == \"ultimate\"').var()"
   ]
  },
  {
   "cell_type": "markdown",
   "metadata": {},
   "source": [
    "Call duraton histogram shows distribution closest to normal. All are somewhat skewed. Dispersion shown as a lists of variances. Some outliers are present, but that's all legit meaningful values.\n",
    "\n",
    "For Ultimate users medians are: age 48, traffic usage 309, messages 34, minutes 421, number of calls 156, total cost 70\n",
    "Standard deviations are: 17 for age, 113 for megabytes, 35 messages, 220 minutes, 192 calls, and total cost is invariable with 0. \n",
    "\n",
    "For Surf users medians are: age 45, traffic usage 285, messages 28, minutes 416, number of calls 172, total cost is 20.\n",
    "Standard deviations are: 17 for age, 110 for megabytes, 35 messages, 217 minutes, 193 calls, and 33 for total cost.\n",
    "Variances are shown above.\n",
    "\n",
    "So Surf users are slightly younger, they are exceeding modest plan limitations frequently, whilst, surprisingly, Ultimate users never exceed their plan limitations in our list, not a single person did not spend a single megabyte over the threshhold. \n",
    "\n",
    "Total expenditures vary drastically between plans. An average of 20 vs average of 70. There are significant differences in how much subscribers use services, Surfers use noticeably more, as shown on histograms. But the average expenditures are more than 3-fold different, Ultimate costs 3.5 times more in average. So it's now obvious, the Ultimate is far more profitable. To say exactly how much more profitable I need more info to calculate margins, but it might ,ost likely be over 3 times more profitable, probably even more than 5 times more profitable in terms of pure revenues. \n",
    "\n",
    "\n",
    "What number of minutes should be proposed is a question for a very different kind of research, here I'm just listing median, 0.9 quantile, and highest outlier value rounded up to the next hundred.\n",
    "<br>416 minutes is the median time spent talking for Surf subscribers. 694 minutes is enough for 90% of subscribers. 1200 minutes would exceed needs for all. \n",
    "<br>421 minutes is the median time spent talking for Ultimate subscribers. 663 minutes is enough for 90% of subscribers. 1300 minutes would exceed needs for all. \n",
    "<br>345MB is median data volume for Surfers. 511MB would be enough for 90%. 800 would exceed demand.\n",
    "<br>339MB is median data volume for Ultimate. 500MB would be enough for 90%. 700 would exceed demand.\n",
    "<br>33 SMS monthly in average for Surf users. 78 messages would satisfy 90%. 200 would exceed needs. \n",
    "<br>39 SMS monthly in average for Ultimate. 83 messages would satisfy 90%. 200 would exceed needs. \n",
    " "
   ]
  },
  {
   "cell_type": "markdown",
   "metadata": {},
   "source": [
    "### Step 4. Test the hypotheses"
   ]
  },
  {
   "cell_type": "markdown",
   "metadata": {},
   "source": [
    "    The average profit from users of Ultimate and Surf calling plans differs.\n",
    "    \n",
    "    The average profit from users in NY-NJ area is different from that of the users from other regions."
   ]
  },
  {
   "cell_type": "code",
   "execution_count": 133,
   "metadata": {},
   "outputs": [
    {
     "data": {
      "text/plain": [
       "0.0"
      ]
     },
     "execution_count": 133,
     "metadata": {},
     "output_type": "execute_result"
    }
   ],
   "source": [
    "np.var(megaline.query('plan == \"ultimate\"')[\"total_cost\"])"
   ]
  },
  {
   "cell_type": "code",
   "execution_count": 134,
   "metadata": {},
   "outputs": [
    {
     "data": {
      "text/plain": [
       "1101.3176355931464"
      ]
     },
     "execution_count": 134,
     "metadata": {},
     "output_type": "execute_result"
    }
   ],
   "source": [
    "np.var(megaline.query('plan == \"surf\"')[\"total_cost\"])"
   ]
  },
  {
   "cell_type": "markdown",
   "metadata": {},
   "source": [
    "I know that the variance for ultimate is zero, all the values are 70. Curious if this testing method can actually work as supposed with this. Let's set equal_var to false."
   ]
  },
  {
   "cell_type": "markdown",
   "metadata": {},
   "source": [
    "Here the null hypothesis is that the avg profits of ultimate and surf are equal. Alternative is that they are NOT equal. "
   ]
  },
  {
   "cell_type": "code",
   "execution_count": 135,
   "metadata": {},
   "outputs": [
    {
     "name": "stdout",
     "output_type": "stream",
     "text": [
      "p-value: 1.0001481103222582e-50\n",
      "reject the null hypothesis\n"
     ]
    }
   ],
   "source": [
    "from scipy import stats as st\n",
    "import numpy as np\n",
    "\n",
    "alpha =  0.05 \n",
    "\n",
    "results = st.ttest_ind(\n",
    "        megaline.query('plan == \"surf\"')[\"total_cost\"], \n",
    "        megaline.query('plan == \"ultimate\"')[\"total_cost\"],\n",
    "        equal_var = False\n",
    "        ) \n",
    "\n",
    "print('p-value:', results.pvalue) \n",
    "\n",
    "if (results.pvalue < alpha):\n",
    "    print(\"reject the null hypothesis\")\n",
    "else:\n",
    "    print(\"can't reject the null hypothesis\")"
   ]
  },
  {
   "cell_type": "code",
   "execution_count": 1,
   "metadata": {},
   "outputs": [
    {
     "data": {
      "text/plain": [
       "True"
      ]
     },
     "execution_count": 1,
     "metadata": {},
     "output_type": "execute_result"
    }
   ],
   "source": [
    "1.0001481103222582e-50 < 0.05"
   ]
  },
  {
   "cell_type": "markdown",
   "metadata": {},
   "source": [
    "Null hypothesis rejected. Because they are not equal, as we already know from the sections above. "
   ]
  },
  {
   "cell_type": "code",
   "execution_count": 136,
   "metadata": {},
   "outputs": [
    {
     "data": {
      "text/plain": [
       "20.0"
      ]
     },
     "execution_count": 136,
     "metadata": {},
     "output_type": "execute_result"
    }
   ],
   "source": [
    " megaline.query('plan == \"surf\"')[\"total_cost\"].median()"
   ]
  },
  {
   "cell_type": "code",
   "execution_count": 137,
   "metadata": {},
   "outputs": [
    {
     "data": {
      "text/plain": [
       "70.0"
      ]
     },
     "execution_count": 137,
     "metadata": {},
     "output_type": "execute_result"
    }
   ],
   "source": [
    " megaline.query('plan == \"ultimate\"')[\"total_cost\"].median()"
   ]
  },
  {
   "cell_type": "markdown",
   "metadata": {},
   "source": [
    "NY-NJ area"
   ]
  },
  {
   "cell_type": "code",
   "execution_count": 138,
   "metadata": {},
   "outputs": [],
   "source": [
    "ny_nj = megaline[megaline['city'].str.contains('NY') | megaline['city'].str.contains('NJ')]"
   ]
  },
  {
   "cell_type": "code",
   "execution_count": 139,
   "metadata": {},
   "outputs": [],
   "source": [
    "other = megaline[megaline['city'].str.contains('NY') | megaline['city'].str.contains('NJ') == False]"
   ]
  },
  {
   "cell_type": "code",
   "execution_count": 140,
   "metadata": {},
   "outputs": [
    {
     "data": {
      "text/plain": [
       "726.7710434536718"
      ]
     },
     "execution_count": 140,
     "metadata": {},
     "output_type": "execute_result"
    }
   ],
   "source": [
    "np.var(ny_nj[\"total_cost\"])"
   ]
  },
  {
   "cell_type": "code",
   "execution_count": 141,
   "metadata": {},
   "outputs": [
    {
     "data": {
      "text/plain": [
       "1030.250797860528"
      ]
     },
     "execution_count": 141,
     "metadata": {},
     "output_type": "execute_result"
    }
   ],
   "source": [
    "np.var(other[\"total_cost\"])"
   ]
  },
  {
   "cell_type": "markdown",
   "metadata": {},
   "source": [
    "setting equal_var to false. no idea why equal_var is not assigned automatically by the ttest method"
   ]
  },
  {
   "cell_type": "markdown",
   "metadata": {},
   "source": [
    "Here the null hypothesis is that the average profits for users in NY-NJ area are equal to that of the users from other regions. Alternative is that they are not equal. "
   ]
  },
  {
   "cell_type": "code",
   "execution_count": 2,
   "metadata": {},
   "outputs": [
    {
     "ename": "NameError",
     "evalue": "name 'ny_nj' is not defined",
     "output_type": "error",
     "traceback": [
      "\u001b[0;31m---------------------------------------------------------------------------\u001b[0m",
      "\u001b[0;31mNameError\u001b[0m                                 Traceback (most recent call last)",
      "\u001b[0;32m<ipython-input-2-3dfa122d40ed>\u001b[0m in \u001b[0;36m<module>\u001b[0;34m\u001b[0m\n\u001b[1;32m      5\u001b[0m \u001b[0;34m\u001b[0m\u001b[0m\n\u001b[1;32m      6\u001b[0m results = st.ttest_ind(\n\u001b[0;32m----> 7\u001b[0;31m         \u001b[0mny_nj\u001b[0m\u001b[0;34m[\u001b[0m\u001b[0;34m\"total_cost\"\u001b[0m\u001b[0;34m]\u001b[0m\u001b[0;34m,\u001b[0m\u001b[0;34m\u001b[0m\u001b[0;34m\u001b[0m\u001b[0m\n\u001b[0m\u001b[1;32m      8\u001b[0m         \u001b[0mother\u001b[0m\u001b[0;34m[\u001b[0m\u001b[0;34m\"total_cost\"\u001b[0m\u001b[0;34m]\u001b[0m\u001b[0;34m,\u001b[0m\u001b[0;34m\u001b[0m\u001b[0;34m\u001b[0m\u001b[0m\n\u001b[1;32m      9\u001b[0m         equal_var = False) \n",
      "\u001b[0;31mNameError\u001b[0m: name 'ny_nj' is not defined"
     ]
    }
   ],
   "source": [
    "from scipy import stats as st\n",
    "import numpy as np\n",
    "\n",
    "alpha =  0.05\n",
    "\n",
    "results = st.ttest_ind(\n",
    "        ny_nj[\"total_cost\"], \n",
    "        other[\"total_cost\"],\n",
    "        equal_var = False) \n",
    "\n",
    "print('p-value:', results.pvalue) \n",
    "\n",
    "if (results.pvalue < alpha):\n",
    "    print(\"reject the null hypothesis\")\n",
    "else:\n",
    "    print(\"can't reject the null hypothesis\")"
   ]
  },
  {
   "cell_type": "markdown",
   "metadata": {},
   "source": [
    "OK. But I would still reject it. As if the alpha value was set to 0.055\n",
    "</p>\n",
    "5.4% is not a great deal of likelihood of NY-NJ area profits being higher in comparison to other regions combined. Most likely they are not equal. "
   ]
  },
  {
   "cell_type": "code",
   "execution_count": 143,
   "metadata": {},
   "outputs": [
    {
     "name": "stdout",
     "output_type": "stream",
     "text": [
      "30.0 != 47.0\n"
     ]
    }
   ],
   "source": [
    "print (ny_nj[\"total_cost\"].median(), '!=', other[\"total_cost\"].median())"
   ]
  },
  {
   "cell_type": "markdown",
   "metadata": {},
   "source": [
    "and here in our data set they are nothing like equal, though it doesn't "
   ]
  },
  {
   "cell_type": "markdown",
   "metadata": {},
   "source": [
    "### Conclusions"
   ]
  },
  {
   "cell_type": "markdown",
   "metadata": {},
   "source": [
    "The Ultimate plan is far more profitable for the company, Ultimate users use slightly less resources and pay 350% more than Surf subscribers in average. To say exactly how much more profitable is Ultimate I need more info to calculate margins, but most likely it's average margins are more than 3 times higher than those for surf plan. I would request margins calculation formula, to give precise value of how many times more profitable. \n",
    "It was shown that the average profit from users of Ultimate and Surf calling plans differs, and the average expenditures for users in NY-NJ area is different from that of users from other regions."
   ]
  }
 ],
 "metadata": {
  "kernelspec": {
   "display_name": "Python 3",
   "language": "python",
   "name": "python3"
  },
  "language_info": {
   "codemirror_mode": {
    "name": "ipython",
    "version": 3
   },
   "file_extension": ".py",
   "mimetype": "text/x-python",
   "name": "python",
   "nbconvert_exporter": "python",
   "pygments_lexer": "ipython3",
   "version": "3.7.4"
  }
 },
 "nbformat": 4,
 "nbformat_minor": 4
}
